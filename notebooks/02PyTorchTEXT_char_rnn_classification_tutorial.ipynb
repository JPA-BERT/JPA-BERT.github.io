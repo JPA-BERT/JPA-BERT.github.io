{
  "nbformat": 4,
  "nbformat_minor": 0,
  "metadata": {
    "colab": {
      "name": "02PyTorchTEXT_char_rnn_classification_tutorial.ipynb",
      "provenance": [],
      "include_colab_link": true
    },
    "kernelspec": {
      "display_name": "Python 3",
      "language": "python",
      "name": "python3"
    },
    "language_info": {
      "codemirror_mode": {
        "name": "ipython",
        "version": 3
      },
      "file_extension": ".py",
      "mimetype": "text/x-python",
      "name": "python",
      "nbconvert_exporter": "python",
      "pygments_lexer": "ipython3",
      "version": "3.7.7"
    }
  },
  "cells": [
    {
      "cell_type": "markdown",
      "metadata": {
        "id": "view-in-github",
        "colab_type": "text"
      },
      "source": [
        "<a href=\"https://colab.research.google.com/github/JPA-BERT/jpa-bert.github.io/blob/master/notebooks/02PyTorchTEXT_char_rnn_classification_tutorial.ipynb\" target=\"_parent\"><img src=\"https://colab.research.google.com/assets/colab-badge.svg\" alt=\"Open In Colab\"/></a>"
      ]
    },
    {
      "cell_type": "markdown",
      "metadata": {
        "id": "j9qHU2dUziAK",
        "colab_type": "text"
      },
      "source": [
        "---\n",
        "    \n",
        "このファイルは PyTorch のチュートリアルにあるファイル <https://pytorch.org/tutorials/intermediate/char_rnn_classification_tutorial.html> を翻訳して，加筆修正したもの\n",
        "です。\n",
        "\n",
        "すぐれたチュートリアルの内容，コードを公開された Sean robertson および PyTorch 開発陣に敬意を表します。\n",
        "\n",
        "- Original: https://pytorch.org/tutorials/intermediate/char_rnn_classification_tutorial.html\n",
        "- date: 2020-0811\n",
        "- translated: 浅川伸一\n",
        "\n",
        "---"
      ]
    },
    {
      "cell_type": "code",
      "metadata": {
        "id": "pv0Dc5kkziAL",
        "colab_type": "code",
        "colab": {}
      },
      "source": [
        "%load_ext autoreload\n",
        "%autoreload 2\n"
      ],
      "execution_count": null,
      "outputs": []
    },
    {
      "cell_type": "code",
      "metadata": {
        "id": "I9Krxf4yziAR",
        "colab_type": "code",
        "colab": {}
      },
      "source": [
        "# from https://github.com/dmlc/xgboost/issues/1715\n",
        "import os\n",
        "os.environ['KMP_DUPLICATE_LIB_OK']='True'"
      ],
      "execution_count": null,
      "outputs": []
    },
    {
      "cell_type": "code",
      "metadata": {
        "colab_type": "code",
        "id": "l2a2IA38igPj",
        "colab": {}
      },
      "source": [
        "%matplotlib inline"
      ],
      "execution_count": null,
      "outputs": []
    },
    {
      "cell_type": "markdown",
      "metadata": {
        "colab_type": "text",
        "id": "_uA0UH4AigPz"
      },
      "source": [
        "# ゼロからの NLP (自然言語処理): 文字レベル RNN による苗字名の分類\n",
        "\n",
        "<!--# NLP From Scratch: Classifying Names with a Character-Level RNN-->\n",
        "\n",
        "**Author**: [Sean Robertson](https://github.com/spro/practical-pytorch)\n",
        "\n",
        "<!--\n",
        "We will be building and training a basic character-level RNN to classify words. \n",
        "This tutorial, along with the following two, show how to do preprocess data for NLP modeling \"from scratch\", in particular not using many of the convenience functions of `torchtext`, so you can see how preprocessing for NLP modeling works at a low level.\n",
        "\n",
        "A character-level RNN reads words as a series of characters - outputting a prediction and \"hidden state\" at each step, feeding its previous hidden state into each next step. We take the final prediction to be the output, i.e. which class the word belongs to.\n",
        "\n",
        "Specifically, we'll train on a few thousand surnames from 18 languages of origin, and predict which language a name is from based on the  spelling:\n",
        "-->\n",
        "\n",
        "単語を分類するための基本的な文字レベルの RNN を構築して，訓練してみましょう。\n",
        "このチュートリアルでは 後続する 2 つのチュートリアルと併せて NLP モデリングのためのデータの前処理を「ゼロから」行う方法を紹介します。\n",
        "\n",
        "文字レベルの RNN は 単語を一連の文字として読み込み，各ステップで予測と「隠れ層の状態」を出力し，以前の隠さ層状態を次のステップに送り込ます。\n",
        "最終的な予測値を出力とし，その単語がどのクラスに属しているかを出力します。\n",
        "\n",
        "具体的には 18 の言語の苗字を数千個学習し，名前の綴りからその名前がどの言語の名前かを予測します。\n",
        "\n",
        "```bash\n",
        "$ python predict.py Hinton\n",
        "(-0.47) Scottish\n",
        "(-1.52) English\n",
        "(-3.57) Irish\n",
        "\n",
        "$ python predict.py Schmidhuber\n",
        "(-0.19) German\n",
        "(-2.48) Czech\n",
        "(-2.68) Dutch\n",
        "```\n",
        "\n",
        "**推薦図書:**\n",
        "<!--**Recommended Reading:**-->\n",
        "\n",
        "<!--I assume you have at least installed PyTorch, know Python, and understand Tensors:-->\n",
        "\n",
        "このチュートリアルでは，最低限，インストール済 PyTorch，Python を知っていること，Tensors を理解していることを前提としています。\n",
        "\n",
        "- https://pytorch.org/ インストール方法について<!--For installation instructions-->\n",
        "- [deep_learning_60min_blitz](https://pytorch.org/tutorials/beginner/deep_learning_60min_blitz.html) PyTorch を始めるには <!--to get started with PyTorch in general-->\n",
        "- [pytorch_with_examples](https://pytorch.org/tutorials/beginner/pytorch_with_examples.html) 広範囲で深い概観 <!--for a wide and deep overview-->\n",
        "- [former_torchies_tutorial](https://pytorch.org/tutorials/beginner/former_torchies_tutorial.html?highlight=former%20tutorials) Lua ユーザのためのチュートリアル <!--if you are former Lua Torch user-->\n",
        "\n",
        "リカレントニューラルネットワークとその動作について有益な情報:\n",
        "<!--It would also be useful to know about RNNs and how they work:-->\n",
        "\n",
        "-  [The Unreasonable Effectiveness of Recurrent Neural Networks](https://karpathy.github.io/2015/05/21/rnn-effectiveness/) 有益な事例の例証 <!--shows a bunch of real life examples -->\n",
        "-  [Understanding LSTM Networks](https://colah.github.io/posts/2015-08-Understanding-LSTMs/) 具体的には LSTM についてですが，一般的には RNN についても参考になります。<!--is about LSTMs specifically but also informative about RNNs in  general-->\n",
        "\n",
        "## データの準備\n",
        "<!--\n",
        "## Preparing the Data\n",
        "-->\n",
        "\n",
        "### 覚書:\n",
        "<!--\n",
        "### Note:\n",
        "-->\n",
        "\n",
        "ここからデータをダウンロードして，カレントディレクトリに解凍してください\n",
        "<!--\n",
        "Download the data from [here](https://download.pytorch.org/tutorial/data.zip) and extract it to the current directory.\n",
        "-->\n",
        "\n",
        "``data/names`` ディレクトリは 18 個のテキストファイルがあります。各々 \"\\[Language\\].txt\" というファイル名です。\n",
        "各ファイルは各行に一つ名前が書かれています。順番はランダマイズされていますが，ユニコードをアスキー文字に変換する必要があります。\n",
        "<!--\n",
        "Included in the ``data/names`` directory are 18 text files named as \"[Language].txt\". \n",
        "Each file contains a bunch of names, one name per line, mostly romanized (but we still need to convert from Unicode to ASCII).\n",
        "-->\n",
        "\n",
        "最終的には言語ごとの名前のリストの辞書 ``{language: [names ...]}`` です。\n",
        "一般的な変数 \"category\" と \"line\"（ここでは言語と名前を表す）は後で必要となる拡張性のためです。\n",
        "<!--\n",
        "We'll end up with a dictionary of lists of names per language, ``{language: [names ...]}``. \n",
        "The generic variables \"category\" and \"line\" (for language and name in our case) are used for later extensibility.\n",
        "-->\n"
      ]
    },
    {
      "cell_type": "code",
      "metadata": {
        "id": "aZmCTGvmziAb",
        "colab_type": "code",
        "colab": {
          "base_uri": "https://localhost:8080/",
          "height": 578
        },
        "outputId": "615ffd96-7a99-43a9-c694-23dc5c214c79"
      },
      "source": [
        "#訳注: 上で説明されている辞書をダウンロードして解凍。\n",
        "#行頭の # を削除して，このセルを実行すること\n",
        "!wget https://download.pytorch.org/tutorial/data.zip\n",
        "!unzip data.zip   "
      ],
      "execution_count": null,
      "outputs": [
        {
          "output_type": "stream",
          "text": [
            "--2020-08-10 23:57:19--  https://download.pytorch.org/tutorial/data.zip\n",
            "Resolving download.pytorch.org (download.pytorch.org)... 13.226.50.63, 13.226.50.24, 13.226.50.98, ...\n",
            "Connecting to download.pytorch.org (download.pytorch.org)|13.226.50.63|:443... connected.\n",
            "HTTP request sent, awaiting response... 200 OK\n",
            "Length: 2882130 (2.7M) [application/zip]\n",
            "Saving to: ‘data.zip’\n",
            "\n",
            "data.zip            100%[===================>]   2.75M  13.1MB/s    in 0.2s    \n",
            "\n",
            "2020-08-10 23:57:20 (13.1 MB/s) - ‘data.zip’ saved [2882130/2882130]\n",
            "\n",
            "Archive:  data.zip\n",
            "   creating: data/\n",
            "  inflating: data/eng-fra.txt        \n",
            "   creating: data/names/\n",
            "  inflating: data/names/Arabic.txt   \n",
            "  inflating: data/names/Chinese.txt  \n",
            "  inflating: data/names/Czech.txt    \n",
            "  inflating: data/names/Dutch.txt    \n",
            "  inflating: data/names/English.txt  \n",
            "  inflating: data/names/French.txt   \n",
            "  inflating: data/names/German.txt   \n",
            "  inflating: data/names/Greek.txt    \n",
            "  inflating: data/names/Irish.txt    \n",
            "  inflating: data/names/Italian.txt  \n",
            "  inflating: data/names/Japanese.txt  \n",
            "  inflating: data/names/Korean.txt   \n",
            "  inflating: data/names/Polish.txt   \n",
            "  inflating: data/names/Portuguese.txt  \n",
            "  inflating: data/names/Russian.txt  \n",
            "  inflating: data/names/Scottish.txt  \n",
            "  inflating: data/names/Spanish.txt  \n",
            "  inflating: data/names/Vietnamese.txt  \n"
          ],
          "name": "stdout"
        }
      ]
    },
    {
      "cell_type": "code",
      "metadata": {
        "colab_type": "code",
        "id": "5fJeJtrLigP0",
        "colab": {
          "base_uri": "https://localhost:8080/",
          "height": 71
        },
        "outputId": "3c86dfd0-7880-424a-c856-7a958e6320a1"
      },
      "source": [
        "from __future__ import unicode_literals, print_function, division\n",
        "from io import open\n",
        "import glob\n",
        "import os\n",
        "\n",
        "def findFiles(path): \n",
        "    return glob.glob(path)\n",
        "\n",
        "print(findFiles('data/names/*.txt'))\n",
        "\n",
        "import unicodedata\n",
        "import string\n",
        "\n",
        "all_letters = string.ascii_letters + \" .,;'\"\n",
        "n_letters = len(all_letters)\n",
        "\n",
        "# ユニコード文字列をアスキー文字列へ変換, thanks to https://stackoverflow.com/a/518232/2809427\n",
        "def unicodeToAscii(s):\n",
        "    return ''.join(\n",
        "        c for c in unicodedata.normalize('NFD', s)\n",
        "        if unicodedata.category(c) != 'Mn'\n",
        "        and c in all_letters\n",
        "    )\n",
        "\n",
        "print(unicodeToAscii('Ślusàrski'))  # 訳注: `Slusarski` と画面に印字されれば正しく動作している\n",
        "\n",
        "# 辞書 category_lines の作成，言語毎の苗字のリスト\n",
        "category_lines = {}  # 訳注: 空の辞書の定義\n",
        "all_categories = []  # 訳注: 空のリストの定義\n",
        "\n",
        "# ファイルを一つ読み込み，行へと分割する\n",
        "def readLines(filename):\n",
        "    lines = open(filename, encoding='utf-8').read().strip().split('\\n')\n",
        "    return [unicodeToAscii(line) for line in lines]\n",
        "\n",
        "for filename in findFiles('data/names/*.txt'):\n",
        "    category = os.path.splitext(os.path.basename(filename))[0]\n",
        "    all_categories.append(category)\n",
        "    lines = readLines(filename)\n",
        "    category_lines[category] = lines\n",
        "\n",
        "n_categories = len(all_categories)"
      ],
      "execution_count": null,
      "outputs": [
        {
          "output_type": "stream",
          "text": [
            "['data/names/Portuguese.txt', 'data/names/Greek.txt', 'data/names/Arabic.txt', 'data/names/Korean.txt', 'data/names/Italian.txt', 'data/names/Scottish.txt', 'data/names/Vietnamese.txt', 'data/names/Japanese.txt', 'data/names/German.txt', 'data/names/Russian.txt', 'data/names/Polish.txt', 'data/names/Czech.txt', 'data/names/Irish.txt', 'data/names/French.txt', 'data/names/Spanish.txt', 'data/names/English.txt', 'data/names/Dutch.txt', 'data/names/Chinese.txt']\n",
            "Slusarski\n"
          ],
          "name": "stdout"
        }
      ]
    },
    {
      "cell_type": "markdown",
      "metadata": {
        "colab_type": "text",
        "id": "YvAbAOihigP6"
      },
      "source": [
        "<!--\n",
        "Now we have ``category_lines``, a dictionary mapping each category (language) to a list of lines (names). We also kept track of ``all_categories`` (just a list of languages) and ``n_categories`` for later reference.\n",
        "-->\n",
        "\n",
        "これで ``category_lines`` ができました。\n",
        "これは各カテゴリ(言語)と行(名前)のリストを対応付けた辞書です。\n",
        "また 後で参照できるように ``all_categories`` (単に言語のリスト) と ``n_categories`` も保持しておきます。\n",
        "\n"
      ]
    },
    {
      "cell_type": "code",
      "metadata": {
        "colab_type": "code",
        "id": "slni6xoOigP8",
        "colab": {
          "base_uri": "https://localhost:8080/",
          "height": 51
        },
        "outputId": "add90d18-3419-4846-fcf9-a80027a96378"
      },
      "source": [
        "print(category_lines['Italian'][:5])\n",
        "print(category_lines['Japanese'][:10]) "
      ],
      "execution_count": null,
      "outputs": [
        {
          "output_type": "stream",
          "text": [
            "['Abandonato', 'Abatangelo', 'Abatantuono', 'Abate', 'Abategiovanni']\n",
            "['Abe', 'Abukara', 'Adachi', 'Aida', 'Aihara', 'Aizawa', 'Ajibana', 'Akaike', 'Akamatsu', 'Akatsuka']\n"
          ],
          "name": "stdout"
        }
      ]
    },
    {
      "cell_type": "markdown",
      "metadata": {
        "colab_type": "text",
        "id": "wgvpsx7zigQW"
      },
      "source": [
        "## 名前をテンソルへ変換する\n",
        "<!--\n",
        "## Turning Names into Tensors\n",
        "\n",
        "Now that we have all the names organized, we need to turn them into Tensors to make any use of them.\n",
        "\n",
        "To represent a single letter, we use a \"one-hot vector\" of size ``<1 x n_letters>``. A one-hot vector is filled with 0s except for a 1 at index of the current letter, e.g. ``\"b\" = <0 1 0 0 0 ...>``.\n",
        "\n",
        "To make a word we join a bunch of those into a 2D matrix ``<line_length x 1 x n_letters>``.\n",
        "\n",
        "That extra 1 dimension is because PyTorch assumes everything is in batches - we're just using a batch size of 1 here.\n",
        "-->\n",
        "\n",
        "これですべての名前が整理できました。そこで，次にこの名前データをテンソルに変換します。\n",
        "\n",
        "1 つの文字を表現するために サイズが ``<1 x n_letters>`` の  **ワンホットベクトル** を使います。\n",
        "ワンホットベクトルとは，現在の文字のインデックスにあたる要素が 1 で他はすべて 0 で埋められたベクトルを指します。\n",
        "\n",
        "単語を作るためには，ワンホットベクトルの集まりを 2次元の行列 ``<line_length x 1 x n_letters>`` に連接します。\n",
        "\n",
        "この余分な1次元は、PyTorchがすべてバッチ単位であると仮定しているからです - ここではバッチサイズを 1 としています。\n",
        "\n",
        "\n"
      ]
    },
    {
      "cell_type": "code",
      "metadata": {
        "colab_type": "code",
        "id": "dn_m2x1rigQX",
        "colab": {
          "base_uri": "https://localhost:8080/",
          "height": 476
        },
        "outputId": "d96df5f2-8cf4-44cf-d290-4560828d1ad8"
      },
      "source": [
        "import torch\n",
        "\n",
        "# 文字 \"a\" のインデックスは 0, \"b\" のインデックスは 1 のように\n",
        "# Find letter index from all_letters, e.g. \"a\" = 0\n",
        "def letterToIndex(letter):\n",
        "    return all_letters.find(letter)\n",
        "\n",
        "# Just for demonstration, turn a letter into a <1 x n_letters> Tensor\n",
        "def letterToTensor(letter):\n",
        "    tensor = torch.zeros(1, n_letters)\n",
        "    tensor[0][letterToIndex(letter)] = 1\n",
        "    return tensor\n",
        "\n",
        "# Turn a line into a <line_length x 1 x n_letters>,\n",
        "# or an array of one-hot letter vectors\n",
        "def lineToTensor(line):\n",
        "    tensor = torch.zeros(len(line), 1, n_letters)\n",
        "    for li, letter in enumerate(line):\n",
        "        tensor[li][0][letterToIndex(letter)] = 1\n",
        "    return tensor\n",
        "\n",
        "print(letterToTensor('J'))\n",
        "print(lineToTensor('Jones').size())\n",
        "\n",
        "print('-' * 79)\n",
        "#print(letterToTensor('a'))\n",
        "print('n_letters:', n_letters)\n",
        "print('all_letters:', all_letters)\n",
        "print('n_categories:', n_categories)\n",
        "for i, cat in enumerate(all_categories):\n",
        "    print(i+1, cat, len(category_lines[cat]))"
      ],
      "execution_count": null,
      "outputs": [
        {
          "output_type": "stream",
          "text": [
            "tensor([[0., 0., 0., 0., 0., 0., 0., 0., 0., 0., 0., 0., 0., 0., 0., 0., 0., 0.,\n",
            "         0., 0., 0., 0., 0., 0., 0., 0., 0., 0., 0., 0., 0., 0., 0., 0., 0., 1.,\n",
            "         0., 0., 0., 0., 0., 0., 0., 0., 0., 0., 0., 0., 0., 0., 0., 0., 0., 0.,\n",
            "         0., 0., 0.]])\n",
            "torch.Size([5, 1, 57])\n",
            "-------------------------------------------------------------------------------\n",
            "n_letters: 57\n",
            "all_letters: abcdefghijklmnopqrstuvwxyzABCDEFGHIJKLMNOPQRSTUVWXYZ .,;'\n",
            "n_categories: 18\n",
            "1 Portuguese 74\n",
            "2 Greek 203\n",
            "3 Arabic 2000\n",
            "4 Korean 94\n",
            "5 Italian 709\n",
            "6 Scottish 100\n",
            "7 Vietnamese 73\n",
            "8 Japanese 991\n",
            "9 German 724\n",
            "10 Russian 9408\n",
            "11 Polish 139\n",
            "12 Czech 519\n",
            "13 Irish 232\n",
            "14 French 277\n",
            "15 Spanish 298\n",
            "16 English 3668\n",
            "17 Dutch 297\n",
            "18 Chinese 268\n"
          ],
          "name": "stdout"
        }
      ]
    },
    {
      "cell_type": "markdown",
      "metadata": {
        "colab_type": "text",
        "id": "KsWRjcoJigQ1"
      },
      "source": [
        "## ネットワークの作成\n",
        "\n",
        "autograd 導入以前は，\n",
        "Torch でリカレントニューラルネットワークを作成するには，各繰り返し学習の各回で各層のパラメータをクローニングして保存する必要がありました。\n",
        "各層は隠れ層の状態や勾配情報を保持していました。現在では計算グラフ自体によって完全に処理されるようになっています。\n",
        "このことにより，RNN は，通常のフィードフォワード層として，非常に「純粋な」方法で実装可能になりました。\n",
        "\n",
        "以下の RNN モジュールは（ほとんどが[PyTorch for Torchユーザチュートリアル](https://pytorch.org/tutorials/beginner/former_torchies/nn_tutorial.html#example-2-recurrent-net) から複製されたものです。\n",
        "\n",
        "<!--\n",
        "## Creating the Network\n",
        "\n",
        "Before autograd, creating a recurrent neural network in Torch involved cloning the parameters of a layer over several timesteps. \n",
        "The layers held hidden state and gradients which are now entirely handled by the graph itself. \n",
        "This means you can implement a RNN in a very \"pure\" way, as regular feed-forward layers.\n",
        "\n",
        "This RNN module (mostly copied from [the PyTorch for Torch users tutorial](https://pytorch.org/tutorials/beginner/former_torchies/nn_tutorial.html#example-2-recurrent-net) is just 2 linear layers which operate on an input and hidden state, with a LogSoftmax layer after the output.\n",
        "-->\n",
        "\n",
        "<!--\n",
        ".. figure:: https://i.imgur.com/Z2xbySO.png\n",
        "   :alt:\n",
        "-->\n",
        "<img src=\"https://i.imgur.com/Z2xbySO.png\" style=\"width:33%\">\n"
      ]
    },
    {
      "cell_type": "code",
      "metadata": {
        "colab_type": "code",
        "id": "6ItfTL_JigQ2",
        "colab": {}
      },
      "source": [
        "import torch.nn as nn\n",
        "\n",
        "class RNN(nn.Module):\n",
        "    def __init__(self, input_size, hidden_size, output_size):\n",
        "        super(RNN, self).__init__()\n",
        "\n",
        "        self.hidden_size = hidden_size\n",
        "\n",
        "        self.i2h = nn.Linear(input_size + hidden_size, hidden_size)\n",
        "        self.i2o = nn.Linear(input_size + hidden_size, output_size)\n",
        "        self.softmax = nn.LogSoftmax(dim=1)\n",
        "\n",
        "    def forward(self, input, hidden):\n",
        "        combined = torch.cat((input, hidden), 1)\n",
        "        hidden = self.i2h(combined)\n",
        "        output = self.i2o(combined)\n",
        "        output = self.softmax(output)\n",
        "        return output, hidden\n",
        "\n",
        "    def initHidden(self):\n",
        "        return torch.zeros(1, self.hidden_size)\n",
        "\n",
        "n_hidden = 128\n",
        "rnn = RNN(n_letters, n_hidden, n_categories)"
      ],
      "execution_count": null,
      "outputs": []
    },
    {
      "cell_type": "markdown",
      "metadata": {
        "colab_type": "text",
        "id": "f_e8l0ObigQ6"
      },
      "source": [
        "<!--\n",
        "To run a step of this network we need to pass an input (in our case, the Tensor for the current letter) and a previous hidden state (which we initialize as zeros at first). \n",
        "We'll get back the output (probability of each language) and a next hidden state (which we keep for the next step).\n",
        "-->\n",
        "\n",
        "このネットワークのステップを実行するには 入力（ここでは現在の文字のテンソル）と前の隠れ層状態（最初はゼロで初期化される）を渡す必要があります。\n",
        "出力(入力文字列が，特定の言語の苗字である確率) と 次の時刻のために保持しておく隠れ状態を返します。\n",
        "\n",
        "\n"
      ]
    },
    {
      "cell_type": "code",
      "metadata": {
        "colab_type": "code",
        "id": "mBPOtB-qigQ-",
        "colab": {}
      },
      "source": [
        "input = letterToTensor('A')\n",
        "hidden = torch.zeros(1, n_hidden)\n",
        "\n",
        "output, next_hidden = rnn(input, hidden)\n",
        "\n",
        "#訳注: input は Python で input は予約語なので使わない方が良いと思います。\n"
      ],
      "execution_count": null,
      "outputs": []
    },
    {
      "cell_type": "markdown",
      "metadata": {
        "colab_type": "text",
        "id": "3KSQPSSMigRH"
      },
      "source": [
        "<!--\n",
        "For the sake of efficiency we don't want to be creating a new Tensor for every step, so we will use ``lineToTensor`` instead of ``letterToTensor`` and use slices. \n",
        "This could be further optimized by pre-computing batches of Tensors.\n",
        "-->\n",
        "\n",
        "効率化重視のため，各ステップで新しいテンソルを作成したくないので，``letterToTensor`` の代わりに ``lineToTensor``を使い，スライスを使用します。\n",
        "これはテンソルのバッチを事前に計算しておくことでさらに最適化できます。\n",
        "\n",
        "\n"
      ]
    },
    {
      "cell_type": "code",
      "metadata": {
        "colab_type": "code",
        "id": "Bf6ZLAEuigRI",
        "colab": {
          "base_uri": "https://localhost:8080/",
          "height": 68
        },
        "outputId": "9a3f29d3-99fb-47fa-d7ee-589755cce118"
      },
      "source": [
        "input = lineToTensor('Albert')\n",
        "hidden = torch.zeros(1, n_hidden)\n",
        "\n",
        "output, next_hidden = rnn(input[0], hidden)\n",
        "print(output)"
      ],
      "execution_count": null,
      "outputs": [
        {
          "output_type": "stream",
          "text": [
            "tensor([[-2.9595, -2.8714, -2.8996, -2.8304, -2.8628, -2.9444, -2.8762, -2.9535,\n",
            "         -2.9470, -2.9129, -2.8332, -2.9319, -2.8396, -2.8169, -2.8613, -2.8873,\n",
            "         -2.9611, -2.8578]], grad_fn=<LogSoftmaxBackward>)\n"
          ],
          "name": "stdout"
        }
      ]
    },
    {
      "cell_type": "markdown",
      "metadata": {
        "colab_type": "text",
        "id": "mTVb5x2oigRP"
      },
      "source": [
        "<!--\n",
        "As you can see the output is a ``<1 x n_categories>`` Tensor, where every item is the likelihood of that category (higher is more likely).\n",
        "-->\n",
        "\n",
        "見ての通り 出力は ``<1 x n_categories>`` のテンソルで 各項目はそのカテゴリの尤度を表しています（高いほど可能性が高い）。\n",
        "\n",
        "\n"
      ]
    },
    {
      "cell_type": "markdown",
      "metadata": {
        "colab_type": "text",
        "id": "0KAZGIevigRQ"
      },
      "source": [
        "# 訓練\n",
        "\n",
        "## 訓練の準備\n",
        "<!--\n",
        "# Training\n",
        "\n",
        "## Preparing for Training\n",
        "-->\n",
        "\n",
        "<!--\n",
        "Before going into training we should make a few helper functions. \n",
        "The first is to interpret the output of the network, which we know to be a likelihood of each category. \n",
        "We can use ``Tensor.topk`` to get the index of the greatest value:\n",
        "-->\n",
        "\n",
        "訓練に入る前に，ヘルパー関数をいくつか作る必要があります。\n",
        "最初のヘルパー関数は，ネットワークの出力を解釈する関数で，各カテゴリの尤度を知るためです。\n",
        "最大値を与えるインデックスを得るために ``Tensor.topk`` を使うことができます。\n",
        "(訳注: Tensor.topk は「トップ k」を出力します)\n",
        "\n"
      ]
    },
    {
      "cell_type": "code",
      "metadata": {
        "colab_type": "code",
        "id": "x7yvicLbigRQ",
        "colab": {
          "base_uri": "https://localhost:8080/",
          "height": 34
        },
        "outputId": "a5814700-2a1d-469f-8226-f89efa56e207"
      },
      "source": [
        "def categoryFromOutput(output):\n",
        "    top_n, top_i = output.topk(1)\n",
        "    category_i = top_i[0].item()\n",
        "    return all_categories[category_i], category_i\n",
        "\n",
        "print(categoryFromOutput(output))"
      ],
      "execution_count": null,
      "outputs": [
        {
          "output_type": "stream",
          "text": [
            "('French', 13)\n"
          ],
          "name": "stdout"
        }
      ]
    },
    {
      "cell_type": "markdown",
      "metadata": {
        "colab_type": "text",
        "id": "8UlsYp-gigRb"
      },
      "source": [
        "<!--\n",
        "We will also want a quick way to get a training example (a name and its language):\n",
        "-->\n",
        "また，訓練事例（名前とその言語）を手っ取り早く手に入れる方法であるヘルパー関数も欲しいところです。\n",
        "\n",
        "\n"
      ]
    },
    {
      "cell_type": "code",
      "metadata": {
        "colab_type": "code",
        "id": "tzd78og7igRe",
        "colab": {
          "base_uri": "https://localhost:8080/",
          "height": 187
        },
        "outputId": "44dfab96-3894-4fce-b0c6-20467830253a"
      },
      "source": [
        "import random\n",
        "\n",
        "def randomChoice(l):\n",
        "    return l[random.randint(0, len(l) - 1)]\n",
        "\n",
        "def randomTrainingExample():\n",
        "    category = randomChoice(all_categories)\n",
        "    line = randomChoice(category_lines[category])\n",
        "    category_tensor = torch.tensor([all_categories.index(category)], dtype=torch.long)\n",
        "    line_tensor = lineToTensor(line)\n",
        "    return category, line, category_tensor, line_tensor\n",
        "\n",
        "for i in range(10):\n",
        "    category, line, category_tensor, line_tensor = randomTrainingExample()\n",
        "    print('category =', category, '/ line =', line)\n",
        "    \n"
      ],
      "execution_count": null,
      "outputs": [
        {
          "output_type": "stream",
          "text": [
            "category = Japanese / line = Katayanagi\n",
            "category = Dutch / line = Romeijnsen\n",
            "category = Polish / line = Sokal\n",
            "category = Portuguese / line = Santana\n",
            "category = Portuguese / line = Rocha\n",
            "category = Russian / line = Zheltov\n",
            "category = Russian / line = Holomenko\n",
            "category = Spanish / line = Araujo\n",
            "category = Portuguese / line = Ferreiro\n",
            "category = French / line = Page\n"
          ],
          "name": "stdout"
        }
      ]
    },
    {
      "cell_type": "markdown",
      "metadata": {
        "colab_type": "text",
        "id": "T9m9y7LZigRj"
      },
      "source": [
        "# ネットワークの訓練\n",
        "<!--\n",
        "# Training the Network\n",
        "\n",
        "Now all it takes to train this network is show it a bunch of examples, have it make guesses, and tell it if it's wrong.\n",
        "\n",
        "For the loss function ``nn.NLLLoss`` is appropriate, since the last layer of the RNN is ``nn.LogSoftmax``.\n",
        "-->\n",
        "\n",
        "このネットワークを訓練するために必要なのは，たくさんの例を見せて，推測をさせ，間違っていたら教えてあげることだけです。\n",
        "\n",
        "損失関数には ``nn.NLLLoss`` が適しています。\n",
        "RNN の最後層は ``nn.LogSoftmax`` です。\n"
      ]
    },
    {
      "cell_type": "code",
      "metadata": {
        "colab_type": "code",
        "id": "m7QHuDlbigRk",
        "colab": {}
      },
      "source": [
        "criterion = nn.NLLLoss()"
      ],
      "execution_count": null,
      "outputs": []
    },
    {
      "cell_type": "markdown",
      "metadata": {
        "colab_type": "text",
        "id": "RhS5r1cnigRq"
      },
      "source": [
        "訓練のループは以下の通りです:\n",
        "\n",
        "- 入力テンソル，目標テンソルを作成する\n",
        "- 隠れ層を 0 で初期化する\n",
        "- 文字を読み込みで\n",
        "   - 次の入力文字を処理するために隠れ層の状態を保持する\n",
        "- 出力と目標とを比較する\n",
        "- 誤差を逆伝播する\n",
        "- 出力と損失関数値を返す\n",
        "\n",
        "<!--\n",
        "Each loop of training will:\n",
        "\n",
        "-  Create input and target tensors\n",
        "-  Create a zeroed initial hidden state\n",
        "-  Read each letter in and\n",
        "   -  Keep hidden state for next letter\n",
        "-  Compare final output to target\n",
        "-  Back-propagate\n",
        "-  Return the output and loss\n",
        "-->\n",
        "\n"
      ]
    },
    {
      "cell_type": "code",
      "metadata": {
        "colab_type": "code",
        "id": "P0dQ0x-1igRr",
        "colab": {}
      },
      "source": [
        "learning_rate = 0.005 # If you set this too high, it might explode. If too low, it might not learn\n",
        "\n",
        "def train(category_tensor, line_tensor):\n",
        "    hidden = rnn.initHidden()\n",
        "\n",
        "    rnn.zero_grad()\n",
        "\n",
        "    for i in range(line_tensor.size()[0]):\n",
        "        output, hidden = rnn(line_tensor[i], hidden)\n",
        "\n",
        "    loss = criterion(output, category_tensor)\n",
        "    loss.backward()\n",
        "\n",
        "    # Add parameters' gradients to their values, multiplied by learning rate\n",
        "    for p in rnn.parameters():\n",
        "        p.data.add_(p.grad.data, alpha=-learning_rate)\n",
        "\n",
        "    return output, loss.item()"
      ],
      "execution_count": null,
      "outputs": []
    },
    {
      "cell_type": "markdown",
      "metadata": {
        "colab_type": "text",
        "id": "r2jYUELsigR1"
      },
      "source": [
        "<!--\n",
        "Now we just have to run that with a bunch of examples. \n",
        "Since the ``train`` function returns both the output and loss we can print its guesses and also keep track of loss for plotting. \n",
        "Since there are 1000s of examples we print only every ``print_every`` examples, and take an average of the loss.\n",
        "-->\n",
        "\n",
        "あとは，たくさんの例を使って実行するだけです。\n",
        "``train`` 関数は出力と損失の両方を返すので，推測した結果を表示したり，プロットのために損失を追跡したりすることができます。\n",
        "1000 個の例題があるので ``print_every`` のすべての例題だけを表示し，損失の平均を取ります。\n"
      ]
    },
    {
      "cell_type": "code",
      "metadata": {
        "colab_type": "code",
        "id": "oqRh1N3sigR2",
        "colab": {
          "base_uri": "https://localhost:8080/",
          "height": 357
        },
        "outputId": "5da7cf58-a41d-4082-f656-89c7160ed5ab"
      },
      "source": [
        "import time\n",
        "import math\n",
        "\n",
        "n_iters = 100000\n",
        "print_every = 5000\n",
        "plot_every = 1000\n",
        "\n",
        "# Keep track of losses for plotting\n",
        "current_loss = 0\n",
        "all_losses = []\n",
        "\n",
        "def timeSince(since):\n",
        "    now = time.time()\n",
        "    s = now - since\n",
        "    m = math.floor(s / 60)\n",
        "    s -= m * 60\n",
        "    return '%dm %ds' % (m, s)\n",
        "\n",
        "start = time.time()\n",
        "\n",
        "for iter in range(1, n_iters + 1):\n",
        "    category, line, category_tensor, line_tensor = randomTrainingExample()\n",
        "    output, loss = train(category_tensor, line_tensor)\n",
        "    current_loss += loss\n",
        "\n",
        "    # Print iter number, loss, name and guess\n",
        "    if iter % print_every == 0:\n",
        "        guess, guess_i = categoryFromOutput(output)\n",
        "        correct = '✓' if guess == category else '✗ (%s)' % category\n",
        "        print('%d %d%% (%s) %.4f %s / %s %s' % (iter, iter / n_iters * 100, timeSince(start), loss, line, guess, correct))\n",
        "\n",
        "    # Add current loss avg to list of losses\n",
        "    if iter % plot_every == 0:\n",
        "        all_losses.append(current_loss / plot_every)\n",
        "        current_loss = 0"
      ],
      "execution_count": null,
      "outputs": [
        {
          "output_type": "stream",
          "text": [
            "5000 5% (0m 6s) 2.6752 Widerlechner / German ✗ (Czech)\n",
            "10000 10% (0m 12s) 2.6334 O'Dowd / Scottish ✗ (Irish)\n",
            "15000 15% (0m 18s) 1.1752 Chi / Korean ✓\n",
            "20000 20% (0m 24s) 2.8773 To The First Page / Dutch ✗ (Russian)\n",
            "25000 25% (0m 30s) 0.8927 Bao / Chinese ✓\n",
            "30000 30% (0m 36s) 1.1903 Phi / Vietnamese ✓\n",
            "35000 35% (0m 42s) 2.6599 Michaud / Scottish ✗ (French)\n",
            "40000 40% (0m 48s) 0.1685 Lamberti / Italian ✓\n",
            "45000 45% (0m 54s) 2.8924 Vlach / Irish ✗ (Czech)\n",
            "50000 50% (1m 0s) 0.3665 Cremaschi / Italian ✓\n",
            "55000 55% (1m 6s) 3.1778 Rendon / English ✗ (Spanish)\n",
            "60000 60% (1m 12s) 0.6101 an / Vietnamese ✓\n",
            "65000 65% (1m 18s) 1.3392 Tron / Vietnamese ✓\n",
            "70000 70% (1m 24s) 2.0559 Schoonenburg / German ✗ (Dutch)\n",
            "75000 75% (1m 30s) 0.2055 Milligan / Irish ✓\n",
            "80000 80% (1m 36s) 0.6637 Ziyazov / Russian ✓\n",
            "85000 85% (1m 42s) 2.0658 Kassis / Greek ✗ (Arabic)\n",
            "90000 90% (1m 48s) 1.8995 Connolly / Scottish ✗ (Irish)\n",
            "95000 95% (1m 54s) 0.3066 Veverka / Czech ✓\n",
            "100000 100% (2m 0s) 0.0737 Mathghamhain / Irish ✓\n"
          ],
          "name": "stdout"
        }
      ]
    },
    {
      "cell_type": "markdown",
      "metadata": {
        "colab_type": "text",
        "id": "SBVPfdLtigR5"
      },
      "source": [
        "# 結果のプロット\n",
        "<!--\n",
        "# Plotting the Results\n",
        "\n",
        "Plotting the historical loss from ``all_losses`` shows the network learning:\n",
        "-->\n",
        "\n",
        "``all_losses`` から過去の損失をプロットすると ネットワーク学習の様子がわかります。\n"
      ]
    },
    {
      "cell_type": "code",
      "metadata": {
        "colab_type": "code",
        "id": "jvcWjSCRigR6",
        "colab": {
          "base_uri": "https://localhost:8080/",
          "height": 282
        },
        "outputId": "d2506d6d-2c06-4a6f-b248-e46361044721"
      },
      "source": [
        "import matplotlib.pyplot as plt\n",
        "import matplotlib.ticker as ticker\n",
        "\n",
        "plt.figure()\n",
        "plt.plot(all_losses)"
      ],
      "execution_count": null,
      "outputs": [
        {
          "output_type": "execute_result",
          "data": {
            "text/plain": [
              "[<matplotlib.lines.Line2D at 0x7fa329ae7240>]"
            ]
          },
          "metadata": {
            "tags": []
          },
          "execution_count": 16
        },
        {
          "output_type": "display_data",
          "data": {
            "image/png": "[encoded data removed]",
            "text/plain": [
              "<Figure size 432x288 with 1 Axes>"
            ]
          },
          "metadata": {
            "tags": [],
            "needs_background": "light"
          }
        }
      ]
    },
    {
      "cell_type": "markdown",
      "metadata": {
        "colab_type": "text",
        "id": "x5021aFHigR-"
      },
      "source": [
        "## 結果の評価\n",
        "\n",
        "ネットワークが異なるカテゴリに対してどの程度の性能を発揮するかを見るために 実際の言語（行）ごとに ネットワークがどの言語を推測しているか（列）を示す混同行列を作成します。\n",
        "混同行列を計算するには ``evaluate()``を使ってネットワークにサンプルを走らせます。\n",
        "\n",
        "<!--\n",
        "## Evaluating the Results\n",
        "\n",
        "To see how well the network performs on different categories, we will create a confusion matrix, indicating for every actual language (rows) which language the network guesses (columns). \n",
        "To calculate the confusion matrix a bunch of samples are run through the network with ``evaluate()``, which is the same as ``train()`` minus the backprop.\n",
        "-->\n",
        "\n"
      ]
    },
    {
      "cell_type": "code",
      "metadata": {
        "colab_type": "code",
        "id": "6MiT1sR-igSE",
        "colab": {
          "base_uri": "https://localhost:8080/",
          "height": 320
        },
        "outputId": "14c4898f-37c0-452b-b227-863c51160661"
      },
      "source": [
        "# Keep track of correct guesses in a confusion matrix\n",
        "confusion = torch.zeros(n_categories, n_categories)\n",
        "n_confusion = 10000\n",
        "\n",
        "# Just return an output given a line\n",
        "def evaluate(line_tensor):\n",
        "    hidden = rnn.initHidden()\n",
        "\n",
        "    for i in range(line_tensor.size()[0]):\n",
        "        output, hidden = rnn(line_tensor[i], hidden)\n",
        "\n",
        "    return output\n",
        "\n",
        "# Go through a bunch of examples and record which are correctly guessed\n",
        "for i in range(n_confusion):\n",
        "    category, line, category_tensor, line_tensor = randomTrainingExample()\n",
        "    output = evaluate(line_tensor)\n",
        "    guess, guess_i = categoryFromOutput(output)\n",
        "    category_i = all_categories.index(category)\n",
        "    confusion[category_i][guess_i] += 1\n",
        "\n",
        "# Normalize by dividing every row by its sum\n",
        "for i in range(n_categories):\n",
        "    confusion[i] = confusion[i] / confusion[i].sum()\n",
        "\n",
        "# Set up plot\n",
        "fig = plt.figure()\n",
        "\n",
        "ax = fig.add_subplot(111)\n",
        "cax = ax.matshow(confusion.numpy())\n",
        "fig.colorbar(cax)\n",
        "\n",
        "# Set up axes\n",
        "ax.set_xticklabels([''] + all_categories, rotation=90)\n",
        "ax.set_yticklabels([''] + all_categories)\n",
        "\n",
        "# Force label at every tick\n",
        "ax.xaxis.set_major_locator(ticker.MultipleLocator(1))\n",
        "ax.yaxis.set_major_locator(ticker.MultipleLocator(1))\n",
        "\n",
        "# sphinx_gallery_thumbnail_number = 2\n",
        "plt.show()"
      ],
      "execution_count": null,
      "outputs": [
        {
          "output_type": "display_data",
          "data": {
            "image/png": "[encoded data removed]",
            "text/plain": [
              "<Figure size 432x288 with 2 Axes>"
            ]
          },
          "metadata": {
            "tags": [],
            "needs_background": "light"
          }
        }
      ]
    },
    {
      "cell_type": "markdown",
      "metadata": {
        "colab_type": "text",
        "id": "-nGuABPeigSH"
      },
      "source": [
        "<!--\n",
        "You can pick out bright spots off the main axis that show which languages it guesses incorrectly, e.g. Chinese for Korean, and Spanish for Italian. \n",
        "It seems to do very well with Greek, and very poorly with English (perhaps because of overlap with other languages).\n",
        "-->\n",
        "\n",
        "主軸を中心に，どの言語を誤って推測しているかを示す明るい点を選ぶことができます。\n",
        "ギリシャ語では非常に良く，英語では非常に悪いようです（おそらく他の言語と重なっているためでしょう）。\n",
        "\n",
        "\n"
      ]
    },
    {
      "cell_type": "markdown",
      "metadata": {
        "colab_type": "text",
        "id": "fwTZVWCjigSI"
      },
      "source": [
        "## ユーザ入力の実行\n",
        "<!--\n",
        "## Running on User Input\n",
        "-->\n",
        "\n"
      ]
    },
    {
      "cell_type": "code",
      "metadata": {
        "colab_type": "code",
        "id": "dNeMOaJPigSJ",
        "colab": {
          "base_uri": "https://localhost:8080/",
          "height": 272
        },
        "outputId": "6ee9cc6c-3cfb-4099-ff8b-ba8f6fa45617"
      },
      "source": [
        "def predict(input_line, n_predictions=3):\n",
        "    print('\\n> %s' % input_line)\n",
        "    with torch.no_grad():\n",
        "        output = evaluate(lineToTensor(input_line))\n",
        "\n",
        "        # Get top N categories\n",
        "        topv, topi = output.topk(n_predictions, 1, True)\n",
        "        predictions = []\n",
        "\n",
        "        for i in range(n_predictions):\n",
        "            value = topv[0][i].item()\n",
        "            category_index = topi[0][i].item()\n",
        "            print('(%.2f) %s' % (value, all_categories[category_index]))\n",
        "            predictions.append([value, all_categories[category_index]])\n",
        "\n",
        "predict('Dovesky')\n",
        "predict('Jackson')\n",
        "predict('Satoshi')"
      ],
      "execution_count": null,
      "outputs": [
        {
          "output_type": "stream",
          "text": [
            "\n",
            "> Dovesky\n",
            "(-0.73) Russian\n",
            "(-0.89) Czech\n",
            "(-2.81) Polish\n",
            "\n",
            "> Jackson\n",
            "(-1.17) Scottish\n",
            "(-1.30) Russian\n",
            "(-1.86) English\n",
            "\n",
            "> Satoshi\n",
            "(-1.07) Japanese\n",
            "(-1.40) Arabic\n",
            "(-1.76) Italian\n"
          ],
          "name": "stdout"
        }
      ]
    },
    {
      "cell_type": "markdown",
      "metadata": {
        "colab_type": "text",
        "id": "_rQsauaZigSV"
      },
      "source": [
        "このスクリプトの最終版\n",
        "<https://github.com/spro/practical-pytorch/tree/master/char-rnn-classification> では，上記のコードをいくつかのファイルに分割しました。\n",
        "\n",
        "- ``data.py`` (ファイルのロード)\n",
        "- ``model.py`` (RNN の定義)\n",
        "- ``train.py`` (訓練の実行)\n",
        "- ``predict.py`` (コマンドライン引数つきの``predict()`` の実行)\n",
        "- ``server.py`` (bottle.py を使ってJSON API として予測 を保存)\n",
        "\n",
        "<!--\n",
        "The final versions of the scripts [in the Practical PyTorch\n",
        "repo](https://github.com/spro/practical-pytorch/tree/master/char-rnn-classification) split the above code into a few files:\n",
        "\n",
        "- ``data.py`` (loads files)\n",
        "- ``model.py`` (defines the RNN)\n",
        "- ``train.py`` (runs training)\n",
        "- ``predict.py`` (runs ``predict()`` with command line arguments)\n",
        "- ``server.py`` (serve prediction as a JSON API with bottle.py)\n",
        "-->\n",
        "\n",
        "\n",
        "ネットワークを学習して保存するには ``train.py`` を実行してください。\n",
        "\n",
        "予測結果を表示するためには 名前を指定して ``predict.py``を実行してください。\n",
        "\n",
        "<!--\n",
        "Run ``train.py`` to train and save the network.\n",
        "\n",
        "Run ``predict.py`` with a name to view predictions:\n",
        "-->\n",
        "\n",
        "```bash\n",
        "$ python predict.py Hazaki\n",
        "(-0.42) Japanese\n",
        "(-1.39) Polish\n",
        "(-3.51) Czech\n",
        "```\n",
        "\n",
        "<!--\n",
        "Run ``server.py`` and visit http://localhost:5533/Yourname to get JSON output of predictions.\n",
        "-->\n",
        "\n",
        "``server.py`` を実行して http://localhost:5533/Yourname にアクセスすると 予測結果の JSON 出力が得られます。\n",
        "\n"
      ]
    },
    {
      "cell_type": "markdown",
      "metadata": {
        "colab_type": "text",
        "id": "-nRC7JQAigSV"
      },
      "source": [
        "<!--\n",
        "## Exercises\n",
        "\n",
        "- Try with a different dataset of line -> category, for example:\n",
        "    - Any word -> language\n",
        "    - First name -> gender\n",
        "    - Character name -> writer\n",
        "    - Page title -> blog or subreddit\n",
        "\n",
        "- Get better results with a bigger and/or better shaped network\n",
        "    -Add more linear layers\n",
        "    - Try the ``nn.LSTM`` and ``nn.GRU`` layers\n",
        "    - Combine multiple of these RNNs as a higher level network\n",
        "-->\n",
        "\n",
        "## 演習\n",
        "\n",
        "- 例えば line -> category の別のデータセットで試してみてください。\n",
        "    - 任意の単語 -> 言語\n",
        "    - 名字 -> 性別\n",
        "    - キャラクター名 -> ライター\n",
        "    - ページタイトル -> ブログとか レッドィットの下位掲示板\n",
        "\n",
        "- より大きなネットワークとより良い形のネットワークを使って，より良い結果を得ることができます。\n",
        "    - より多くの線形層を追加\n",
        "    - ``nn.LSTM`` と ``nn.GRU``` の層を試す\n",
        "    - これらの複数の RNN を高次ネットワークとして組み合わせる\n",
        "\n",
        "\n"
      ]
    },
    {
      "cell_type": "code",
      "metadata": {
        "id": "38Yf91wfziBV",
        "colab_type": "code",
        "colab": {}
      },
      "source": [
        ""
      ],
      "execution_count": null,
      "outputs": []
    }
  ]
}