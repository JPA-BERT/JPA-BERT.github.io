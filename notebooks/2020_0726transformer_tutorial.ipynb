{
  "nbformat": 4,
  "nbformat_minor": 0,
  "metadata": {
    "kernelspec": {
      "display_name": "Python 3",
      "language": "python",
      "name": "python3"
    },
    "language_info": {
      "codemirror_mode": {
        "name": "ipython",
        "version": 3
      },
      "file_extension": ".py",
      "mimetype": "text/x-python",
      "name": "python",
      "nbconvert_exporter": "python",
      "pygments_lexer": "ipython3",
      "version": "3.6.8"
    },
    "colab": {
      "name": "2020-0726transformer_tutorial.ipynb",
      "provenance": [],
      "include_colab_link": true
    },
    "accelerator": "GPU"
  },
  "cells": [
    {
      "cell_type": "markdown",
      "metadata": {
        "id": "view-in-github",
        "colab_type": "text"
      },
      "source": [
        "<a href=\"https://colab.research.google.com/github/JPA-BERT/jpa-bert.github.io/blob/master/notebooks/2020_0726transformer_tutorial.ipynb\" target=\"_parent\"><img src=\"https://colab.research.google.com/assets/colab-badge.svg\" alt=\"Open In Colab\"/></a>"
      ]
    },
    {
      "cell_type": "markdown",
      "metadata": {
        "id": "clu1nPAXYW9p",
        "colab_type": "text"
      },
      "source": [
        "# PyTorch チュートリアルにある トランスフォーマーチュートリアル\n",
        "- source: https://pytorch.org/tutorials/beginner/transformer_tutorial.html\n",
        "- colab source: https://colab.research.google.com/github/pytorch/tutorials/blob/gh-pages/_downloads/dca13261bbb4e9809d1a3aa521d22dd7/transformer_tutorial.ipynb\n",
        "- date: 2020-0726\n",
        "- author: 浅川伸一 "
      ]
    },
    {
      "cell_type": "code",
      "metadata": {
        "id": "CoPvqm6iSJBZ",
        "colab_type": "code",
        "colab": {}
      },
      "source": [
        "%matplotlib inline"
      ],
      "execution_count": 2,
      "outputs": []
    },
    {
      "cell_type": "markdown",
      "metadata": {
        "id": "HY02Vn8MSJBe",
        "colab_type": "text"
      },
      "source": [
        "\n",
        "# Sequence-to-Sequence Modeling with nn.Transformer and TorchText\n",
        "\n",
        "This is a tutorial on how to train a sequence-to-sequence model that uses the\n",
        "[`nn.Transformer`](https://pytorch.org/docs/master/nn.html?highlight=nn%20transformer#torch.nn.Transformer) module.\n",
        "\n",
        "PyTorch 1.2 release includes a standard transformer module based on the paper [`Attention is All You Need`](https://arxiv.org/pdf/1706.03762.pdf). \n",
        "The transformer model has been proved to be superior in quality for many sequence-to-sequence problems while being more parallelizable. \n",
        "The ``nn.Transformer`` module relies entirely on an attention mechanism (another module recently implemented as [`nn.MultiheadAttention`](https://pytorch.org/docs/master/nn.html?highlight=multiheadattention#torch.nn.MultiheadAttention) to draw global dependencies between input and output. \n",
        "The ``nn.Transformer`` module is now highly modularized such that a single component (like [`nn.TransformerEncoder`](https://pytorch.org/docs/master/nn.html?highlight=nn%20transformerencoder#torch.nn.TransformerEncoder) in this tutorial) can be easily adapted/composed.\n",
        "\n",
        "<!--![](../_static/img/transformer_architecture.jpg)-->\n",
        "![](https://pytorch.org/tutorials/_images/transformer_architecture.jpg)\n",
        "\n",
        "\n",
        "\n"
      ]
    },
    {
      "cell_type": "markdown",
      "metadata": {
        "id": "WIb7Iu_LSJBf",
        "colab_type": "text"
      },
      "source": [
        "Define the model\n",
        "----------------\n",
        "\n",
        "\n"
      ]
    },
    {
      "cell_type": "markdown",
      "metadata": {
        "id": "ymoRUhkvSJBf",
        "colab_type": "text"
      },
      "source": [
        "In this tutorial, we train ``nn.TransformerEncoder`` model on a language modeling task. \n",
        "The language modeling task is to assign a probability for the likelihood of a given word (or a sequence of words) to follow a sequence of words. \n",
        "A sequence of tokens are passed to the embedding layer first, followed by a positional encoding layer to account for the order of the word (see the next paragraph for more details). \n",
        "The ``nn.TransformerEncoder`` consists of multiple layers of [`nn.TransformerEncoderLayer`](https://pytorch.org/docs/master/nn.html?highlight=transformerencoderlayer#torch.nn.TransformerEncoderLayer). \n",
        "Along with the input sequence, a square attention mask is required because the self-attention layers in ``nn.TransformerEncoder`` are only allowed to attend the earlier positions in the sequence. \n",
        "For the language modeling task, any tokens on the future positions should be masked. \n",
        "To have the actual words, the output of ``nn.TransformerEncoder`` model is sent to the final Linear layer, which is followed by a log-Softmax function.\n",
        "\n",
        "\n"
      ]
    },
    {
      "cell_type": "code",
      "metadata": {
        "id": "KHO_vTn4SJBg",
        "colab_type": "code",
        "colab": {}
      },
      "source": [
        "import math\n",
        "import torch\n",
        "import torch.nn as nn\n",
        "import torch.nn.functional as F\n",
        "\n",
        "class TransformerModel(nn.Module):\n",
        "\n",
        "    def __init__(self, ntoken, ninp, nhead, nhid, nlayers, dropout=0.5):\n",
        "        super(TransformerModel, self).__init__()\n",
        "        from torch.nn import TransformerEncoder, TransformerEncoderLayer\n",
        "        self.model_type = 'Transformer'\n",
        "        self.src_mask = None\n",
        "        self.pos_encoder = PositionalEncoding(ninp, dropout)\n",
        "        encoder_layers = TransformerEncoderLayer(ninp, nhead, nhid, dropout)\n",
        "        self.transformer_encoder = TransformerEncoder(encoder_layers, nlayers)\n",
        "        self.encoder = nn.Embedding(ntoken, ninp)\n",
        "        self.ninp = ninp\n",
        "        self.decoder = nn.Linear(ninp, ntoken)\n",
        "\n",
        "        self.init_weights()\n",
        "\n",
        "    def _generate_square_subsequent_mask(self, sz):\n",
        "        mask = (torch.triu(torch.ones(sz, sz)) == 1).transpose(0, 1)\n",
        "        mask = mask.float().masked_fill(mask == 0, float('-inf')).masked_fill(mask == 1, float(0.0))\n",
        "        return mask\n",
        "\n",
        "    def init_weights(self):\n",
        "        initrange = 0.1\n",
        "        self.encoder.weight.data.uniform_(-initrange, initrange)\n",
        "        self.decoder.bias.data.zero_()\n",
        "        self.decoder.weight.data.uniform_(-initrange, initrange)\n",
        "\n",
        "    def forward(self, src):\n",
        "        if self.src_mask is None or self.src_mask.size(0) != len(src):\n",
        "            device = src.device\n",
        "            mask = self._generate_square_subsequent_mask(len(src)).to(device)\n",
        "            self.src_mask = mask\n",
        "\n",
        "        src = self.encoder(src) * math.sqrt(self.ninp)\n",
        "        src = self.pos_encoder(src)\n",
        "        output = self.transformer_encoder(src, self.src_mask)\n",
        "        output = self.decoder(output)\n",
        "        return output"
      ],
      "execution_count": 3,
      "outputs": []
    },
    {
      "cell_type": "markdown",
      "metadata": {
        "id": "2xFRU9Z0SJBj",
        "colab_type": "text"
      },
      "source": [
        "``PositionalEncoding`` module injects some information about the\n",
        "relative or absolute position of the tokens in the sequence. The\n",
        "positional encodings have the same dimension as the embeddings so that\n",
        "the two can be summed. Here, we use ``sine`` and ``cosine`` functions of\n",
        "different frequencies.\n",
        "\n",
        "\n"
      ]
    },
    {
      "cell_type": "code",
      "metadata": {
        "id": "jsNPMA9RSJBk",
        "colab_type": "code",
        "colab": {}
      },
      "source": [
        "class PositionalEncoding(nn.Module):\n",
        "\n",
        "    def __init__(self, d_model, dropout=0.1, max_len=5000):\n",
        "        super(PositionalEncoding, self).__init__()\n",
        "        self.dropout = nn.Dropout(p=dropout)\n",
        "\n",
        "        pe = torch.zeros(max_len, d_model)\n",
        "        position = torch.arange(0, max_len, dtype=torch.float).unsqueeze(1)\n",
        "        div_term = torch.exp(torch.arange(0, d_model, 2).float() * (-math.log(10000.0) / d_model))\n",
        "        pe[:, 0::2] = torch.sin(position * div_term)\n",
        "        pe[:, 1::2] = torch.cos(position * div_term)\n",
        "        pe = pe.unsqueeze(0).transpose(0, 1)\n",
        "        self.register_buffer('pe', pe)\n",
        "\n",
        "    def forward(self, x):\n",
        "        x = x + self.pe[:x.size(0), :]\n",
        "        return self.dropout(x)"
      ],
      "execution_count": 4,
      "outputs": []
    },
    {
      "cell_type": "markdown",
      "metadata": {
        "id": "LGkXRVg-SJBn",
        "colab_type": "text"
      },
      "source": [
        "Load and batch data\n",
        "-------------------\n",
        "\n",
        "\n"
      ]
    },
    {
      "cell_type": "markdown",
      "metadata": {
        "id": "yeveZKlbSJBn",
        "colab_type": "text"
      },
      "source": [
        "The training process uses Wikitext-2 dataset from ``torchtext``. The\n",
        "vocab object is built based on the train dataset and is used to numericalize\n",
        "tokens into tensors. Starting from sequential data, the ``batchify()``\n",
        "function arranges the dataset into columns, trimming off any tokens remaining\n",
        "after the data has been divided into batches of size ``batch_size``.\n",
        "For instance, with the alphabet as the sequence (total length of 26)\n",
        "and a batch size of 4, we would divide the alphabet into 4 sequences of\n",
        "length 6:\n",
        "\n",
        "\\begin{align}\\begin{bmatrix}\n",
        "  \\text{A} & \\text{B} & \\text{C} & \\ldots & \\text{X} & \\text{Y} & \\text{Z}\n",
        "  \\end{bmatrix}\n",
        "  \\Rightarrow\n",
        "  \\begin{bmatrix}\n",
        "  \\begin{bmatrix}\\text{A} \\\\ \\text{B} \\\\ \\text{C} \\\\ \\text{D} \\\\ \\text{E} \\\\ \\text{F}\\end{bmatrix} &\n",
        "  \\begin{bmatrix}\\text{G} \\\\ \\text{H} \\\\ \\text{I} \\\\ \\text{J} \\\\ \\text{K} \\\\ \\text{L}\\end{bmatrix} &\n",
        "  \\begin{bmatrix}\\text{M} \\\\ \\text{N} \\\\ \\text{O} \\\\ \\text{P} \\\\ \\text{Q} \\\\ \\text{R}\\end{bmatrix} &\n",
        "  \\begin{bmatrix}\\text{S} \\\\ \\text{T} \\\\ \\text{U} \\\\ \\text{V} \\\\ \\text{W} \\\\ \\text{X}\\end{bmatrix}\n",
        "  \\end{bmatrix}\\end{align}\n",
        "\n",
        "These columns are treated as independent by the model, which means that\n",
        "the dependence of ``G`` and ``F`` can not be learned, but allows more\n",
        "efficient batch processing.\n",
        "\n",
        "\n"
      ]
    },
    {
      "cell_type": "code",
      "metadata": {
        "id": "disMTe5yUpvG",
        "colab_type": "code",
        "colab": {
          "base_uri": "https://localhost:8080/",
          "height": 85
        },
        "outputId": "c1bb2fb8-e76c-420c-90a4-5603506bf69d"
      },
      "source": [
        "# 下のセルでは 3 行目の tokenizer の指定 'basic_english' でエラーになる\n",
        "# 'basic_english' を次のいずれかに変更する必要がある:\n",
        "# 'moses', 'spacy', revtok', 'subword' \n",
        "#!pip install nltk\n",
        "#import nltk\n",
        "#!pip install sacremoses  # for moses tokenizer\n",
        "#!pip install revtok  # for revtok tokenizer"
      ],
      "execution_count": 9,
      "outputs": [
        {
          "output_type": "stream",
          "text": [
            "Collecting revtok\n",
            "  Downloading https://files.pythonhosted.org/packages/83/36/ceaee3090850fe4940361110cae71091b113c720e4ced21660758da6ced1/revtok-0.0.3-py3-none-any.whl\n",
            "Installing collected packages: revtok\n",
            "Successfully installed revtok-0.0.3\n"
          ],
          "name": "stdout"
        }
      ]
    },
    {
      "cell_type": "code",
      "metadata": {
        "id": "Kpp-7xucSJBo",
        "colab_type": "code",
        "colab": {}
      },
      "source": [
        "import torchtext\n",
        "from torchtext.data.utils import get_tokenizer\n",
        "#TEXT = torchtext.data.Field(tokenize=get_tokenizer(\"basic_english\"),\n",
        "#TEXT = torchtext.data.Field(tokenize=get_tokenizer(\"moses\"),\n",
        "TEXT = torchtext.data.Field(tokenize=get_tokenizer(\"spacy\"),\n",
        "#TEXT = torchtext.data.Field(tokenize=get_tokenizer(\"revtok\"),\n",
        "#TEXT = torchtext.data.Field(tokenize=get_tokenizer(\"subword\"),\n",
        "                            init_token='<sos>',\n",
        "                            eos_token='<eos>',\n",
        "                            lower=True)\n",
        "train_txt, val_txt, test_txt = torchtext.datasets.WikiText2.splits(TEXT)\n",
        "TEXT.build_vocab(train_txt)\n",
        "device = torch.device(\"cuda\" if torch.cuda.is_available() else \"cpu\")\n",
        "\n",
        "def batchify(data, bsz):\n",
        "    data = TEXT.numericalize([data.examples[0].text])\n",
        "    # Divide the dataset into bsz parts.\n",
        "    nbatch = data.size(0) // bsz\n",
        "    # Trim off any extra elements that wouldn't cleanly fit (remainders).\n",
        "    data = data.narrow(0, 0, nbatch * bsz)\n",
        "    # Evenly divide the data across the bsz batches.\n",
        "    data = data.view(bsz, -1).t().contiguous()\n",
        "    return data.to(device)\n",
        "\n",
        "batch_size = 20\n",
        "eval_batch_size = 10\n",
        "train_data = batchify(train_txt, batch_size)\n",
        "val_data = batchify(val_txt, eval_batch_size)\n",
        "test_data = batchify(test_txt, eval_batch_size)"
      ],
      "execution_count": 14,
      "outputs": []
    },
    {
      "cell_type": "markdown",
      "metadata": {
        "id": "_3TvR8KCSJBq",
        "colab_type": "text"
      },
      "source": [
        "### Functions to generate input and target sequence\n",
        "\n",
        "\n",
        "\n"
      ]
    },
    {
      "cell_type": "markdown",
      "metadata": {
        "id": "b1ONg58_SJBr",
        "colab_type": "text"
      },
      "source": [
        "``get_batch()`` function generates the input and target sequence for the transformer model. \n",
        "It subdivides the source data into chunks of length ``bptt``. \n",
        "For the language modeling task, the model needs the following words as ``Target``. \n",
        "For example, with a ``bptt`` value of 2, we’d get the following two Variables for ``i`` = 0:\n",
        "\n",
        "<!--![](../_static/img/transformer_input_target.png)-->\n",
        "![](https://pytorch.org/tutorials/_images/transformer_input_target.png)\n",
        "\n",
        "\n",
        "It should be noted that the chunks are along dimension 0, consistent with the ``S`` dimension in the Transformer model. The batch dimension ``N`` is along dimension 1.\n",
        "\n",
        "\n"
      ]
    },
    {
      "cell_type": "code",
      "metadata": {
        "id": "TEQQfkeySJBr",
        "colab_type": "code",
        "colab": {}
      },
      "source": [
        "bptt = 35\n",
        "def get_batch(source, i):\n",
        "    seq_len = min(bptt, len(source) - 1 - i)\n",
        "    data = source[i:i+seq_len]\n",
        "    target = source[i+1:i+1+seq_len].view(-1)\n",
        "    return data, target"
      ],
      "execution_count": 15,
      "outputs": []
    },
    {
      "cell_type": "markdown",
      "metadata": {
        "id": "XgMEA5v0SJBv",
        "colab_type": "text"
      },
      "source": [
        "Initiate an instance\n",
        "--------------------\n",
        "\n",
        "\n"
      ]
    },
    {
      "cell_type": "markdown",
      "metadata": {
        "id": "3OfH-re-SJBv",
        "colab_type": "text"
      },
      "source": [
        "The model is set up with the hyperparameter below. The vocab size is\n",
        "equal to the length of the vocab object.\n",
        "\n",
        "\n"
      ]
    },
    {
      "cell_type": "code",
      "metadata": {
        "id": "6uyjNlYCSJBw",
        "colab_type": "code",
        "colab": {}
      },
      "source": [
        "ntokens = len(TEXT.vocab.stoi) # the size of vocabulary\n",
        "emsize = 200 # embedding dimension\n",
        "nhid = 200 # the dimension of the feedforward network model in nn.TransformerEncoder\n",
        "nlayers = 2 # the number of nn.TransformerEncoderLayer in nn.TransformerEncoder\n",
        "nhead = 2 # the number of heads in the multiheadattention models\n",
        "dropout = 0.2 # the dropout value\n",
        "model = TransformerModel(ntokens, emsize, nhead, nhid, nlayers, dropout).to(device)"
      ],
      "execution_count": 16,
      "outputs": []
    },
    {
      "cell_type": "markdown",
      "metadata": {
        "id": "leUtTHRaSJBz",
        "colab_type": "text"
      },
      "source": [
        "Run the model\n",
        "-------------\n",
        "\n",
        "\n"
      ]
    },
    {
      "cell_type": "markdown",
      "metadata": {
        "id": "UzW-gREvSJB0",
        "colab_type": "text"
      },
      "source": [
        "[`CrossEntropyLoss`](https://pytorch.org/docs/master/nn.html?highlight=crossentropyloss#torch.nn.CrossEntropyLoss) is applied to track the loss and [`SGD`](https://pytorch.org/docs/master/optim.html?highlight=sgd#torch.optim.SGD) implements stochastic gradient descent method as the optimizer. \n",
        "The initial learning rate is set to 5.0. \n",
        "[`StepLR`](https://pytorch.org/docs/master/optim.html?highlight=steplr#torch.optim.lr_scheduler.StepLR) is applied to adjust the learn rate through epochs. \n",
        "During the training, we use [`nn.utils.clip_grad_norm`](https://pytorch.org/docs/master/nn.html?highlight=nn%20utils%20clip_grad_norm#torch.nn.utils.clip_grad_norm_) function to scale all the gradient together to prevent exploding.\n",
        "\n",
        "\n"
      ]
    },
    {
      "cell_type": "code",
      "metadata": {
        "id": "n1OGmnNkSJB0",
        "colab_type": "code",
        "colab": {}
      },
      "source": [
        "criterion = nn.CrossEntropyLoss()\n",
        "lr = 5.0 # learning rate\n",
        "optimizer = torch.optim.SGD(model.parameters(), lr=lr)\n",
        "scheduler = torch.optim.lr_scheduler.StepLR(optimizer, 1.0, gamma=0.95)\n",
        "\n",
        "import time\n",
        "def train():\n",
        "    model.train() # Turn on the train mode\n",
        "    total_loss = 0.\n",
        "    start_time = time.time()\n",
        "    ntokens = len(TEXT.vocab.stoi)\n",
        "    for batch, i in enumerate(range(0, train_data.size(0) - 1, bptt)):\n",
        "        data, targets = get_batch(train_data, i)\n",
        "        optimizer.zero_grad()\n",
        "        output = model(data)\n",
        "        loss = criterion(output.view(-1, ntokens), targets)\n",
        "        loss.backward()\n",
        "        torch.nn.utils.clip_grad_norm_(model.parameters(), 0.5)\n",
        "        optimizer.step()\n",
        "\n",
        "        total_loss += loss.item()\n",
        "        log_interval = 200\n",
        "        if batch % log_interval == 0 and batch > 0:\n",
        "            cur_loss = total_loss / log_interval\n",
        "            elapsed = time.time() - start_time\n",
        "            print('| epoch {:3d} | {:5d}/{:5d} batches | '\n",
        "                  'lr {:02.2f} | ms/batch {:5.2f} | '\n",
        "                  'loss {:5.2f} | ppl {:8.2f}'.format(\n",
        "                    epoch, batch, len(train_data) // bptt, scheduler.get_lr()[0],\n",
        "                    elapsed * 1000 / log_interval,\n",
        "                    cur_loss, math.exp(cur_loss)))\n",
        "            total_loss = 0\n",
        "            start_time = time.time()\n",
        "\n",
        "def evaluate(eval_model, data_source):\n",
        "    eval_model.eval() # Turn on the evaluation mode\n",
        "    total_loss = 0.\n",
        "    ntokens = len(TEXT.vocab.stoi)\n",
        "    with torch.no_grad():\n",
        "        for i in range(0, data_source.size(0) - 1, bptt):\n",
        "            data, targets = get_batch(data_source, i)\n",
        "            output = eval_model(data)\n",
        "            output_flat = output.view(-1, ntokens)\n",
        "            total_loss += len(data) * criterion(output_flat, targets).item()\n",
        "    return total_loss / (len(data_source) - 1)"
      ],
      "execution_count": 17,
      "outputs": []
    },
    {
      "cell_type": "markdown",
      "metadata": {
        "id": "2or7ZuqDSJB3",
        "colab_type": "text"
      },
      "source": [
        "Loop over epochs. Save the model if the validation loss is the best\n",
        "we've seen so far. Adjust the learning rate after each epoch.\n",
        "\n"
      ]
    },
    {
      "cell_type": "code",
      "metadata": {
        "id": "K_5AyaECSJB3",
        "colab_type": "code",
        "colab": {
          "base_uri": "https://localhost:8080/",
          "height": 969
        },
        "outputId": "01a5cc67-a680-4a4c-ba92-e1f04ff9c1f5"
      },
      "source": [
        "best_val_loss = float(\"inf\")\n",
        "epochs = 3 # The number of epochs\n",
        "best_model = None\n",
        "\n",
        "for epoch in range(1, epochs + 1):\n",
        "    epoch_start_time = time.time()\n",
        "    train()\n",
        "    val_loss = evaluate(model, val_data)\n",
        "    print('-' * 89)\n",
        "    print('| end of epoch {:3d} | time: {:5.2f}s | valid loss {:5.2f} | '\n",
        "          'valid ppl {:8.2f}'.format(epoch, (time.time() - epoch_start_time),\n",
        "                                     val_loss, math.exp(val_loss)))\n",
        "    print('-' * 89)\n",
        "\n",
        "    if val_loss < best_val_loss:\n",
        "        best_val_loss = val_loss\n",
        "        best_model = model\n",
        "\n",
        "    scheduler.step()"
      ],
      "execution_count": 18,
      "outputs": [
        {
          "output_type": "stream",
          "text": [
            "/usr/local/lib/python3.6/dist-packages/torch/optim/lr_scheduler.py:351: UserWarning: To get the last learning rate computed by the scheduler, please use `get_last_lr()`.\n",
            "  \"please use `get_last_lr()`.\", UserWarning)\n"
          ],
          "name": "stderr"
        },
        {
          "output_type": "stream",
          "text": [
            "| epoch   1 |   200/ 3195 batches | lr 5.00 | ms/batch 19.95 | loss  7.38 | ppl  1598.03\n",
            "| epoch   1 |   400/ 3195 batches | lr 5.00 | ms/batch 17.86 | loss  6.27 | ppl   527.47\n",
            "| epoch   1 |   600/ 3195 batches | lr 5.00 | ms/batch 17.95 | loss  5.97 | ppl   391.00\n",
            "| epoch   1 |   800/ 3195 batches | lr 5.00 | ms/batch 18.06 | loss  5.79 | ppl   327.98\n",
            "| epoch   1 |  1000/ 3195 batches | lr 5.00 | ms/batch 18.55 | loss  5.81 | ppl   333.64\n",
            "| epoch   1 |  1200/ 3195 batches | lr 5.00 | ms/batch 19.55 | loss  5.75 | ppl   312.84\n",
            "| epoch   1 |  1400/ 3195 batches | lr 5.00 | ms/batch 19.31 | loss  5.70 | ppl   299.47\n",
            "| epoch   1 |  1600/ 3195 batches | lr 5.00 | ms/batch 18.34 | loss  5.60 | ppl   270.81\n",
            "| epoch   1 |  1800/ 3195 batches | lr 5.00 | ms/batch 18.18 | loss  5.63 | ppl   277.95\n",
            "| epoch   1 |  2000/ 3195 batches | lr 5.00 | ms/batch 18.06 | loss  5.63 | ppl   278.20\n",
            "| epoch   1 |  2200/ 3195 batches | lr 5.00 | ms/batch 17.75 | loss  5.56 | ppl   259.82\n",
            "| epoch   1 |  2400/ 3195 batches | lr 5.00 | ms/batch 17.91 | loss  5.45 | ppl   233.69\n",
            "| epoch   1 |  2600/ 3195 batches | lr 5.00 | ms/batch 17.79 | loss  5.52 | ppl   250.08\n",
            "| epoch   1 |  2800/ 3195 batches | lr 5.00 | ms/batch 17.80 | loss  5.51 | ppl   246.96\n",
            "| epoch   1 |  3000/ 3195 batches | lr 5.00 | ms/batch 17.51 | loss  5.41 | ppl   223.62\n",
            "-----------------------------------------------------------------------------------------\n",
            "| end of epoch   1 | time: 61.15s | valid loss  5.15 | valid ppl   171.64\n",
            "-----------------------------------------------------------------------------------------\n",
            "| epoch   2 |   200/ 3195 batches | lr 4.51 | ms/batch 17.80 | loss  5.38 | ppl   216.10\n",
            "| epoch   2 |   400/ 3195 batches | lr 4.51 | ms/batch 17.44 | loss  5.36 | ppl   212.87\n",
            "| epoch   2 |   600/ 3195 batches | lr 4.51 | ms/batch 17.51 | loss  5.26 | ppl   191.56\n",
            "| epoch   2 |   800/ 3195 batches | lr 4.51 | ms/batch 17.72 | loss  5.22 | ppl   185.34\n",
            "| epoch   2 |  1000/ 3195 batches | lr 4.51 | ms/batch 17.55 | loss  5.30 | ppl   200.52\n",
            "| epoch   2 |  1200/ 3195 batches | lr 4.51 | ms/batch 17.50 | loss  5.27 | ppl   193.93\n",
            "| epoch   2 |  1400/ 3195 batches | lr 4.51 | ms/batch 17.98 | loss  5.29 | ppl   198.51\n",
            "| epoch   2 |  1600/ 3195 batches | lr 4.51 | ms/batch 17.62 | loss  5.22 | ppl   184.97\n",
            "| epoch   2 |  1800/ 3195 batches | lr 4.51 | ms/batch 17.98 | loss  5.26 | ppl   192.86\n",
            "| epoch   2 |  2000/ 3195 batches | lr 4.51 | ms/batch 17.76 | loss  5.29 | ppl   197.42\n",
            "| epoch   2 |  2200/ 3195 batches | lr 4.51 | ms/batch 17.78 | loss  5.24 | ppl   189.15\n",
            "| epoch   2 |  2400/ 3195 batches | lr 4.51 | ms/batch 17.66 | loss  5.13 | ppl   169.60\n",
            "| epoch   2 |  2600/ 3195 batches | lr 4.51 | ms/batch 17.98 | loss  5.22 | ppl   185.76\n",
            "| epoch   2 |  2800/ 3195 batches | lr 4.51 | ms/batch 17.77 | loss  5.21 | ppl   183.80\n",
            "| epoch   2 |  3000/ 3195 batches | lr 4.51 | ms/batch 17.92 | loss  5.13 | ppl   169.21\n",
            "-----------------------------------------------------------------------------------------\n",
            "| end of epoch   2 | time: 59.56s | valid loss  5.06 | valid ppl   158.11\n",
            "-----------------------------------------------------------------------------------------\n",
            "| epoch   3 |   200/ 3195 batches | lr 4.29 | ms/batch 18.03 | loss  5.14 | ppl   170.74\n",
            "| epoch   3 |   400/ 3195 batches | lr 4.29 | ms/batch 17.63 | loss  5.14 | ppl   171.17\n",
            "| epoch   3 |   600/ 3195 batches | lr 4.29 | ms/batch 17.67 | loss  5.03 | ppl   153.07\n",
            "| epoch   3 |   800/ 3195 batches | lr 4.29 | ms/batch 17.63 | loss  5.01 | ppl   149.80\n",
            "| epoch   3 |  1000/ 3195 batches | lr 4.29 | ms/batch 17.76 | loss  5.09 | ppl   162.71\n",
            "| epoch   3 |  1200/ 3195 batches | lr 4.29 | ms/batch 17.80 | loss  5.07 | ppl   159.81\n",
            "| epoch   3 |  1400/ 3195 batches | lr 4.29 | ms/batch 17.80 | loss  5.10 | ppl   163.86\n",
            "| epoch   3 |  1600/ 3195 batches | lr 4.29 | ms/batch 17.49 | loss  5.03 | ppl   153.53\n",
            "| epoch   3 |  1800/ 3195 batches | lr 4.29 | ms/batch 17.51 | loss  5.08 | ppl   161.46\n",
            "| epoch   3 |  2000/ 3195 batches | lr 4.29 | ms/batch 17.63 | loss  5.11 | ppl   165.83\n",
            "| epoch   3 |  2200/ 3195 batches | lr 4.29 | ms/batch 17.73 | loss  5.07 | ppl   158.59\n",
            "| epoch   3 |  2400/ 3195 batches | lr 4.29 | ms/batch 17.57 | loss  4.95 | ppl   141.64\n",
            "| epoch   3 |  2600/ 3195 batches | lr 4.29 | ms/batch 17.66 | loss  5.06 | ppl   157.27\n",
            "| epoch   3 |  2800/ 3195 batches | lr 4.29 | ms/batch 17.61 | loss  5.05 | ppl   156.01\n",
            "| epoch   3 |  3000/ 3195 batches | lr 4.29 | ms/batch 17.53 | loss  4.98 | ppl   145.98\n",
            "-----------------------------------------------------------------------------------------\n",
            "| end of epoch   3 | time: 59.28s | valid loss  4.94 | valid ppl   139.45\n",
            "-----------------------------------------------------------------------------------------\n"
          ],
          "name": "stdout"
        }
      ]
    },
    {
      "cell_type": "markdown",
      "metadata": {
        "id": "WF8q0NA7SJB6",
        "colab_type": "text"
      },
      "source": [
        "Evaluate the model with the test dataset\n",
        "-------------------------------------\n",
        "\n",
        "Apply the best model to check the result with the test dataset.\n",
        "\n"
      ]
    },
    {
      "cell_type": "code",
      "metadata": {
        "id": "oTOTkIBISJB7",
        "colab_type": "code",
        "colab": {
          "base_uri": "https://localhost:8080/",
          "height": 68
        },
        "outputId": "7cdb7591-10b7-4c79-c92b-60f5f3c9faab"
      },
      "source": [
        "test_loss = evaluate(best_model, test_data)\n",
        "print('=' * 89)\n",
        "print('| End of training | test loss {:5.2f} | test ppl {:8.2f}'.format(\n",
        "    test_loss, math.exp(test_loss)))\n",
        "print('=' * 89)"
      ],
      "execution_count": 19,
      "outputs": [
        {
          "output_type": "stream",
          "text": [
            "=========================================================================================\n",
            "| End of training | test loss  4.78 | test ppl   119.15\n",
            "=========================================================================================\n"
          ],
          "name": "stdout"
        }
      ]
    },
    {
      "cell_type": "code",
      "metadata": {
        "id": "Ni5_wdhxbcFu",
        "colab_type": "code",
        "colab": {}
      },
      "source": [
        ""
      ],
      "execution_count": null,
      "outputs": []
    }
  ]
}