{
  "nbformat": 4,
  "nbformat_minor": 0,
  "metadata": {
    "colab": {
      "name": "04PyTorchTEXT_seq2seq_translation_tutorial.ipynb",
      "provenance": [],
      "collapsed_sections": [],
      "include_colab_link": true
    },
    "kernelspec": {
      "display_name": "Python 3",
      "language": "python",
      "name": "python3"
    },
    "language_info": {
      "codemirror_mode": {
        "name": "ipython",
        "version": 3
      },
      "file_extension": ".py",
      "mimetype": "text/x-python",
      "name": "python",
      "nbconvert_exporter": "python",
      "pygments_lexer": "ipython3",
      "version": "3.7.7"
    },
    "accelerator": "GPU"
  },
  "cells": [
    {
      "cell_type": "markdown",
      "metadata": {
        "id": "view-in-github",
        "colab_type": "text"
      },
      "source": [
        "<a href=\"https://colab.research.google.com/github/JPA-BERT/jpa-bert.github.io/blob/master/notebooks/04PyTorchTEXT_seq2seq_translation_tutorial.ipynb\" target=\"_parent\"><img src=\"https://colab.research.google.com/assets/colab-badge.svg\" alt=\"Open In Colab\"/></a>"
      ]
    },
    {
      "cell_type": "markdown",
      "metadata": {
        "id": "jV4qUuO9JfE7",
        "colab_type": "text"
      },
      "source": [
        "---\n",
        "    \n",
        "このファイルは PyTorch のチュートリアルにあるファイル <https://pytorch.org/tutorials/intermediate/seq2seq_translation_tutorial.html> を翻訳して，加筆修正したもの\n",
        "です。\n",
        "\n",
        "すぐれたチュートリアルの内容，コードを公開された Sean Robertson と PyTorch 開発陣に敬意を表します。\n",
        "\n",
        "- Original: \n",
        "- Date: 2020-0811\n",
        "- Translated and modified: Shin Asakawa <asakawa@ieee.org>\n",
        "\n",
        "---"
      ]
    },
    {
      "cell_type": "code",
      "metadata": {
        "id": "KDItnsh5JfE9",
        "colab_type": "code",
        "colab": {}
      },
      "source": [
        "# from https://github.com/dmlc/xgboost/issues/1715\n",
        "import os\n",
        "os.environ['KMP_DUPLICATE_LIB_OK']='True'"
      ],
      "execution_count": null,
      "outputs": []
    },
    {
      "cell_type": "code",
      "metadata": {
        "colab_type": "code",
        "id": "F1CgPGq8i2Vx",
        "colab": {}
      },
      "source": [
        "%matplotlib inline"
      ],
      "execution_count": null,
      "outputs": []
    },
    {
      "cell_type": "markdown",
      "metadata": {
        "colab_type": "text",
        "id": "o0bIhubhi2V_"
      },
      "source": [
        "# ゼロからの NLP: 注意つきの seq2seq ネットワークによる翻訳\n",
        "\n",
        "<!--\n",
        "# NLP From Scratch: Translation with a Sequence to Sequence Network and Attention\n",
        "-->\n",
        "\n",
        "Author: [Sean Robertson](https://github.com/spro/practical-pytorch)\n",
        "\n",
        "これは \"NLP From Scratch\" を行うチュートリアルの第 3 回目で，最後のチュートリアルです。\n",
        "ここでは，独自のクラスと関数を書いて NLP モデル課題を実行するためにデータを前処理するようにしています。\n",
        "このチュートリアルを終えた後は，このチュートリアルに続く 3 つのチュートリアルで `torchtext`がどのようにしてこの前処理の多くを処理できるのかを学んでいただければと思います。\n",
        "\n",
        "<!--\n",
        "This is the third and final tutorial on doing \"NLP From Scratch\", where we write our own classes and functions to preprocess the data to do our NLP modeling tasks. \n",
        "We hope after you complete this tutorial that you'll proceed to learn how `torchtext` can handle much of this preprocessing for you in the \n",
        "three tutorials immediately following this one.\n",
        "\n",
        "In this project we will be teaching a neural network to translate from French to English.\n",
        "-->\n",
        "\n",
        "このプロジェクトでは フランス語から英語に翻訳するためのニューラルネットワークを教えます。\n",
        "\n",
        "```\n",
        "    [KEY: > input, = target, < output]\n",
        "\n",
        "    > il est en train de peindre un tableau .\n",
        "    = he is painting a picture .\n",
        "    < he is painting a picture .\n",
        "\n",
        "    > pourquoi ne pas essayer ce vin delicieux ?\n",
        "    = why not try that delicious wine ?\n",
        "    < why not try that delicious wine ?\n",
        "\n",
        "    > elle n est pas poete mais romanciere .\n",
        "    = she is not a poet but a novelist .\n",
        "    < she not not a poet but a novelist .\n",
        "\n",
        "    > vous etes trop maigre .\n",
        "    = you re too skinny .\n",
        "    < you re all alone .\n",
        "```\n",
        "\n",
        "... to varying degrees of success.\n",
        "\n",
        "<!--\n",
        "This is made possible by the simple but powerful idea of the [sequence to sequence network](https://arxiv.org/abs/1409.3215), in which two recurrent neural networks work together to transform one sequence to another. \n",
        "An encoder network condenses an input sequence into a vector, and a decoder network unfolds that vector into a new sequence.\n",
        "-->\n",
        "\n",
        "これは 2 つのリカレントニューラルネットワーク が協力して 1 つの系列を別のシーケンスに変換する [sequence to sequence network](https://arxiv.org/abs/1409.3215) という簡潔でありながら強力なアイデアによって可能になりました。\n",
        "エンコーダネットワークは入力系列をベクトルに凝縮し デコーダネットワークはそのベクトルを新しい系列に展開します。\n",
        "\n",
        "<!--\n",
        ".. figure:: /_static/img/seq-seq-images/seq2seq.png\n",
        "   :alt:\n",
        "-->\n",
        "\n",
        "<img src=\"https://pytorch.org/tutorials/_images/seq2seq.png\">\n",
        "\n",
        "<!--\n",
        "To improve upon this model we'll use an [attention mechanism](https://arxiv.org/abs/1409.0473), which lets the decoder learn to focus over a specific range of the input sequence.\n",
        "-->\n",
        "\n",
        "このモデルを改良するために [注意機構](https://arxiv.org/abs/1409.0473) を使用します。\n",
        "これは デコーダが入系列の特定の範囲に焦点を合わせることを学習することを可能にします。\n",
        "\n",
        "**Recommended Reading:**\n",
        "\n",
        "I assume you have at least installed PyTorch, know Python, and understand Tensors:\n",
        "\n",
        "- [https://pytorch.org/] PyTorch のインストール <!--For installation instructions-->\n",
        "- [ディープラーニング 60 分早わかり](https://pytorch.org/tutorials/beginner/deep_learning_60min_blitz.html)<!-- :doc:`/beginner/deep_learning_60min_blitz` to get started with PyTorch in general-->\n",
        "- [例題による PyTorch](https://pytorch.org/tutorials/beginner/pytorch_with_examples.html) <!-- :doc:`/beginner/pytorch_with_examples` for a wide and deep overview-->\n",
        "- 以前のチュートリアル <!--:doc:`/beginner/former_torchies_tutorial` if you are former Lua Torch user-->\n",
        "    1. [テンソル Tensors](https://pytorch.org/tutorials/beginner/former_torchies/tensor_tutorial_old.html)\n",
        "    2. [自動微分 Autograd](https://pytorch.org/tutorials/beginner/former_torchies/autograd_tutorial_old.html)\n",
        "    3. [nn パッケージ nn package](https://pytorch.org/tutorials/beginner/former_torchies/nnft_tutorial.html)\n",
        "    4. [マルチ GPU の例 Multi-GPU examples](https://pytorch.org/tutorials/beginner/former_torchies/parallelism_tutorial.html)\n",
        "\n",
        "系列-to-系列ネットワークとその動作について知っておくことは有益です:\n",
        "<!--\n",
        "It would also be useful to know about Sequence to Sequence networks and how they work:\n",
        "-->\n",
        "\n",
        "- [統計的機械翻訳のための RNN 符号化-復号化モデルを用いた句表現の学習 Learning Phrase Representations using RNN Encoder-Decoder for Statistical Machine Translation](https://arxiv.org/abs/1406.1078)\n",
        "- [ニューラルネットワークによる系列-to-系列学習 Sequence to Sequence Learning with Neural Networks](https://arxiv.org/abs/1409.3215)\n",
        "- [割当と翻訳の結合学習によるニューラル機械翻訳 Neural Machine Translation by Jointly Learning to Align and Translate](https://arxiv.org/abs/1409.0473)\n",
        "- [ニューラル会話モデル A Neural Conversational Model](https://arxiv.org/abs/1506.05869)\n",
        "\n",
        "また，前回までのチュートリアル [文字ベースの RNN による苗字分類](https://colab.research.google.com/github/JPA-BERT/jpa-bert.github.io/blob/master/notebooks/02PyTorchTEXT_char_rnn_classification_tutorial.ipynb) と [文字ベース RNN による苗字生成](https://colab.research.google.com/github/JPA-BERT/jpa-bert.github.io/blob/master/notebooks/03PyTorchTEXT_char_rnn_generation_tutorial.ipynb) \n",
        "も 系列-to-系列 モデルの理解に役立つでしょう。\n",
        "\n",
        "<!--\n",
        "You will also find the previous tutorials on :doc:`/intermediate/char_rnn_classification_tutorial` and :doc:`/intermediate/char_rnn_generation_tutorial` helpful as those concepts are very similar to the Encoder and Decoder models, respectively.\n",
        "-->\n",
        "\n",
        "更に，上記のような概念を提案した論文を以下に挙げます:\n",
        "<!--And for more, read the papers that introduced these topics:-->\n",
        "\n",
        "- [Learning Phrase Representations using RNN Encoder-Decoder for Statistical Machine Translation](https://arxiv.org/abs/1406.1078)\n",
        "- [Sequence to Sequence Learning with Neural Networks](https://arxiv.org/abs/1409.3215)\n",
        "- [Neural Machine Translation by Jointly Learning to Align and Translate](https://arxiv.org/abs/1409.0473)\n",
        "- [A Neural Conversational Model](https://arxiv.org/abs/1506.05869)\n",
        "\n",
        "**必要条件**\n",
        "<!--**Requirements**-->\n"
      ]
    },
    {
      "cell_type": "code",
      "metadata": {
        "colab_type": "code",
        "id": "5MXM3SAli2WA",
        "colab": {}
      },
      "source": [
        "from __future__ import unicode_literals, print_function, division\n",
        "from io import open\n",
        "import unicodedata\n",
        "import string\n",
        "import re\n",
        "import random\n",
        "\n",
        "import torch\n",
        "import torch.nn as nn\n",
        "from torch import optim\n",
        "import torch.nn.functional as F\n",
        "\n",
        "device = torch.device(\"cuda\" if torch.cuda.is_available() else \"cpu\")"
      ],
      "execution_count": null,
      "outputs": []
    },
    {
      "cell_type": "markdown",
      "metadata": {
        "colab_type": "text",
        "id": "ZNvz0HKmi2WH"
      },
      "source": [
        "## データファイルのロード\n",
        "<!--## Loading data files-->\n",
        "\n",
        "<!--\n",
        "The data for this project is a set of many thousands of English to French translation pairs.\n",
        "\n",
        "[This question on Open Data Stack Exchange](https://opendata.stackexchange.com/questions/3888/dataset-of-sentences-translated-into-many-languages) pointed me to the open translation site https://tatoeba.org/ which has downloads available at https://tatoeba.org/eng/downloads - and better yet, someone did the extra work of splitting language pairs into individual text files here: https://www.manythings.org/anki/\n",
        "\n",
        "The English to French pairs are too big to include in the repo, so download to ``data/eng-fra.txt`` before continuing. The file is a tab\n",
        "separated list of translation pairs:\n",
        "-->\n",
        "\n",
        "このプロジェクトのデータは，何千もの英語からフランス語への翻訳ペアのセットです。\n",
        "\n",
        "[Open Data Stack Exchange でのこの質問](https://opendata.stackexchange.com/questions/3888/dataset-of-sentences-translated-into-many-languages) で\n",
        "オープン翻訳サイト [tatoeba.org](https://tatoeba.org/) を教えてもらいました。\n",
        "<https://tatoeba.org/eng/downloads> からダウンロードできます。\n",
        "加えて，ソース言語と目標翻訳言語の対を分割した個々のファイルは <https://www.manythings.org/anki/> から入手可能です\n",
        "\n",
        "英語からフランス語へのペアを保存するには大きすぎるので，続ける前に ``data/eng-fra.txt`` にダウンロードしてください。\n",
        "このファイルはタブで区切られた翻訳対のリストです。\n",
        "\n",
        "```\n",
        "    I am cold.    J'ai froid.\n",
        "```\n",
        "\n",
        "### 覚書:\n",
        "[https://download.pytorch.org/tutorial/data.zip](https://download.pytorch.org/tutorial/data.zip) をダウンロードして，カレントディレクトリに解凍してください。\n",
        "\n",
        "<!--Note::\n",
        "Download the data from [here](https://download.pytorch.org/tutorial/data.zip)  and extract it to the current directory.\n",
        "-->"
      ]
    },
    {
      "cell_type": "markdown",
      "metadata": {
        "colab_type": "text",
        "id": "qmB0RRvGi2WI"
      },
      "source": [
        "<!--\n",
        "Similar to the character encoding used in the character-level RNN tutorials, we will be representing each word in a language as a one-hot vector, or giant vector of zeros except for a single one (at the index of the word). \n",
        "Compared to the dozens of characters that might exist in a language, there are many many more words, so the encoding vector is much larger.\n",
        "We will however cheat a bit and trim the data to only use a few thousand words per language.\n",
        "-->\n",
        "\n",
        "文字レベル RNN チュートリアルで使用された文字符号化法と同様，言語の各単語を 1 つのホットベクトル，つまり 1 つ (単語のインデックス) を除き，全て 0 の巨大なベクトルとして表現します。\n",
        "言語に存在する数十種しなかい文字に比べて，数多くの単語があるので，符号化ベクトルははるかに大きくなります。\n",
        "しかし，我々は少しごまかして，言語ごとに数千語しか使わないようにデータをトリミングします。\n",
        "\n",
        "<!--\n",
        ".. figure:: /_static/img/seq-seq-images/word-encoding.png\n",
        "   :alt:\n",
        "-->\n",
        "\n",
        "<img src=\"https://pytorch.org/tutorials/_images/word-encoding.png\">\n",
        "\n",
        "\n"
      ]
    },
    {
      "cell_type": "markdown",
      "metadata": {
        "colab_type": "text",
        "id": "XRhtMrrli2WI"
      },
      "source": [
        "<!--\n",
        "We'll need a unique index per word to use as the inputs and targets of the networks later. \n",
        "To keep track of all this we will use a helper class called ``Lang`` which has word → index (``word2index``) and index → word (``index2word``) dictionaries, as well as a count of each word ``word2count`` to use to later replace rare words.\n",
        "-->\n",
        "\n",
        "後でネットワークの入力とターゲットとして使用するためには，単語ごとに一意のインデックスが必要になります。\n",
        "これを管理するために ``Lang`` というヘルパークラスを使います。\n",
        "このクラスには単語→インデックス (``word2index``)  と インデックス→ワード (``index2word``) の辞書があります。\n"
      ]
    },
    {
      "cell_type": "code",
      "metadata": {
        "id": "IftoQNBRKMra",
        "colab_type": "code",
        "colab": {
          "base_uri": "https://localhost:8080/",
          "height": 204
        },
        "outputId": "90c359ea-0072-428a-a988-b9b031f1c846"
      },
      "source": [
        "!wget https://download.pytorch.org/tutorial/data.zip > /dev/null\n",
        "!unzip data.zip > /dev/null"
      ],
      "execution_count": null,
      "outputs": [
        {
          "output_type": "stream",
          "text": [
            "--2020-08-11 06:16:02--  https://download.pytorch.org/tutorial/data.zip\n",
            "Resolving download.pytorch.org (download.pytorch.org)... 13.226.50.24, 13.226.50.98, 13.226.50.63, ...\n",
            "Connecting to download.pytorch.org (download.pytorch.org)|13.226.50.24|:443... connected.\n",
            "HTTP request sent, awaiting response... 200 OK\n",
            "Length: 2882130 (2.7M) [application/zip]\n",
            "Saving to: ‘data.zip’\n",
            "\n",
            "data.zip            100%[===================>]   2.75M  13.0MB/s    in 0.2s    \n",
            "\n",
            "2020-08-11 06:16:03 (13.0 MB/s) - ‘data.zip’ saved [2882130/2882130]\n",
            "\n"
          ],
          "name": "stdout"
        }
      ]
    },
    {
      "cell_type": "code",
      "metadata": {
        "colab_type": "code",
        "id": "wfI2BjSti2WN",
        "colab": {}
      },
      "source": [
        "SOS_token = 0\n",
        "EOS_token = 1\n",
        "\n",
        "class Lang:\n",
        "    def __init__(self, name):\n",
        "        self.name = name\n",
        "        self.word2index = {}\n",
        "        self.word2count = {}\n",
        "        self.index2word = {0: \"SOS\", 1: \"EOS\"}\n",
        "        self.n_words = 2  # Count SOS and EOS\n",
        "\n",
        "    def addSentence(self, sentence):\n",
        "        for word in sentence.split(' '):\n",
        "            self.addWord(word)\n",
        "\n",
        "    def addWord(self, word):\n",
        "        if word not in self.word2index:\n",
        "            self.word2index[word] = self.n_words\n",
        "            self.word2count[word] = 1\n",
        "            self.index2word[self.n_words] = word\n",
        "            self.n_words += 1\n",
        "        else:\n",
        "            self.word2count[word] += 1"
      ],
      "execution_count": null,
      "outputs": []
    },
    {
      "cell_type": "markdown",
      "metadata": {
        "colab_type": "text",
        "id": "NaYj1dzvi2WS"
      },
      "source": [
        "<!--\n",
        "The files are all in Unicode, to simplify we will turn Unicode characters to ASCII, make everything lowercase, and trim most punctuation.\n",
        "-->\n",
        "\n",
        "ファイルはすべて Unicode で作成されています。\n",
        "単純化するために Unicode の文字を ASCII に変え，すべてを小文字にし，ほとんどの句読点をトリミングします。\n"
      ]
    },
    {
      "cell_type": "code",
      "metadata": {
        "colab_type": "code",
        "id": "OIiKenTBi2WS",
        "colab": {}
      },
      "source": [
        "# Turn a Unicode string to plain ASCII, thanks to\n",
        "# https://stackoverflow.com/a/518232/2809427\n",
        "def unicodeToAscii(s):\n",
        "    return ''.join(\n",
        "        c for c in unicodedata.normalize('NFD', s)\n",
        "        if unicodedata.category(c) != 'Mn'\n",
        "    )\n",
        "\n",
        "# Lowercase, trim, and remove non-letter characters\n",
        "\n",
        "\n",
        "def normalizeString(s):\n",
        "    s = unicodeToAscii(s.lower().strip())\n",
        "    s = re.sub(r\"([.!?])\", r\" \\1\", s)\n",
        "    s = re.sub(r\"[^a-zA-Z.!?]+\", r\" \", s)\n",
        "    return s"
      ],
      "execution_count": null,
      "outputs": []
    },
    {
      "cell_type": "markdown",
      "metadata": {
        "colab_type": "text",
        "id": "IAMDbOV9i2Wi"
      },
      "source": [
        "<!--\n",
        "To read the data file we will split the file into lines, and then split lines into pairs. \n",
        "The files are all English → Other Language, so if we want to translate from Other Language → English I added the ``reverse`` flag to reverse the pairs.\n",
        "-->\n",
        "\n",
        "データファイルを読み込むには，ファイルを行に分割し，行をペアに分割します。\n",
        "ファイルは全て 英語→他言語 なので，他言語→英語 に翻訳したい場合は ペアを逆にするために ``reverse`` フラグを付けてみました。\n"
      ]
    },
    {
      "cell_type": "code",
      "metadata": {
        "colab_type": "code",
        "id": "2RrWpalHi2Wi",
        "colab": {}
      },
      "source": [
        "def readLangs(lang1, lang2, reverse=False):\n",
        "    print(\"Reading lines...\")\n",
        "\n",
        "    # Read the file and split into lines\n",
        "    lines = open('data/%s-%s.txt' % (lang1, lang2), encoding='utf-8').\\\n",
        "        read().strip().split('\\n')\n",
        "\n",
        "    # Split every line into pairs and normalize\n",
        "    pairs = [[normalizeString(s) for s in l.split('\\t')] for l in lines]\n",
        "\n",
        "    # Reverse pairs, make Lang instances\n",
        "    if reverse:\n",
        "        pairs = [list(reversed(p)) for p in pairs]\n",
        "        input_lang = Lang(lang2)\n",
        "        output_lang = Lang(lang1)\n",
        "    else:\n",
        "        input_lang = Lang(lang1)\n",
        "        output_lang = Lang(lang2)\n",
        "\n",
        "    return input_lang, output_lang, pairs"
      ],
      "execution_count": null,
      "outputs": []
    },
    {
      "cell_type": "markdown",
      "metadata": {
        "colab_type": "text",
        "id": "eG7V-XWDi2Wn"
      },
      "source": [
        "<!--\n",
        "Since there are a *lot* of example sentences and we want to train something quickly, we'll trim the data set to only relatively short and simple sentences. \n",
        "Here the maximum length is 10 words (that includes ending punctuation) and we're filtering to sentences that translate to the form \"I am\" or \"He is\" etc. (accounting for apostrophes replaced earlier).\n",
        "-->\n",
        "\n",
        "たくさんの例文があり，素早く何かを訓練したいので，比較的短くて単純な文だけにデータセットをトリミングします。\n",
        "ここでは，最大の長さは 10語 (語尾の句読点を含む) で， \"I am\" や \"He is\" などの形に変換される文にフィルタリングしています。\n",
        "(以前に置き換えられたアポストロフィを考慮しています)\n",
        "\n"
      ]
    },
    {
      "cell_type": "code",
      "metadata": {
        "colab_type": "code",
        "id": "taopKNzni2Wo",
        "colab": {}
      },
      "source": [
        "MAX_LENGTH = 10\n",
        "\n",
        "eng_prefixes = (\n",
        "    \"i am \", \"i m \",\n",
        "    \"he is\", \"he s \",\n",
        "    \"she is\", \"she s \",\n",
        "    \"you are\", \"you re \",\n",
        "    \"we are\", \"we re \",\n",
        "    \"they are\", \"they re \"\n",
        ")\n",
        "\n",
        "\n",
        "def filterPair(p):\n",
        "    return len(p[0].split(' ')) < MAX_LENGTH and \\\n",
        "        len(p[1].split(' ')) < MAX_LENGTH and \\\n",
        "        p[1].startswith(eng_prefixes)\n",
        "\n",
        "\n",
        "def filterPairs(pairs):\n",
        "    return [pair for pair in pairs if filterPair(pair)]"
      ],
      "execution_count": null,
      "outputs": []
    },
    {
      "cell_type": "markdown",
      "metadata": {
        "colab_type": "text",
        "id": "Ev8Mu-Xni2W0"
      },
      "source": [
        "<!--\n",
        "The full process for preparing the data is:\n",
        "\n",
        "-  Read text file and split into lines, split lines into pairs\n",
        "-  Normalize text, filter by length and content\n",
        "-  Make word lists from sentences in pairs\n",
        "-->\n",
        "\n",
        "データを作成するための全行程は:\n",
        "\n",
        "- テキストファイルを読み込んで行に分割し，行をペアに分割する\n",
        "- テキストを正規化し，長さと内容でフィルタリングする\n",
        "- 文章をペアにして単語リストを作る\n",
        "\n",
        "\n"
      ]
    },
    {
      "cell_type": "code",
      "metadata": {
        "colab_type": "code",
        "id": "hiNw1wCxi2W0",
        "colab": {
          "base_uri": "https://localhost:8080/",
          "height": 153
        },
        "outputId": "426f6fef-7a79-4b51-b076-963f416fb1a6"
      },
      "source": [
        "def prepareData(lang1, lang2, reverse=False):\n",
        "    input_lang, output_lang, pairs = readLangs(lang1, lang2, reverse)\n",
        "    print(\"Read %s sentence pairs\" % len(pairs))\n",
        "    pairs = filterPairs(pairs)\n",
        "    print(\"Trimmed to %s sentence pairs\" % len(pairs))\n",
        "    print(\"Counting words...\")\n",
        "    for pair in pairs:\n",
        "        input_lang.addSentence(pair[0])\n",
        "        output_lang.addSentence(pair[1])\n",
        "    print(\"Counted words:\")\n",
        "    print(input_lang.name, input_lang.n_words)\n",
        "    print(output_lang.name, output_lang.n_words)\n",
        "    return input_lang, output_lang, pairs\n",
        "\n",
        "\n",
        "input_lang, output_lang, pairs = prepareData('eng', 'fra', True)\n",
        "print(random.choice(pairs))"
      ],
      "execution_count": null,
      "outputs": [
        {
          "output_type": "stream",
          "text": [
            "Reading lines...\n",
            "Read 135842 sentence pairs\n",
            "Trimmed to 10599 sentence pairs\n",
            "Counting words...\n",
            "Counted words:\n",
            "fra 4345\n",
            "eng 2803\n",
            "['nous ne nous y rendons pas .', 'we re not going .']\n"
          ],
          "name": "stdout"
        }
      ]
    },
    {
      "cell_type": "markdown",
      "metadata": {
        "colab_type": "text",
        "id": "x6qbbzqTi2XA"
      },
      "source": [
        "# Seq2Seq モデル\n",
        "<!--\n",
        "# The Seq2Seq Model\n",
        "-->\n",
        "\n",
        "<!--\n",
        "A Recurrent Neural Network, or RNN, is a network that operates on a sequence and uses its own output as input for subsequent steps.\n",
        "-->\n",
        "\n",
        "リカレントニューラルネットワーク（Recurrent Neural Network: RNN）は，系列データを操作し，モデルの出力を後続のステップの入力として使用するネットワークです。\n",
        "\n",
        "<!--\n",
        "A [Sequence to Sequence network](https://arxiv.org/abs/1409.3215), or seq2seq network, or [Encoder Decoder network](https://arxiv.org/pdf/1406.1078v3.pdf), is a model consisting of two RNNs called the encoder and decoder. The encoder reads an input sequence and outputs a single vector, and the decoder reads that vector to produce an output sequence.\n",
        "-->\n",
        "\n",
        "Sequence to Sequence network](https://arxiv.org/abs/1409.3215)，または seq2seq ネットワーク，または [符号化 復号化 ネットワーク Encoder Decoder network](https://arxiv.org/pdf/1406.1078v3.pdf) は，エンコーダとデコーダと呼ばれる 2 つの RNN からなるモデルです。\n",
        "エンコーダは入力シーケンスを読み込んで 1 つのベクトルを出力し，デコーダはそのベクトルを読み込んで出力系列を生成します。\n",
        "\n",
        "<!--\n",
        ".. figure:: /_static/img/seq-seq-images/seq2seq.png\n",
        "   :alt:\n",
        "-->\n",
        "\n",
        "<img src=\"https://pytorch.org/tutorials/_images/seq2seq.png\">\n",
        "\n",
        "<!--\n",
        "Unlike sequence prediction with a single RNN, where every input corresponds to an output, the seq2seq model frees us from sequence length and order, which makes it ideal for translation between two languages.\n",
        "-->\n",
        "\n",
        "すべての入力が出力に対応する単一の RNN による系列予測とは異なり，seq2seq モデルは系列長や順序から解放されるので 2 つの言語間の翻訳に最適です。\n",
        "\n",
        "<!--\n",
        "Consider the sentence \"Je ne suis pas le chat noir\" → \"I am not the black cat\". \n",
        "Most of the words in the input sentence have a direct translation in the output sentence, but are in slightly different orders, e.g. \"chat noir\" and \"black cat\". Because of the \"ne/pas\" construction there is also one more word in the input sentence. \n",
        "It would be difficult to produce a correct translation directly from the sequence of input words.\n",
        "-->\n",
        "\n",
        "\"Je ne suis pas le chat noir\" →「私は黒猫ではない」という文を考えてみましょう。\n",
        "入力文のほとんどの単語は出力文では直訳されています。\"chat noir\" と \"black cat\" のように少し順番が異なります。\n",
        "\"ne/pas\" の構造のため，入力文にはもう一つ単語があります。\n",
        "入力された単語の並びから直接正しい翻訳を作成するのは難しいでしょう。\n",
        "\n",
        "<!--\n",
        "With a seq2seq model the encoder creates a single vector which, in the ideal case, encodes the \"meaning\" of the input sequence into a single vector — a single point in some N dimensional space of sentences.\n",
        "-->\n",
        "\n",
        "seq2seq モデルでは，エンコーダは 1 つのベクトルを作成し，理想的なケースでは，入力文の「意味」を 1 つのベクトルに符号化します。\n"
      ]
    },
    {
      "cell_type": "markdown",
      "metadata": {
        "colab_type": "text",
        "id": "aBD_PPoei2XA"
      },
      "source": [
        "## 符号化器 エンコーダ\n",
        "<!--\n",
        "## The Encoder\n",
        "-->\n",
        "\n",
        "<!--\n",
        "The encoder of a seq2seq network is a RNN that outputs some value for every word from the input sentence. For every input word the encoder outputs a vector and a hidden state, and uses the hidden state for the next input word.\n",
        "-->\n",
        "\n",
        "seq2seq ネットワークの符号化器 (エンコーダ) は RNN であり，\n",
        "入力文の各単語に対して何らかの値を出力します。\n",
        "各入力語に対してエンコーダはベクトルと隠れ層の状態を出力します。\n",
        "そして，隠れ層の状態を次の入力語として使用します。\n",
        "\n",
        "<!--\n",
        ".. figure:: /_static/img/seq-seq-images/encoder-network.png\n",
        "   :alt:\n",
        "-->\n",
        "\n",
        "<img src=\"https://pytorch.org/tutorials/_images/encoder-network.png\">\n",
        "\n",
        "\n"
      ]
    },
    {
      "cell_type": "code",
      "metadata": {
        "colab_type": "code",
        "id": "IjTABKUli2XC",
        "colab": {}
      },
      "source": [
        "class EncoderRNN(nn.Module):\n",
        "    def __init__(self, input_size, hidden_size):\n",
        "        super(EncoderRNN, self).__init__()\n",
        "        self.hidden_size = hidden_size\n",
        "\n",
        "        self.embedding = nn.Embedding(input_size, hidden_size)\n",
        "        self.gru = nn.GRU(hidden_size, hidden_size)\n",
        "\n",
        "    def forward(self, input, hidden):\n",
        "        embedded = self.embedding(input).view(1, 1, -1)\n",
        "        output = embedded\n",
        "        output, hidden = self.gru(output, hidden)\n",
        "        return output, hidden\n",
        "\n",
        "    def initHidden(self):\n",
        "        return torch.zeros(1, 1, self.hidden_size, device=device)"
      ],
      "execution_count": null,
      "outputs": []
    },
    {
      "cell_type": "markdown",
      "metadata": {
        "colab_type": "text",
        "id": "Nw4j3j6Ui2XG"
      },
      "source": [
        "## 復号化器 デコーダ\n",
        "<!--\n",
        "## The Decoder\n",
        "-->\n",
        "\n",
        "復号化器 デコーダは，別の RNN であり，符号化器の出力ベクトルを入力とし，出力として翻訳文となる単語系列を出力します。\n",
        "<!--\n",
        "The decoder is another RNN that takes the encoder output vector(s) and outputs a sequence of words to create the translation.\n",
        "-->\n",
        "\n"
      ]
    },
    {
      "cell_type": "markdown",
      "metadata": {
        "colab_type": "text",
        "id": "Ie2Elk6Ri2XI"
      },
      "source": [
        "### 簡単なデコーダ\n",
        "<!--\n",
        "### Simple Decoder\n",
        "-->\n",
        "\n",
        "<!--\n",
        "In the simplest seq2seq decoder we use only last output of the encoder.\n",
        "This last output is sometimes called the *context vector* as it encodes context from the entire sequence. \n",
        "This context vector is used as the initial hidden state of the decoder.\n",
        "-->\n",
        "\n",
        "最も簡単な seq2seq デコーダは，エンコーダの最後の出力のみを使用します。\n",
        "この最後の出力は，系列全体の内容を符号化するので，*コンテキストベクトル* と呼ばれることもあります。\n",
        "このコンテキストベクトルはデコーダの最初の隠れ層状態として使われます。\n",
        "\n",
        "At every step of decoding, the decoder is given an input token and hidden state. \n",
        "The initial input token is the start-of-string ``<SOS>`` token, and the first hidden state is the context vector (the encoder's last hidden state).\n",
        "\n",
        "デコードの各ステップで，デコーダには入力トークンと隠れ層の状態が与えられます。\n",
        "最初の入力トークンは文字列の先頭の ``<SOS>`` トークンであり，最初の隠れ層状態はコンテキストベクトル（エンコーダの最後の隠された状態）です。\n",
        "\n",
        "<!--\n",
        ".. figure:: /_static/img/seq-seq-images/decoder-network.png\n",
        "   :alt:\n",
        "-->\n",
        "\n",
        "<img src=\"https://i.imgur.com/1152PYf.png\">\n"
      ]
    },
    {
      "cell_type": "code",
      "metadata": {
        "colab_type": "code",
        "id": "tp-LLnGIi2XJ",
        "colab": {}
      },
      "source": [
        "class DecoderRNN(nn.Module):\n",
        "    def __init__(self, hidden_size, output_size):\n",
        "        super(DecoderRNN, self).__init__()\n",
        "        self.hidden_size = hidden_size\n",
        "\n",
        "        self.embedding = nn.Embedding(output_size, hidden_size)\n",
        "        self.gru = nn.GRU(hidden_size, hidden_size)\n",
        "        self.out = nn.Linear(hidden_size, output_size)\n",
        "        self.softmax = nn.LogSoftmax(dim=1)\n",
        "\n",
        "    def forward(self, input, hidden):\n",
        "        output = self.embedding(input).view(1, 1, -1)\n",
        "        output = F.relu(output)\n",
        "        output, hidden = self.gru(output, hidden)\n",
        "        output = self.softmax(self.out(output[0]))\n",
        "        return output, hidden\n",
        "\n",
        "    def initHidden(self):\n",
        "        return torch.zeros(1, 1, self.hidden_size, device=device)"
      ],
      "execution_count": null,
      "outputs": []
    },
    {
      "cell_type": "markdown",
      "metadata": {
        "colab_type": "text",
        "id": "QUfjvR8si2XP"
      },
      "source": [
        "<!--\n",
        "I encourage you to train and observe the results of this model, but to save space we'll be going straight for the gold and introducing the Attention Mechanism.\n",
        "-->\n",
        "\n",
        "このモデルの結果を訓練して観察することをお勧めします。\n",
        "ですがスペース節約のため，まっすぐ直行して注意機構の導入に直行します。\n",
        "\n",
        "\n"
      ]
    },
    {
      "cell_type": "markdown",
      "metadata": {
        "colab_type": "text",
        "id": "QHh86j_Hi2XQ"
      },
      "source": [
        "### 注意復号化器 Attention Decoder\n",
        "<!--\n",
        "### Attention Decoder\n",
        "-->\n",
        "\n",
        "<!--\n",
        "If only the context vector is passed betweeen the encoder and decoder, that single vector carries the burden of encoding the entire sentence.\n",
        "-->\n",
        "\n",
        "符号化器と復号化器との間に文脈ベクトルだけが渡される場合，その単一のベクトルが文全体をエンコードするという負担を負うことになります。\n",
        "\n",
        "<!--\n",
        "Attention allows the decoder network to \"focus\" on a different part of the encoder's outputs for every step of the decoder's own outputs. \n",
        "First we calculate a set of *attention weights*. These will be multiplied by the encoder output vectors to create a weighted combination. \n",
        "The result (called ``attn_applied`` in the code) should contain information about that specific part of the input sequence, and thus help the decoder choose the right output words.\n",
        "-->\n",
        "\n",
        "注意により，復号化ネットワークは復号化器自身の出力のステップごとに，符号化器の出力の異なる部分に「焦点を当てる」ことができます。\n",
        "最初に *注意の重み attention weight* のセットを計算します。\n",
        "これらを符号化器の出力ベクトルと掛け合わせて，重み付けされた組み合わせを作ります。\n",
        "その結果 (コード中では ``attn_applied`` と呼ばれています) は，入力系列の特定の部分に関する情報を含み，復号化器が正しい出力語を選択するのに役立ちます。\n",
        "\n",
        "<!--\n",
        ".. figure:: https://i.imgur.com/1152PYf.png\n",
        "   :alt:\n",
        "-->\n",
        "<img src=\"https://i.imgur.com/1152PYf.png\">\n",
        "\n",
        "<!--\n",
        "Calculating the attention weights is done with another feed-forward layer ``attn``, using the decoder's input and hidden state as inputs.\n",
        "Because there are sentences of all sizes in the training data, to actually create and train this layer we have to choose a maximum sentence length (input length, for encoder outputs) that it can apply to. \n",
        "Sentences of the maximum length will use all the attention weights, while shorter sentences will only use the first few.\n",
        "-->\n",
        "\n",
        "注意重みの計算は，別のフィードフォワード層 ``attn`` で行われます。復号化器 デコーダの入力と隠れ層の状態を入力として使用します。\n",
        "学習データにはあらゆるサイズの文が含まれているので，実際にこの層を作成して訓練するためには，この層が適用できる最大の文の長さ（エンコーダの出力のための入力の長さ）を選択しなければなりません。\n",
        "最大長の文はすべての注目重みを使用し，短い文は最初の数文のみを使用します。\n",
        "\n",
        "<!--\n",
        ".. figure:: /_static/img/seq-seq-images/attention-decoder-network.png\n",
        "   :alt:\n",
        "-->\n",
        "<img src=\"https://pytorch.org/tutorials/_images/attention-decoder-network.png\">\n",
        "\n",
        "\n"
      ]
    },
    {
      "cell_type": "code",
      "metadata": {
        "colab_type": "code",
        "id": "sXLpIKDai2XQ",
        "colab": {}
      },
      "source": [
        "class AttnDecoderRNN(nn.Module):\n",
        "    def __init__(self, hidden_size, output_size, dropout_p=0.1, max_length=MAX_LENGTH):\n",
        "        super(AttnDecoderRNN, self).__init__()\n",
        "        self.hidden_size = hidden_size\n",
        "        self.output_size = output_size\n",
        "        self.dropout_p = dropout_p\n",
        "        self.max_length = max_length\n",
        "\n",
        "        self.embedding = nn.Embedding(self.output_size, self.hidden_size)\n",
        "        self.attn = nn.Linear(self.hidden_size * 2, self.max_length)\n",
        "        self.attn_combine = nn.Linear(self.hidden_size * 2, self.hidden_size)\n",
        "        self.dropout = nn.Dropout(self.dropout_p)\n",
        "        self.gru = nn.GRU(self.hidden_size, self.hidden_size)\n",
        "        self.out = nn.Linear(self.hidden_size, self.output_size)\n",
        "\n",
        "    def forward(self, input, hidden, encoder_outputs):\n",
        "        embedded = self.embedding(input).view(1, 1, -1)\n",
        "        embedded = self.dropout(embedded)\n",
        "\n",
        "        attn_weights = F.softmax(\n",
        "            self.attn(torch.cat((embedded[0], hidden[0]), 1)), dim=1)\n",
        "        attn_applied = torch.bmm(attn_weights.unsqueeze(0),\n",
        "                                 encoder_outputs.unsqueeze(0))\n",
        "\n",
        "        output = torch.cat((embedded[0], attn_applied[0]), 1)\n",
        "        output = self.attn_combine(output).unsqueeze(0)\n",
        "\n",
        "        output = F.relu(output)\n",
        "        output, hidden = self.gru(output, hidden)\n",
        "\n",
        "        output = F.log_softmax(self.out(output[0]), dim=1)\n",
        "        return output, hidden, attn_weights\n",
        "\n",
        "    def initHidden(self):\n",
        "        return torch.zeros(1, 1, self.hidden_size, device=device)"
      ],
      "execution_count": null,
      "outputs": []
    },
    {
      "cell_type": "markdown",
      "metadata": {
        "colab_type": "text",
        "id": "4eeoT0iAi2Xh"
      },
      "source": [
        "#### 覚書\n",
        "<!--\n",
        "#### Note\n",
        "-->\n",
        "\n",
        "<!--\n",
        "There are other forms of attention that work around the length limitation by using a relative position approach. \n",
        "Read about \"local attention\" in [Effective Approaches to Attention-based Neural Machine Translation](https://arxiv.org/abs/1508.04025)\n",
        "-->\n",
        "\n",
        "相対位置のアプローチを使用することで長さの制限を回避する注意の他の形態があります。\n",
        "「局所的注意」について [Effective Approaches to Attention-based Neural Machine Translation] (https://arxiv.org/abs/1508.04025) を参照してください。\n",
        "\n",
        "## 訓練\n",
        "<!--\n",
        "## Training\n",
        "-->\n",
        "\n",
        "### 訓練データの準備\n",
        "<!--\n",
        "### Preparing Training Data\n",
        "-->\n",
        "\n",
        "To train, for each pair we will need an input tensor (indexes of the words in the input sentence) and target tensor (indexes of the words in the target sentence). \n",
        "While creating these vectors we will append the EOS token to both sequences.\n",
        "\n",
        "学習には，各翻訳対について，入力テンソル (入力文に含まれる単語のインデックス) と目標テンソル (ターゲット文に含まれる単語のインデックス) が必要です。\n",
        "これらのベクトルを作成しながら EOS トークンを両方のシーケンスに追加します。\n"
      ]
    },
    {
      "cell_type": "code",
      "metadata": {
        "colab_type": "code",
        "id": "kX2XfskJi2Xh",
        "colab": {}
      },
      "source": [
        "def indexesFromSentence(lang, sentence):\n",
        "    return [lang.word2index[word] for word in sentence.split(' ')]\n",
        "\n",
        "\n",
        "def tensorFromSentence(lang, sentence):\n",
        "    indexes = indexesFromSentence(lang, sentence)\n",
        "    indexes.append(EOS_token)\n",
        "    return torch.tensor(indexes, dtype=torch.long, device=device).view(-1, 1)\n",
        "\n",
        "\n",
        "def tensorsFromPair(pair):\n",
        "    input_tensor = tensorFromSentence(input_lang, pair[0])\n",
        "    target_tensor = tensorFromSentence(output_lang, pair[1])\n",
        "    return (input_tensor, target_tensor)"
      ],
      "execution_count": null,
      "outputs": []
    },
    {
      "cell_type": "markdown",
      "metadata": {
        "colab_type": "text",
        "id": "Lux1qjhZi2Xl"
      },
      "source": [
        "## モデルの訓練\n",
        "<!--\n",
        "## Training the Model\n",
        "-->\n",
        "\n",
        "<!--\n",
        "To train we run the input sentence through the encoder, and keep track of every output and the latest hidden state. Then the decoder is given the ``<SOS>`` token as its first input, and the last hidden state of the encoder as its first hidden state.\n",
        "-->\n",
        "\n",
        "訓練するには，入力文をエンコーダを通して実行し，すべての出力と最新の隠さ層の状態を保持しておきます。\n",
        "そして，デコーダには最初の入力として ``<SOS>`` トークンが与えられ，エンコーダの最後の隠れ層の状態が最初の隠れ層状態として与えられます。\n",
        "\n",
        "<!--\n",
        "\"Teacher forcing\" is the concept of using the real target outputs as each next input, instead of using the decoder's guess as the next input.\n",
        "Using teacher forcing causes it to converge faster but [when the trained network is exploited, it may exhibit instability](http://citeseerx.ist.psu.edu/viewdoc/download?doi=10.1.1.378.4095&rep=rep1&type=pdf). \n",
        "-->\n",
        "\n",
        "「教師強制」 とは，デコーダの推測を次の入力として使うのではなく，実際の目標とする出力を次の入力として使うという概念です。\n",
        "教師強制を使うと収束が速くなります。ですが，[訓練されたネットワークが悪用されると不安定性を示す可能性があります](http://citeseerx.ist.psu.edu/viewdoc/download?doi=10.1.1.378.4095&rep=rep1&type=pdf)。\n",
        "\n",
        "<!--\n",
        "You can observe outputs of teacher-forced networks that read with coherent grammar but wander far from the correct translation -\n",
        "intuitively it has learned to represent the output grammar and can \"pick up\" the meaning once the teacher tells it the first few words, but it has not properly learned how to create the sentence from the translation in the first place.\n",
        "-->\n",
        "\n",
        "教師強制したネットワークの出力を観察することができます。\n",
        "直感的には，出力された文法を表現することを学んでいて，\n",
        "教師が最初の数語を教えてくれれば意味を「拾う」ことができますが，そもそも翻訳から文を作る方法を正しく学んでいません。\n",
        "\n",
        "<!--\n",
        "Because of the freedom PyTorch's autograd gives us, we can randomly choose to use teacher forcing or not with a simple if statement. \n",
        "Turn ``teacher_forcing_ratio`` up to use more of it.\n",
        "-->\n",
        "\n",
        "PyTorch の 自動微分 が与えてくれる自由度のおかげで，簡単な if 文で教師強制を使うか使わないかをランダムに選択することができます。\n",
        "教師強制を更に使うためには ``teacher_forcing_ratio`` を上げてください。\n",
        "\n"
      ]
    },
    {
      "cell_type": "code",
      "metadata": {
        "colab_type": "code",
        "id": "AoGdx45Yi2Xm",
        "colab": {}
      },
      "source": [
        "teacher_forcing_ratio = 0.5\n",
        "\n",
        "\n",
        "def train(input_tensor, target_tensor, encoder, decoder, encoder_optimizer, decoder_optimizer, criterion, max_length=MAX_LENGTH):\n",
        "    encoder_hidden = encoder.initHidden()\n",
        "\n",
        "    encoder_optimizer.zero_grad()\n",
        "    decoder_optimizer.zero_grad()\n",
        "\n",
        "    input_length = input_tensor.size(0)\n",
        "    target_length = target_tensor.size(0)\n",
        "\n",
        "    encoder_outputs = torch.zeros(max_length, encoder.hidden_size, device=device)\n",
        "\n",
        "    loss = 0\n",
        "\n",
        "    for ei in range(input_length):\n",
        "        encoder_output, encoder_hidden = encoder(\n",
        "            input_tensor[ei], encoder_hidden)\n",
        "        encoder_outputs[ei] = encoder_output[0, 0]\n",
        "\n",
        "    decoder_input = torch.tensor([[SOS_token]], device=device)\n",
        "\n",
        "    decoder_hidden = encoder_hidden\n",
        "\n",
        "    use_teacher_forcing = True if random.random() < teacher_forcing_ratio else False\n",
        "\n",
        "    if use_teacher_forcing:\n",
        "        # Teacher forcing: Feed the target as the next input\n",
        "        for di in range(target_length):\n",
        "            decoder_output, decoder_hidden, decoder_attention = decoder(\n",
        "                decoder_input, decoder_hidden, encoder_outputs)\n",
        "            loss += criterion(decoder_output, target_tensor[di])\n",
        "            decoder_input = target_tensor[di]  # Teacher forcing\n",
        "\n",
        "    else:\n",
        "        # Without teacher forcing: use its own predictions as the next input\n",
        "        for di in range(target_length):\n",
        "            decoder_output, decoder_hidden, decoder_attention = decoder(\n",
        "                decoder_input, decoder_hidden, encoder_outputs)\n",
        "            topv, topi = decoder_output.topk(1)\n",
        "            decoder_input = topi.squeeze().detach()  # detach from history as input\n",
        "\n",
        "            loss += criterion(decoder_output, target_tensor[di])\n",
        "            if decoder_input.item() == EOS_token:\n",
        "                break\n",
        "\n",
        "    loss.backward()\n",
        "\n",
        "    encoder_optimizer.step()\n",
        "    decoder_optimizer.step()\n",
        "\n",
        "    return loss.item() / target_length"
      ],
      "execution_count": null,
      "outputs": []
    },
    {
      "cell_type": "markdown",
      "metadata": {
        "colab_type": "text",
        "id": "I2-s5Lz5i2Xr"
      },
      "source": [
        "<!--\n",
        "This is a helper function to print time elapsed and estimated time remaining given the current time and progress %.\n",
        "-->\n",
        "以下は，現在の時刻と進行度％を与えられた経過時間と推定残り時間を表示するヘルパー関数です。\n"
      ]
    },
    {
      "cell_type": "code",
      "metadata": {
        "colab_type": "code",
        "id": "ZjMRsKETi2Xr",
        "colab": {}
      },
      "source": [
        "import time\n",
        "import math\n",
        "\n",
        "\n",
        "def asMinutes(s):\n",
        "    m = math.floor(s / 60)\n",
        "    s -= m * 60\n",
        "    return '%dm %ds' % (m, s)\n",
        "\n",
        "\n",
        "def timeSince(since, percent):\n",
        "    now = time.time()\n",
        "    s = now - since\n",
        "    es = s / (percent)\n",
        "    rs = es - s\n",
        "    return '%s (- %s)' % (asMinutes(s), asMinutes(rs))"
      ],
      "execution_count": null,
      "outputs": []
    },
    {
      "cell_type": "markdown",
      "metadata": {
        "colab_type": "text",
        "id": "_49yiJroi2Xx"
      },
      "source": [
        "<!--\n",
        "The whole training process looks like this:\n",
        "\n",
        "-  Start a timer\n",
        "-  Initialize optimizers and criterion\n",
        "-  Create set of training pairs\n",
        "-  Start empty losses array for plotting\n",
        "\n",
        "Then we call ``train`` many times and occasionally print the progress (% of examples, time so far, estimated time) and average loss.\n",
        "-->\n",
        "\n",
        "トレーニング全体の流れは以下のとおりです:\n",
        "\n",
        "- タイマーを開始\n",
        "- オプティマイザと収束基準を初期化\n",
        "- 訓練データ対のセットを作成\n",
        "- プロット用の空の損失配列を開始\n",
        "\n",
        "そして 何度も ``train`` を呼び出し、時々進捗状況を表示します (例文を処理した割合(％), これまでの経過時間，推定終了時間）と平均損失を表示します。\n"
      ]
    },
    {
      "cell_type": "code",
      "metadata": {
        "colab_type": "code",
        "id": "NGQFBuHJi2X3",
        "colab": {}
      },
      "source": [
        "def trainIters(encoder, decoder, n_iters, print_every=1000, plot_every=100, learning_rate=0.01):\n",
        "    start = time.time()\n",
        "    plot_losses = []\n",
        "    print_loss_total = 0  # Reset every print_every\n",
        "    plot_loss_total = 0  # Reset every plot_every\n",
        "\n",
        "    encoder_optimizer = optim.SGD(encoder.parameters(), lr=learning_rate)\n",
        "    decoder_optimizer = optim.SGD(decoder.parameters(), lr=learning_rate)\n",
        "    training_pairs = [tensorsFromPair(random.choice(pairs))\n",
        "                      for i in range(n_iters)]\n",
        "    criterion = nn.NLLLoss()\n",
        "\n",
        "    for iter in range(1, n_iters + 1):\n",
        "        training_pair = training_pairs[iter - 1]\n",
        "        input_tensor = training_pair[0]\n",
        "        target_tensor = training_pair[1]\n",
        "\n",
        "        loss = train(input_tensor, target_tensor, encoder,\n",
        "                     decoder, encoder_optimizer, decoder_optimizer, criterion)\n",
        "        print_loss_total += loss\n",
        "        plot_loss_total += loss\n",
        "\n",
        "        if iter % print_every == 0:\n",
        "            print_loss_avg = print_loss_total / print_every\n",
        "            print_loss_total = 0\n",
        "            print('%s (%d %d%%) %.4f' % (timeSince(start, iter / n_iters),\n",
        "                                         iter, iter / n_iters * 100, print_loss_avg))\n",
        "\n",
        "        if iter % plot_every == 0:\n",
        "            plot_loss_avg = plot_loss_total / plot_every\n",
        "            plot_losses.append(plot_loss_avg)\n",
        "            plot_loss_total = 0\n",
        "\n",
        "    showPlot(plot_losses)"
      ],
      "execution_count": null,
      "outputs": []
    },
    {
      "cell_type": "markdown",
      "metadata": {
        "colab_type": "text",
        "id": "d4DspKRji2YC"
      },
      "source": [
        "## 結果のプロット\n",
        "<!--\n",
        "## Plotting results\n",
        "-->\n",
        "\n",
        "<!--Plotting is done with matplotlib, using the array of loss values ``plot_losses`` saved while training.-->\n",
        "学習中に保存された損失値の配列 ``plot_losses`` を用いて matplotlib を用いてプロットを行います．\n"
      ]
    },
    {
      "cell_type": "code",
      "metadata": {
        "colab_type": "code",
        "id": "2UvCTvlGi2YC",
        "colab": {}
      },
      "source": [
        "import matplotlib.pyplot as plt\n",
        "plt.switch_backend('agg')\n",
        "import matplotlib.ticker as ticker\n",
        "import numpy as np\n",
        "\n",
        "\n",
        "def showPlot(points):\n",
        "    plt.figure()\n",
        "    fig, ax = plt.subplots()\n",
        "    # this locator puts ticks at regular intervals\n",
        "    loc = ticker.MultipleLocator(base=0.2)\n",
        "    ax.yaxis.set_major_locator(loc)\n",
        "    plt.plot(points)"
      ],
      "execution_count": null,
      "outputs": []
    },
    {
      "cell_type": "markdown",
      "metadata": {
        "colab_type": "text",
        "id": "b6rzuh7xi2YH"
      },
      "source": [
        "# 評価\n",
        "<!--\n",
        "# Evaluation\n",
        "-->\n",
        "\n",
        "<!--\n",
        "Evaluation is mostly the same as training, but there are no targets so we simply feed the decoder's predictions back to itself for each step.\n",
        "Every time it predicts a word we add it to the output string, and if it predicts the EOS token we stop there. We also store the decoder's attention outputs for display later.\n",
        "-->\n",
        "\n",
        "評価は訓練とほとんど同じです。ですがターゲットがないので，各ステップごとにデコーダの予測値を自分自身にフィードバックします。\n",
        "デコーダが単語を予測するたび，その予測値を出力文字列に追加し，EOS トークンを予測した場合はそこで停止します。\n",
        "また，後で表示するためにデコーダ注意の出力を保存します。\n"
      ]
    },
    {
      "cell_type": "code",
      "metadata": {
        "colab_type": "code",
        "id": "QlGsIbD5i2YI",
        "colab": {}
      },
      "source": [
        "def evaluate(encoder, decoder, sentence, max_length=MAX_LENGTH):\n",
        "    with torch.no_grad():\n",
        "        input_tensor = tensorFromSentence(input_lang, sentence)\n",
        "        input_length = input_tensor.size()[0]\n",
        "        encoder_hidden = encoder.initHidden()\n",
        "\n",
        "        encoder_outputs = torch.zeros(max_length, encoder.hidden_size, device=device)\n",
        "\n",
        "        for ei in range(input_length):\n",
        "            encoder_output, encoder_hidden = encoder(input_tensor[ei],\n",
        "                                                     encoder_hidden)\n",
        "            encoder_outputs[ei] += encoder_output[0, 0]\n",
        "\n",
        "        decoder_input = torch.tensor([[SOS_token]], device=device)  # SOS\n",
        "\n",
        "        decoder_hidden = encoder_hidden\n",
        "\n",
        "        decoded_words = []\n",
        "        decoder_attentions = torch.zeros(max_length, max_length)\n",
        "\n",
        "        for di in range(max_length):\n",
        "            decoder_output, decoder_hidden, decoder_attention = decoder(\n",
        "                decoder_input, decoder_hidden, encoder_outputs)\n",
        "            decoder_attentions[di] = decoder_attention.data\n",
        "            topv, topi = decoder_output.data.topk(1)\n",
        "            if topi.item() == EOS_token:\n",
        "                decoded_words.append('<EOS>')\n",
        "                break\n",
        "            else:\n",
        "                decoded_words.append(output_lang.index2word[topi.item()])\n",
        "\n",
        "            decoder_input = topi.squeeze().detach()\n",
        "\n",
        "        return decoded_words, decoder_attentions[:di + 1]"
      ],
      "execution_count": null,
      "outputs": []
    },
    {
      "cell_type": "markdown",
      "metadata": {
        "colab_type": "text",
        "id": "CPiQbUZVi2YN"
      },
      "source": [
        "<!--\n",
        "We can evaluate random sentences from the training set and print out the input, target, and output to make some subjective quality judgements:\n",
        "-->\n",
        "\n",
        "訓練セットからランダムな文章を評価し，入力，ターゲット，出力を印字することで，いくつかの主観的な質的質判断を行うことができます:\n",
        "\n",
        "\n"
      ]
    },
    {
      "cell_type": "code",
      "metadata": {
        "colab_type": "code",
        "id": "xwsseZqsi2YP",
        "colab": {}
      },
      "source": [
        "def evaluateRandomly(encoder, decoder, n=10):\n",
        "    for i in range(n):\n",
        "        pair = random.choice(pairs)\n",
        "        print('>', pair[0])\n",
        "        print('=', pair[1])\n",
        "        output_words, attentions = evaluate(encoder, decoder, pair[0])\n",
        "        output_sentence = ' '.join(output_words)\n",
        "        print('<', output_sentence)\n",
        "        print('')"
      ],
      "execution_count": null,
      "outputs": []
    },
    {
      "cell_type": "markdown",
      "metadata": {
        "colab_type": "text",
        "id": "xYGX9n0Oi2YT"
      },
      "source": [
        "## 訓練と評価\n",
        "<!--\n",
        "## Training and Evaluating\n",
        "-->\n",
        "\n",
        "<!--\n",
        "With all these helper functions in place (it looks like extra work, but it makes it easier to run multiple experiments) we can actually initialize a network and start training.\n",
        "-->\n",
        "\n",
        "これらのヘルパー関数がすべて揃っていれば (余計な作業のように見えますが，複数の実験を行うのが簡単になります)，実際にネットワークを初期化して学習を開始することができます。\n",
        "\n",
        "<!--\n",
        "Remember that the input sentences were heavily filtered. For this small dataset we can use relatively small networks of 256 hidden nodes and a single GRU layer. \n",
        "After about 40 minutes on a MacBook CPU we'll get some reasonable results.\n",
        "-->\n",
        "\n",
        "入力文は大きくフィルタリングされていることを覚えておいてください。\n",
        "この小さなデータセットでは 256 個の隠れノードと 1 つの GRU層 からなる比較的小さなネットワークを使うことができます。\n",
        "MacBook の CPU で 約40分後には それなりの結果が得られるでしょう。\n",
        "\n",
        "#### 覚書:\n",
        "<!---.. Note::-->\n",
        "<!--\n",
        "If you run this notebook you can train, interrupt the kernel, evaluate, and continue training later. Comment out the lines where the encoder and decoder are initialized and run ``trainIters`` again.\n",
        "-->\n",
        "\n",
        "このノートブックを実行すると，訓練をしたり，カーネルを中断したり，評価したり，後で訓練を続けたりすることができます。\n",
        "エンコーダとデコーダが初期化されている行をコメントアウトして，再度  ``trainIters`` を実行してください。\n",
        "\n",
        "\n"
      ]
    },
    {
      "cell_type": "code",
      "metadata": {
        "colab_type": "code",
        "id": "9qyRimkfi2YW",
        "colab": {
          "base_uri": "https://localhost:8080/",
          "height": 119
        },
        "outputId": "891d987e-a709-402e-a0e0-2c4b558264c0"
      },
      "source": [
        "hidden_size = 256\n",
        "encoder1 = EncoderRNN(input_lang.n_words, hidden_size).to(device)\n",
        "attn_decoder1 = AttnDecoderRNN(hidden_size, output_lang.n_words, dropout_p=0.1).to(device)\n",
        "\n",
        "trainIters(encoder1, attn_decoder1, 75000, print_every=5000)"
      ],
      "execution_count": null,
      "outputs": [
        {
          "output_type": "stream",
          "text": [
            "2m 10s (- 30m 31s) (5000 6%) 2.8471\n",
            "4m 17s (- 27m 52s) (10000 13%) 2.2871\n",
            "6m 24s (- 25m 36s) (15000 20%) 1.9710\n",
            "8m 30s (- 23m 23s) (20000 26%) 1.7186\n",
            "10m 35s (- 21m 10s) (25000 33%) 1.5460\n",
            "12m 39s (- 18m 58s) (30000 40%) 1.3600\n"
          ],
          "name": "stdout"
        }
      ]
    },
    {
      "cell_type": "code",
      "metadata": {
        "colab_type": "code",
        "id": "1LatOOlSi2Ya",
        "colab": {}
      },
      "source": [
        "evaluateRandomly(encoder1, attn_decoder1)"
      ],
      "execution_count": null,
      "outputs": []
    },
    {
      "cell_type": "markdown",
      "metadata": {
        "colab_type": "text",
        "id": "Zf6r5r5wi2Yd"
      },
      "source": [
        "## 注意の視覚化\n",
        "<!--\n",
        "## Visualizing Attention\n",
        "-->\n",
        "\n",
        "<!--\n",
        "A useful property of the attention mechanism is its highly interpretable outputs. \n",
        "Because it is used to weight specific encoder outputs of the input sequence, we can imagine looking where the network is focused most at each time step.\n",
        "-->\n",
        "\n",
        "注意メカニズムの有用な特性は、その高度に解釈可能な出力です。\n",
        "これは入力系列の特定のエンコーダ出力を重み付けするために使われているので，各タイムステップでネットワークがどこに最も集中しているかを見ることができます。\n",
        "\n",
        "<!--\n",
        "You could simply run ``plt.matshow(attentions)`` to see attention output displayed as a matrix, with the columns being input steps and rows being output steps:\n",
        "-->\n",
        "\n",
        "単に ``plt.matshow(attentions)`` を実行すると，注意の出力が行列として表示されます。\n",
        "列が入力ステップ，行が出力ステップとなります。\n"
      ]
    },
    {
      "cell_type": "code",
      "metadata": {
        "colab_type": "code",
        "id": "bMS-497_i2Ye",
        "colab": {}
      },
      "source": [
        "output_words, attentions = evaluate(\n",
        "    encoder1, attn_decoder1, \"je suis trop froid .\")\n",
        "plt.matshow(attentions.numpy())"
      ],
      "execution_count": null,
      "outputs": []
    },
    {
      "cell_type": "markdown",
      "metadata": {
        "colab_type": "text",
        "id": "mJpIJm_Hi2Yh"
      },
      "source": [
        "<!--\n",
        "For a better viewing experience we will do the extra work of adding axes and labels:\n",
        "-->\n",
        "より見やすくするために 軸とラベルの追加作業を行います:\n"
      ]
    },
    {
      "cell_type": "code",
      "metadata": {
        "colab_type": "code",
        "id": "mbB8Q824i2Yh",
        "colab": {}
      },
      "source": [
        "def showAttention(input_sentence, output_words, attentions):\n",
        "    # Set up figure with colorbar\n",
        "    fig = plt.figure()\n",
        "    ax = fig.add_subplot(111)\n",
        "    cax = ax.matshow(attentions.numpy(), cmap='bone')\n",
        "    fig.colorbar(cax)\n",
        "\n",
        "    # Set up axes\n",
        "    ax.set_xticklabels([''] + input_sentence.split(' ') +\n",
        "                       ['<EOS>'], rotation=90)\n",
        "    ax.set_yticklabels([''] + output_words)\n",
        "\n",
        "    # Show label at every tick\n",
        "    ax.xaxis.set_major_locator(ticker.MultipleLocator(1))\n",
        "    ax.yaxis.set_major_locator(ticker.MultipleLocator(1))\n",
        "\n",
        "    plt.show()\n",
        "\n",
        "\n",
        "def evaluateAndShowAttention(input_sentence):\n",
        "    output_words, attentions = evaluate(\n",
        "        encoder1, attn_decoder1, input_sentence)\n",
        "    print('input =', input_sentence)\n",
        "    print('output =', ' '.join(output_words))\n",
        "    showAttention(input_sentence, output_words, attentions)\n",
        "\n",
        "\n",
        "evaluateAndShowAttention(\"elle a cinq ans de moins que moi .\")\n",
        "\n",
        "evaluateAndShowAttention(\"elle est trop petit .\")\n",
        "\n",
        "evaluateAndShowAttention(\"je ne crains pas de mourir .\")\n",
        "\n",
        "evaluateAndShowAttention(\"c est un jeune directeur plein de talent .\")"
      ],
      "execution_count": null,
      "outputs": []
    },
    {
      "cell_type": "markdown",
      "metadata": {
        "colab_type": "text",
        "id": "QfotN-Idi2Yp"
      },
      "source": [
        "## 演習\n",
        "<!--\n",
        "## Exercises\n",
        "-->\n",
        "\n",
        "<!--\n",
        "- Try with a different dataset\n",
        "    - Another language pair\n",
        "    - Human → Machine (e.g. IOT commands)\n",
        "    - Chat → Response\n",
        "    - Question → Answer\n",
        "-->\n",
        "\n",
        "- 別のデータセットで試してみよ\n",
        "    - 別の言語ペア\n",
        "    - 人間 → 機械（IoTコマンドなど)\n",
        "    - チャット → レスポンス\n",
        "    - 質問 → 回答\n",
        "\n",
        "<!--\n",
        "-  Replace the embeddings with pre-trained word embeddings such as word2vec or GloVe\n",
        "-  Try with more layers, more hidden units, and more sentences. Compare the training time and results.\n",
        "-  If you use a translation file where pairs have two of the same phrase  (``I am test \\t I am test``), you can use this as an autoencoder. \n",
        "-->\n",
        "\n",
        "- 埋め込みを word2vec や GloVe のような学習済みの単語埋め込みに置き換えよ。\n",
        "- より多くの層，より多くの隠れユニット，より多くの文で試してみよ。学習時間と結果を比較せよ\n",
        "- 同じフレーズのペアが 2 つある翻訳ファイル (``I am test \\t I am test``) を使っている場合は これをオートエンコーダーとして使うことができる。\n",
        "\n",
        "<!--\n",
        "Try this:\n",
        "    - Train as an autoencoder\n",
        "    - Save only the Encoder network\n",
        "    - Train a new Decoder for translation from there\n",
        "-->\n",
        "\n",
        "以下を試してみよ\n",
        "    - オートエンコーダーとして訓練する\n",
        "    - エンコーダネットワークのみ保存する\n",
        "    - そこから翻訳のための新しいデコーダーを訓練する\n",
        "\n"
      ]
    }
  ]
}