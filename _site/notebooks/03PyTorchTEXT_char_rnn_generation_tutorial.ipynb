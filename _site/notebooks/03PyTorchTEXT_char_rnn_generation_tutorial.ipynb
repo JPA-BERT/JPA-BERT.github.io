{
  "nbformat": 4,
  "nbformat_minor": 0,
  "metadata": {
    "colab": {
      "name": "03PyTorchTEXT_char_rnn_generation_tutorial.ipynb",
      "provenance": [],
      "include_colab_link": true
    },
    "kernelspec": {
      "display_name": "Python 3",
      "language": "python",
      "name": "python3"
    },
    "language_info": {
      "codemirror_mode": {
        "name": "ipython",
        "version": 3
      },
      "file_extension": ".py",
      "mimetype": "text/x-python",
      "name": "python",
      "nbconvert_exporter": "python",
      "pygments_lexer": "ipython3",
      "version": "3.7.7"
    }
  },
  "cells": [
    {
      "cell_type": "markdown",
      "metadata": {
        "id": "view-in-github",
        "colab_type": "text"
      },
      "source": [
        "<a href=\"https://colab.research.google.com/github/JPA-BERT/jpa-bert.github.io/blob/master/notebooks/03PyTorchTEXT_char_rnn_generation_tutorial.ipynb\" target=\"_parent\"><img src=\"https://colab.research.google.com/assets/colab-badge.svg\" alt=\"Open In Colab\"/></a>"
      ]
    },
    {
      "cell_type": "markdown",
      "metadata": {
        "id": "LSBn_wGt0t0a",
        "colab_type": "text"
      },
      "source": [
        "---\n",
        "    \n",
        "このファイルは PyTorch のチュートリアルにあるファイル <https://pytorch.org/tutorials/intermediate/char_rnn_generation_tutorial.html> を翻訳して，加筆修正したもの\n",
        "です。\n",
        "\n",
        "すぐれたチュートリアルの内容，コードを公開された Sean Robertson と PyTorch 開発陣に敬意を表します。\n",
        "\n",
        "- Original: \n",
        "- Date: 2020-0811\n",
        "- Translated and modified: Shin Asakawa <asakawa@ieee.org>\n",
        "\n",
        "---"
      ]
    },
    {
      "cell_type": "code",
      "metadata": {
        "id": "7A-xHnZB0t0b",
        "colab_type": "code",
        "colab": {}
      },
      "source": [
        "# from https://github.com/dmlc/xgboost/issues/1715\n",
        "import os\n",
        "os.environ['KMP_DUPLICATE_LIB_OK']='True'"
      ],
      "execution_count": 1,
      "outputs": []
    },
    {
      "cell_type": "code",
      "metadata": {
        "colab_type": "code",
        "id": "pM3e8RZSirWX",
        "colab": {}
      },
      "source": [
        "%matplotlib inline"
      ],
      "execution_count": 2,
      "outputs": []
    },
    {
      "cell_type": "markdown",
      "metadata": {
        "colab_type": "text",
        "id": "6P2d_Sb6irWw"
      },
      "source": [
        "# ゼロからの NLP (自然言語処理): 文字レベル RNN による苗字の生成\n",
        "<!--\n",
        "# NLP From Scratch: Generating Names with a Character-Level RNN\n",
        "-->\n",
        "\n",
        "**Author**: [Sean Robertson](https://github.com/spro/practical-pytorch)\n",
        "\n",
        "「ゼロからの NLP」の 3 つのチュートリアルの 第2回目です。\n",
        "[1 回目のチュートリアル](intermediate/char_rnn_classification_tutorial) \n",
        "(訳注: この翻訳では <>)\n",
        "では RNN を使って名前をその言語に分類しました。\n",
        "今回は裏を返せば，言語から名前を生成します。\n",
        "\n",
        "<!--\n",
        "This is our second of three tutorials on \"NLP From Scratch\". \n",
        "In the [first tutorial](intermediate/char_rnn_classification_tutorial), we used a RNN to classify names into their language of origin. \n",
        "This time we'll turn around and generate names from languages.\n",
        "-->\n",
        "\n",
        "```bash\n",
        "$ python sample.py Russian RUS\n",
        "Rovakov\n",
        "Uantov\n",
        "Shavakov\n",
        "\n",
        "$ python sample.py German GER\n",
        "Gerren\n",
        "Ereng\n",
        "Rosher\n",
        "\n",
        "$ python sample.py Spanish SPA\n",
        "Salla\n",
        "Parer\n",
        "Allan\n",
        "\n",
        "$ python sample.py Chinese CHI\n",
        "Chan\n",
        "Hang\n",
        "Iun\n",
        "```\n",
        "\n",
        "We are still hand-crafting a small RNN with a few linear layers. \n",
        "The big difference is instead of predicting a category after reading in all the letters of a name, we input a category and output one letter at a time.\n",
        "Recurrently predicting characters to form language (this could also be done with words or other higher order constructs) is often referred to as a \"language model\".\n",
        "\n",
        "\n",
        "**推薦図書:**\n",
        "<!--**Recommended Reading:**-->\n",
        "\n",
        "<!--I assume you have at least installed PyTorch, know Python, and understand Tensors:-->\n",
        "\n",
        "このチュートリアルでは，最低限，インストール済 PyTorch，Python を知っていること，Tensors を理解していることを前提としています。\n",
        "\n",
        "- https://pytorch.org/ インストール方法について<!--For installation instructions-->\n",
        "- [deep_learning_60min_blitz](https://pytorch.org/tutorials/beginner/deep_learning_60min_blitz.html) PyTorch を始めるには <!--to get started with PyTorch in general-->\n",
        "- [pytorch_with_examples](https://pytorch.org/tutorials/beginner/pytorch_with_examples.html) 広範囲で深い概観 <!--for a wide and deep overview-->\n",
        "- [former_torchies_tutorial](https://pytorch.org/tutorials/beginner/former_torchies_tutorial.html?highlight=former%20tutorials) Lua ユーザのためのチュートリアル <!--if you are former Lua Torch user-->\n",
        "\n",
        "リカレントニューラルネットワークとその動作について有益な情報:\n",
        "<!--It would also be useful to know about RNNs and how they work:-->\n",
        "\n",
        "-  [The Unreasonable Effectiveness of Recurrent Neural Networks](https://karpathy.github.io/2015/05/21/rnn-effectiveness/) 有益な事例の例証 <!--shows a bunch of real life examples -->\n",
        "-  [Understanding LSTM Networks](https://colah.github.io/posts/2015-08-Understanding-LSTMs/) 具体的には LSTM についてですが，一般的には RNN についても参考になります。<!--is about LSTMs specifically but also informative about RNNs in  general-->\n",
        "\n",
        "## データの準備\n",
        "<!--\n",
        "## Preparing the Data\n",
        "-->\n",
        "\n",
        "### 覚書:\n",
        "<!--\n",
        "### Note:\n",
        "-->\n",
        "\n",
        "ここからデータをダウンロードして，カレントディレクトリに解凍してください\n",
        "<!--\n",
        "Download the data from [here](https://download.pytorch.org/tutorial/data.zip) and extract it to the current directory.\n",
        "-->\n",
        "\n",
        "``data/names`` ディレクトリは 18 個のテキストファイルがあります。各々 \"\\[Language\\].txt\" というファイル名です。\n",
        "各ファイルは各行に一つ名前が書かれています。順番はランダマイズされていますが，ユニコードをアスキー文字に変換する必要があります。\n",
        "<!--\n",
        "Included in the ``data/names`` directory are 18 text files named as \"[Language].txt\". \n",
        "Each file contains a bunch of names, one name per line, mostly romanized (but we still need to convert from Unicode to ASCII).\n",
        "-->\n",
        "\n",
        "最終的には言語ごとの名前のリストの辞書 ``{language: [names ...]}`` です。\n",
        "一般的な変数 \"category\" と \"line\"（ここでは言語と名前を表す）は後で必要となる拡張性のためです。\n",
        "<!--\n",
        "We'll end up with a dictionary of lists of names per language, ``{language: [names ...]}``. \n",
        "The generic variables \"category\" and \"line\" (for language and name in our case) are used for later extensibility.\n",
        "-->\n"
      ]
    },
    {
      "cell_type": "code",
      "metadata": {
        "id": "ArzSGvWG0t0k",
        "colab_type": "code",
        "colab": {}
      },
      "source": [
        "!wget https://download.pytorch.org/tutorial/data.zip\n",
        "!unzip data.zip   "
      ],
      "execution_count": null,
      "outputs": []
    },
    {
      "cell_type": "code",
      "metadata": {
        "colab_type": "code",
        "id": "2OVuKuaeirWz",
        "colab": {
          "base_uri": "https://localhost:8080/",
          "height": 71
        },
        "outputId": "af48dc0d-cacb-47e9-c644-74b719aaad0f"
      },
      "source": [
        "from __future__ import unicode_literals, print_function, division\n",
        "from io import open\n",
        "import glob\n",
        "import os\n",
        "import unicodedata\n",
        "import string\n",
        "\n",
        "all_letters = string.ascii_letters + \" .,;'-\"\n",
        "n_letters = len(all_letters) + 1 # Plus EOS marker\n",
        "\n",
        "def findFiles(path): return glob.glob(path)\n",
        "\n",
        "# Turn a Unicode string to plain ASCII, thanks to https://stackoverflow.com/a/518232/2809427\n",
        "def unicodeToAscii(s):\n",
        "    return ''.join(\n",
        "        c for c in unicodedata.normalize('NFD', s)\n",
        "        if unicodedata.category(c) != 'Mn'\n",
        "        and c in all_letters\n",
        "    )\n",
        "\n",
        "# Read a file and split into lines\n",
        "def readLines(filename):\n",
        "    lines = open(filename, encoding='utf-8').read().strip().split('\\n')\n",
        "    return [unicodeToAscii(line) for line in lines]\n",
        "\n",
        "# Build the category_lines dictionary, a list of lines per category\n",
        "category_lines = {}\n",
        "all_categories = []\n",
        "for filename in findFiles('data/names/*.txt'):\n",
        "    category = os.path.splitext(os.path.basename(filename))[0]\n",
        "    all_categories.append(category)\n",
        "    lines = readLines(filename)\n",
        "    category_lines[category] = lines\n",
        "\n",
        "n_categories = len(all_categories)\n",
        "\n",
        "if n_categories == 0:\n",
        "    raise RuntimeError('Data not found. Make sure that you downloaded data '\n",
        "        'from https://download.pytorch.org/tutorial/data.zip and extract it to '\n",
        "        'the current directory.')\n",
        "\n",
        "print('# categories:', n_categories, all_categories)\n",
        "print(unicodeToAscii(\"O'Néàl\"))"
      ],
      "execution_count": 15,
      "outputs": [
        {
          "output_type": "stream",
          "text": [
            "# categories: 18 ['Portuguese', 'Greek', 'Arabic', 'Korean', 'Italian', 'Scottish', 'Vietnamese', 'Japanese', 'German', 'Russian', 'Polish', 'Czech', 'Irish', 'French', 'Spanish', 'English', 'Dutch', 'Chinese']\n",
            "O'Neal\n"
          ],
          "name": "stdout"
        }
      ]
    },
    {
      "cell_type": "markdown",
      "metadata": {
        "colab_type": "text",
        "id": "IfjocISAirW7"
      },
      "source": [
        "## ネットワークの作成\n",
        "\n",
        "<!--\n",
        "## Creating the Network\n",
        "-->\n",
        "\n",
        "<!--\n",
        "This network extends [the last tutorial's RNN](Creating-the-Network) with an extra argument for the category tensor, which is concatenated along with the others. \n",
        "The category tensor is a one-hot vector just like the letter input.\n",
        "-->\n",
        "\n",
        "このネットワークは、[前回のチュートリアルの RNN](Creating-the-Network)を拡張したものです。\n",
        "カテゴリテンソルのための追加引数を持ち，他の引数と一緒に連結されます。\n",
        "カテゴリテンソルは，文字入力と同じように 1 つのホットベクトルです。\n",
        "\n",
        "<!--\n",
        "We will interpret the output as the probability of the next letter. \n",
        "When sampling, the most likely output letter is used as the next input letter.\n",
        "-->\n",
        "\n",
        "出力は次の文字の確率として解釈します。\n",
        "サンプリングの際には，出力される可能性の高い文字を次の入力文字として使用します。\n",
        "\n",
        "I added a second linear layer ``o2o`` (after combining hidden and output) to give it more muscle to work with. \n",
        "There's also a dropout layer, which [randomly zeros parts of its input](https://arxiv.org/abs/1207.0580) with a given probability (here 0.1) and is usually used to fuzz inputs to prevent overfitting.\n",
        "Here we're using it towards the end of the network to purposely add some chaos and increase sampling variety.\n",
        "\n",
        "2つ目の線形層 ``o2o`` (hidden と output を組み合わせた後に) を追加して，作業にメリハリをつけるようにしました。\n",
        "ドロップアウト層もあります。これは [入力の一部をランダムにゼロにする](https://arxiv.org/abs/1207.0580) というものです。\n",
        "与えられた確率 (ここでは 0.1)で，通常はオーバーフィットを防ぐために入力をファズさせるのに使われます。\n",
        "ここでは意図的にカオスを加えてサンプリングの多様性を高めるために，ネットワークの最後に使用しています。\n",
        "\n",
        "<!--\n",
        ".. figure:: https://i.imgur.com/jzVrf7f.png\n",
        "   :alt:\n",
        "-->\n",
        "\n",
        "\n",
        "<img src=\"https://i.imgur.com/jzVrf7f.png\" style=\"width:33%\">\n"
      ]
    },
    {
      "cell_type": "code",
      "metadata": {
        "colab_type": "code",
        "id": "zQ8SBX6birW7",
        "colab": {}
      },
      "source": [
        "import torch\n",
        "import torch.nn as nn\n",
        "\n",
        "class RNN(nn.Module):\n",
        "    def __init__(self, input_size, hidden_size, output_size):\n",
        "        super(RNN, self).__init__()\n",
        "        self.hidden_size = hidden_size\n",
        "\n",
        "        self.i2h = nn.Linear(n_categories + input_size + hidden_size, hidden_size)\n",
        "        self.i2o = nn.Linear(n_categories + input_size + hidden_size, output_size)\n",
        "        self.o2o = nn.Linear(hidden_size + output_size, output_size)\n",
        "        self.dropout = nn.Dropout(0.1)\n",
        "        self.softmax = nn.LogSoftmax(dim=1)\n",
        "\n",
        "    def forward(self, category, input, hidden):\n",
        "        input_combined = torch.cat((category, input, hidden), 1)\n",
        "        hidden = self.i2h(input_combined)\n",
        "        output = self.i2o(input_combined)\n",
        "        output_combined = torch.cat((hidden, output), 1)\n",
        "        output = self.o2o(output_combined)\n",
        "        output = self.dropout(output)\n",
        "        output = self.softmax(output)\n",
        "        return output, hidden\n",
        "\n",
        "    def initHidden(self):\n",
        "        return torch.zeros(1, self.hidden_size)"
      ],
      "execution_count": 16,
      "outputs": []
    },
    {
      "cell_type": "markdown",
      "metadata": {
        "colab_type": "text",
        "id": "iih8n_YnirW_"
      },
      "source": [
        "# 訓練\n",
        "<!--\n",
        "## Training\n",
        "-->\n",
        "\n",
        "## 訓練の準備\n",
        "<!--\n",
        "## Preparing for Training\n",
        "-->\n",
        "\n",
        "最初に，カテゴリと行のランダム対を得るためのヘルパー関数を定義します:\n",
        "<!--\n",
        "First of all, helper functions to get random pairs of (category, line):\n",
        "-->\n",
        "\n"
      ]
    },
    {
      "cell_type": "code",
      "metadata": {
        "colab_type": "code",
        "id": "axcYghQRirXB",
        "colab": {}
      },
      "source": [
        "import random\n",
        "\n",
        "# Random item from a list\n",
        "def randomChoice(l):\n",
        "    return l[random.randint(0, len(l) - 1)]\n",
        "\n",
        "# Get a random category and random line from that category\n",
        "def randomTrainingPair():\n",
        "    category = randomChoice(all_categories)\n",
        "    line = randomChoice(category_lines[category])\n",
        "    return category, line"
      ],
      "execution_count": 17,
      "outputs": []
    },
    {
      "cell_type": "markdown",
      "metadata": {
        "colab_type": "text",
        "id": "r9fHf483irXF"
      },
      "source": [
        "<!--\n",
        "For each timestep (that is, for each letter in a training word) the inputs of the network will be ``(category, current letter, hidden state)`` and the outputs will be ``(next letter, next hidden state)``. So for each training set, we'll need the category, a set of input letters, and a set of output/target letters.\n",
        "-->\n",
        "\n",
        "各タイムステップ(つまり学習単語の中の各文字)において，ネットワークの入力は ``(カテゴリ, 現在の文字, 隠れた状態)`` となります。\n",
        "出力は ``(次の文字, 次の隠れた状態)`` です。\n",
        "したがって，それぞれの学習セットに対して，カテゴリ，入力文字のセット，出力/ターゲット文字のセットが必要になります。\n",
        "\n",
        "<!--\n",
        "Since we are predicting the next letter from the current letter for each timestep, the letter pairs are groups of consecutive letters from the line - e.g. for ``\"ABCD<EOS>\"`` we would create (\"A\", \"B\"), (\"B\", \"C\"), (\"C\", \"D\"), (\"D\", \"EOS\").\n",
        "-->\n",
        "\n",
        "各タイムステップで現在の文字から次の文字を予測しているので，文字ペアはその行の連続した文字のグループになります - 例えば，\"ABCD<EOS>\" の場合 (\"A\", \"B\"), (\"B\", \"C\"), (\"C\", \"D\"), (\"D\", \"EOS\")となります。\n",
        "\n",
        "\n",
        "<!--\n",
        ".. figure:: https://i.imgur.com/JH58tXY.png\n",
        "   :alt:\n",
        "-->\n",
        "\n",
        "<img src=\"https://i.imgur.com/JH58tXY.png\" style=\"width:66%\">\n",
        "\n",
        "<!--\n",
        "The category tensor is a [one-hot tensor](https://en.wikipedia.org/wiki/One-hot) of size ``<1 x n_categories>``. \n",
        "When training we feed it to the network at every timestep - this is a design choice, it could have been included as part of initial hidden state or some other strategy.\n",
        "-->\n",
        "    \n",
        "カテゴリテンソルはサイズ ``[1 x n_categories]``  の [ワンホットテンソル](https://en.wikipedia.org/wiki/One-hot) です。\n",
        "これは設計上の選択であり，初期の隠れ層や他の戦略の一部として含まれている可能性があります。\n",
        "\n"
      ]
    },
    {
      "cell_type": "code",
      "metadata": {
        "colab_type": "code",
        "id": "oPnqgNFYirXI",
        "colab": {}
      },
      "source": [
        "# One-hot vector for category\n",
        "def categoryTensor(category):\n",
        "    li = all_categories.index(category)\n",
        "    tensor = torch.zeros(1, n_categories)\n",
        "    tensor[0][li] = 1\n",
        "    return tensor\n",
        "\n",
        "# One-hot matrix of first to last letters (not including EOS) for input\n",
        "def inputTensor(line):\n",
        "    tensor = torch.zeros(len(line), 1, n_letters)\n",
        "    for li in range(len(line)):\n",
        "        letter = line[li]\n",
        "        tensor[li][0][all_letters.find(letter)] = 1\n",
        "    return tensor\n",
        "\n",
        "# LongTensor of second letter to end (EOS) for target\n",
        "def targetTensor(line):\n",
        "    letter_indexes = [all_letters.find(line[li]) for li in range(1, len(line))]\n",
        "    letter_indexes.append(n_letters - 1) # EOS\n",
        "    return torch.LongTensor(letter_indexes)"
      ],
      "execution_count": 18,
      "outputs": []
    },
    {
      "cell_type": "markdown",
      "metadata": {
        "colab_type": "text",
        "id": "7PwCO1q9irXq"
      },
      "source": [
        "<!--\n",
        "For convenience during training we'll make a ``randomTrainingExample`` function that fetches a random (category, line) pair and turns them into the required (category, input, target) tensors.\n",
        "-->\n",
        "\n",
        "学習中に便利なように ``randomTrainingExample`` 関数を作ってみましょう。\n",
        "訓練中にランダムな (カテゴリと行との)対を取得し，それを必要な(カテゴリ, 入力, 目標) テンソルに変換する簡単な ``randomTrainingExample`` 関数を作ってみましょう。\n"
      ]
    },
    {
      "cell_type": "code",
      "metadata": {
        "colab_type": "code",
        "id": "9VaeUAKSirXt",
        "colab": {}
      },
      "source": [
        "# Make category, input, and target tensors from a random category, line pair\n",
        "def randomTrainingExample():\n",
        "    category, line = randomTrainingPair()\n",
        "    category_tensor = categoryTensor(category)\n",
        "    input_line_tensor = inputTensor(line)\n",
        "    target_line_tensor = targetTensor(line)\n",
        "    return category_tensor, input_line_tensor, target_line_tensor"
      ],
      "execution_count": 19,
      "outputs": []
    },
    {
      "cell_type": "markdown",
      "metadata": {
        "colab_type": "text",
        "id": "U7fGhg_CirYI"
      },
      "source": [
        "## ネットワークを訓練する\n",
        "<!--\n",
        "## Training the Network\n",
        "-->\n",
        "\n",
        "<!--\n",
        "In contrast to classification, where only the last output is used, we are making a prediction at every step, so we are calculating loss at every step.\n",
        "\n",
        "The magic of autograd allows you to simply sum these losses at each step and call backward at the end.\n",
        "-->\n",
        "\n",
        "最後の出力だけを使う分類とは違い，ステップごとに予測をしているのでステップごとに損失を計算しています。\n",
        "\n",
        "自動微分のマジックを使えば，これらの損失を各ステップで単純に合計して，最後に逆算して呼び出すことができます。\n"
      ]
    },
    {
      "cell_type": "code",
      "metadata": {
        "colab_type": "code",
        "id": "emWoCt3firYI",
        "colab": {}
      },
      "source": [
        "criterion = nn.NLLLoss()\n",
        "\n",
        "learning_rate = 0.0005\n",
        "\n",
        "def train(category_tensor, input_line_tensor, target_line_tensor):\n",
        "    target_line_tensor.unsqueeze_(-1)\n",
        "    hidden = rnn.initHidden()\n",
        "\n",
        "    rnn.zero_grad()\n",
        "\n",
        "    loss = 0\n",
        "\n",
        "    for i in range(input_line_tensor.size(0)):\n",
        "        output, hidden = rnn(category_tensor, input_line_tensor[i], hidden)\n",
        "        l = criterion(output, target_line_tensor[i])\n",
        "        loss += l\n",
        "\n",
        "    loss.backward()\n",
        "\n",
        "    for p in rnn.parameters():\n",
        "        p.data.add_(p.grad.data, alpha=-learning_rate)\n",
        "\n",
        "    return output, loss.item() / input_line_tensor.size(0)"
      ],
      "execution_count": 20,
      "outputs": []
    },
    {
      "cell_type": "markdown",
      "metadata": {
        "colab_type": "text",
        "id": "BesZ2dNhirYR"
      },
      "source": [
        "<!--\n",
        "To keep track of how long training takes I am adding a ``timeSince(timestamp)`` function which returns a human readable string:\n",
        "-->\n",
        "\n",
        "訓練に要した時間を記録するため，人間が読める文字列を返す ``timeSince(timestamp)`` 関数を追加しています。\n"
      ]
    },
    {
      "cell_type": "code",
      "metadata": {
        "colab_type": "code",
        "id": "NRFTmii-irYS",
        "colab": {}
      },
      "source": [
        "import time\n",
        "import math\n",
        "\n",
        "def timeSince(since):\n",
        "    now = time.time()\n",
        "    s = now - since\n",
        "    m = math.floor(s / 60)\n",
        "    s -= m * 60\n",
        "    return '%dm %ds' % (m, s)"
      ],
      "execution_count": 21,
      "outputs": []
    },
    {
      "cell_type": "markdown",
      "metadata": {
        "colab_type": "text",
        "id": "EVii19R9irYV"
      },
      "source": [
        "<!--\n",
        "Training is business as usual - call train a bunch of times and wait a few minutes, printing the current time and loss every ``print_every`` examples, and keeping store of an average loss per ``plot_every`` examples in ``all_losses`` for plotting later.\n",
        "-->\n",
        "\n",
        "訓練はいつものように行います。\n",
        "`train` を何度も呼び出して数分待ち，現在の時間と損失を `print_every` の例ごとに表示します。\n",
        "後でプロットするために `plot_every` の例ごとの平均損失を `all_losses` の中に保存します。\n",
        "\n"
      ]
    },
    {
      "cell_type": "code",
      "metadata": {
        "colab_type": "code",
        "id": "vqV3i6t5irYW",
        "colab": {
          "base_uri": "https://localhost:8080/",
          "height": 357
        },
        "outputId": "7c9b1bb8-996e-45b8-b02f-7049137172ed"
      },
      "source": [
        "rnn = RNN(n_letters, 128, n_letters)\n",
        "\n",
        "n_iters = 100000\n",
        "print_every = 5000\n",
        "plot_every = 500\n",
        "all_losses = []\n",
        "total_loss = 0 # Reset every plot_every iters\n",
        "\n",
        "start = time.time()\n",
        "\n",
        "for iter in range(1, n_iters + 1):\n",
        "    output, loss = train(*randomTrainingExample())\n",
        "    total_loss += loss\n",
        "\n",
        "    if iter % print_every == 0:\n",
        "        print('%s (%d %d%%) %.4f' % (timeSince(start), iter, iter / n_iters * 100, loss))\n",
        "\n",
        "    if iter % plot_every == 0:\n",
        "        all_losses.append(total_loss / plot_every)\n",
        "        total_loss = 0"
      ],
      "execution_count": 22,
      "outputs": [
        {
          "output_type": "stream",
          "text": [
            "0m 14s (5000 5%) 2.8376\n",
            "0m 28s (10000 10%) 2.6974\n",
            "0m 42s (15000 15%) 3.0707\n",
            "0m 57s (20000 20%) 2.6628\n",
            "1m 11s (25000 25%) 2.9733\n",
            "1m 26s (30000 30%) 3.0265\n",
            "1m 40s (35000 35%) 2.4190\n",
            "1m 55s (40000 40%) 1.9681\n",
            "2m 9s (45000 45%) 2.0322\n",
            "2m 24s (50000 50%) 2.2317\n",
            "2m 38s (55000 55%) 1.9612\n",
            "2m 52s (60000 60%) 2.3128\n",
            "3m 7s (65000 65%) 2.5840\n",
            "3m 21s (70000 70%) 1.2222\n",
            "3m 35s (75000 75%) 2.0350\n",
            "3m 49s (80000 80%) 3.4048\n",
            "4m 4s (85000 85%) 2.0767\n",
            "4m 18s (90000 90%) 1.9382\n",
            "4m 32s (95000 95%) 3.5228\n",
            "4m 47s (100000 100%) 1.6025\n"
          ],
          "name": "stdout"
        }
      ]
    },
    {
      "cell_type": "markdown",
      "metadata": {
        "colab_type": "text",
        "id": "i7RERgbFirYd"
      },
      "source": [
        "## 損失関数のプロット\n",
        "<!--\n",
        "## Plotting the Losses\n",
        "-->\n",
        "\n",
        "<!--Plotting the historical loss from all\\_losses shows the network learning:-->\n",
        "\n",
        "すべての損失から損失値の履歴をプロットすると ネットワークの学習過程を示します:\n",
        "\n"
      ]
    },
    {
      "cell_type": "code",
      "metadata": {
        "colab_type": "code",
        "id": "hQCNKfMVirYd",
        "colab": {
          "base_uri": "https://localhost:8080/",
          "height": 282
        },
        "outputId": "eda296ad-84d4-476c-8b51-1cee28ac933e"
      },
      "source": [
        "import matplotlib.pyplot as plt\n",
        "import matplotlib.ticker as ticker\n",
        "\n",
        "plt.figure()\n",
        "plt.plot(all_losses)"
      ],
      "execution_count": 23,
      "outputs": [
        {
          "output_type": "execute_result",
          "data": {
            "text/plain": [
              "[<matplotlib.lines.Line2D at 0x7f3e14a0e518>]"
            ]
          },
          "metadata": {
            "tags": []
          },
          "execution_count": 23
        },
        {
          "output_type": "display_data",
          "data": {
            "image/png": "[encoded data removed]",
            "text/plain": [
              "<Figure size 432x288 with 1 Axes>"
            ]
          },
          "metadata": {
            "tags": [],
            "needs_background": "light"
          }
        }
      ]
    },
    {
      "cell_type": "markdown",
      "metadata": {
        "colab_type": "text",
        "id": "VS0N9VRGirYh"
      },
      "source": [
        "## ネットワークのサンプリング\n",
        "<!--\n",
        "## Sampling the Network\n",
        "-->\n",
        "\n",
        "<!--\n",
        "To sample we give the network a letter and ask what the next one is, feed that in as the next letter, and repeat until the EOS token.\n",
        "-->\n",
        "\n",
        "<!--サンプルとして-->\n",
        "ネットワークに文字を与え，次の文字は何かを尋ね，それを次の文字として入力し，EOSトークンまで繰り返します。\n",
        "\n",
        "```\n",
        "- 入力カテゴリ，開始文字，ゼロで初期化した中間層テンソルを作成する\n",
        "- 文字列 ``output_name`` を作成する\n",
        "- 最大出力長まで以下を繰り返す\n",
        "    - 現在の文字をネットワークに送る\n",
        "    - 最高出力値から次の文字を出力し，次の中間層態を取得する\n",
        "    - 文字が EOS の場合はここで中止する\n",
        "    - 通常の文字の場合は ``output_name`` に追加して次のステップを続ける\n",
        "- 最終的な名前を返す\n",
        "```\n",
        "\n",
        "<!--\n",
        "- Create tensors for input category, starting letter, and empty hidden state\n",
        "- Create a string ``output_name`` with the starting letter\n",
        "- Up to a maximum output length,\n",
        "    - Feed the current letter to the network\n",
        "    - Get the next letter from highest output, and next hidden state\n",
        "    - If the letter is EOS, stop here\n",
        "    - If a regular letter, add to ``output_name`` and continue\n",
        "- Return the final name\n",
        "-->\n",
        "\n",
        "### 覚書:\n",
        "\n",
        "開始文字を与えるのではなく，別の戦略として，学習時に「文字列の開始」トークンを含め，ネットワークに独自の開始文字を選択させるという方法もあったでしょう。\n",
        "\n",
        "<!--\n",
        ".. Note::\n",
        "Rather than having to give it a starting letter, another strategy would have been to include a \"start of string\" token in training and have the network choose its own starting letter.\n",
        "-->\n"
      ]
    },
    {
      "cell_type": "code",
      "metadata": {
        "colab_type": "code",
        "id": "Zk8NNPU5irYh",
        "colab": {
          "base_uri": "https://localhost:8080/",
          "height": 425
        },
        "outputId": "d1e4769f-f222-47d3-f5d7-12711f805039"
      },
      "source": [
        "max_length = 20\n",
        "\n",
        "# Sample from a category and starting letter\n",
        "def sample(category, start_letter='A'):\n",
        "    with torch.no_grad():  # no need to track history in sampling\n",
        "        category_tensor = categoryTensor(category)\n",
        "        input = inputTensor(start_letter)\n",
        "        hidden = rnn.initHidden()\n",
        "\n",
        "        output_name = start_letter\n",
        "\n",
        "        for i in range(max_length):\n",
        "            output, hidden = rnn(category_tensor, input[0], hidden)\n",
        "            topv, topi = output.topk(1)\n",
        "            topi = topi[0][0]\n",
        "            if topi == n_letters - 1:\n",
        "                break\n",
        "            else:\n",
        "                letter = all_letters[topi]\n",
        "                output_name += letter\n",
        "            input = inputTensor(letter)\n",
        "\n",
        "        return output_name\n",
        "\n",
        "# Get multiple samples from one category and multiple starting letters\n",
        "def samples(category, start_letters='ABC'):\n",
        "    for start_letter in start_letters:\n",
        "        print(sample(category, start_letter))\n",
        "\n",
        "\n",
        "print('ロシア人')\n",
        "samples('Russian', 'RUS')\n",
        "\n",
        "print('\\nドイツ人')\n",
        "samples('German', 'GER')\n",
        "\n",
        "print('\\nスペイン人')\n",
        "samples('Spanish', 'SPA')\n",
        "\n",
        "print('\\n中国人')\n",
        "samples('Chinese', 'CHI')\n",
        "\n",
        "print('\\n日本人')\n",
        "samples('Japanese', 'JPA')"
      ],
      "execution_count": 24,
      "outputs": [
        {
          "output_type": "stream",
          "text": [
            "ロシア人\n",
            "Rovakov\n",
            "Uoverin\n",
            "Shilovev\n",
            "\n",
            "ドイツ人\n",
            "Gerren\n",
            "Erent\n",
            "Roull\n",
            "\n",
            "スペイン人\n",
            "Salla\n",
            "Parer\n",
            "Allara\n",
            "\n",
            "中国人\n",
            "Chan\n",
            "Han\n",
            "Iun\n",
            "\n",
            "日本人\n",
            "Jamas\n",
            "Pamara\n",
            "Araki\n"
          ],
          "name": "stdout"
        }
      ]
    },
    {
      "cell_type": "markdown",
      "metadata": {
        "colab_type": "text",
        "id": "nLEWy-nLirYk"
      },
      "source": [
        "## 演習\n",
        "<!--\n",
        "## Exercises\n",
        "\n",
        "- Try with a different dataset of category -> line, for example:\n",
        "    - Fictional series -> Character name\n",
        "    - Part of speech -> Word\n",
        "    - Country -> City\n",
        "\n",
        "- Use a \"start of sentence\" token so that sampling can be done without choosing a start letter\n",
        "- Get better results with a bigger and/or better shaped network\n",
        "    - Try the nn.LSTM and nn.GRU layers\n",
        "    - Combine multiple of these RNNs as a higher level network\n",
        "-->\n",
        "\n",
        "- カテゴリ -> セリフなど 別のデータセットで試してみよ\n",
        "    - 虚構シリーズ -> キャラクター名\n",
        "    - 品詞 -> 単語\n",
        "    - 国 -> 都市\n",
        "\n",
        "- 文頭文字を選択しなくてもサンプリングができるように、「文頭」トークンを使用する\n",
        "- より大きなネットワークとより良い形のネットワークで より良い結果を得ることができる\n",
        "    - nn.LSTM と nn.GRU レイヤーを試せ\n",
        "    - これらの複数の RNN を高次ネットワークとして組み合わよ\n"
      ]
    },
    {
      "cell_type": "code",
      "metadata": {
        "id": "ONbvHLku0t1V",
        "colab_type": "code",
        "colab": {}
      },
      "source": [
        ""
      ],
      "execution_count": null,
      "outputs": []
    }
  ]
}