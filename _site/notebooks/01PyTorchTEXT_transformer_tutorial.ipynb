{
  "nbformat": 4,
  "nbformat_minor": 0,
  "metadata": {
    "colab": {
      "name": "01PyTorchTEXT_transformer_tutorial.ipynb",
      "provenance": [],
      "include_colab_link": true
    },
    "kernelspec": {
      "display_name": "Python 3",
      "language": "python",
      "name": "python3"
    },
    "language_info": {
      "codemirror_mode": {
        "name": "ipython",
        "version": 3
      },
      "file_extension": ".py",
      "mimetype": "text/x-python",
      "name": "python",
      "nbconvert_exporter": "python",
      "pygments_lexer": "ipython3",
      "version": "3.7.7"
    },
    "accelerator": "GPU"
  },
  "cells": [
    {
      "cell_type": "markdown",
      "metadata": {
        "id": "view-in-github",
        "colab_type": "text"
      },
      "source": [
        "<a href=\"https://colab.research.google.com/github/JPA-BERT/jpa-bert.github.io/blob/master/notebooks/01PyTorchTEXT_transformer_tutorial.ipynb\" target=\"_parent\"><img src=\"https://colab.research.google.com/assets/colab-badge.svg\" alt=\"Open In Colab\"/></a>"
      ]
    },
    {
      "cell_type": "markdown",
      "metadata": {
        "id": "ofcFp-G2w-xE",
        "colab_type": "text"
      },
      "source": [
        "---\n",
        "    \n",
        "このファイルは PyTorch のチュートリアルにあるファイル <https://pytorch.org/tutorials/beginner/transformer_tutorial.html> を翻訳して，加筆修正したもの\n",
        "です。\n",
        "\n",
        "すぐれたチュートリアルの内容，コードを公開された PyTorch 開発陣と Transfomer の原著論文著者陣 (Vaswani ら) に敬意を表します。\n",
        "\n",
        "- Original: https://pytorch.org/tutorials/beginner/transformer_tutorial.html\n",
        "- Date: 2020-0807\n",
        "- Translated and modified: Shin Asakawa <asakawa@ieee.org>\n",
        "\n",
        "---"
      ]
    },
    {
      "cell_type": "code",
      "metadata": {
        "id": "8Y30u4j9xiqb",
        "colab_type": "code",
        "colab": {
          "base_uri": "https://localhost:8080/",
          "height": 357
        },
        "outputId": "e82cb6da-8f02-4435-ff80-f23a644b736f"
      },
      "source": [
        "# 2020年8月11日現在，torchtext を upgrade しないとこのチュートリアルは動作しない\n",
        "!pip install --upgrade torchtext"
      ],
      "execution_count": 1,
      "outputs": [
        {
          "output_type": "stream",
          "text": [
            "Collecting torchtext\n",
            "\u001b[?25l  Downloading https://files.pythonhosted.org/packages/b9/f9/224b3893ab11d83d47fde357a7dcc75f00ba219f34f3d15e06fe4cb62e05/torchtext-0.7.0-cp36-cp36m-manylinux1_x86_64.whl (4.5MB)\n",
            "\u001b[K     |████████████████████████████████| 4.5MB 4.8MB/s \n",
            "\u001b[?25hRequirement already satisfied, skipping upgrade: tqdm in /usr/local/lib/python3.6/dist-packages (from torchtext) (4.41.1)\n",
            "Collecting sentencepiece\n",
            "\u001b[?25l  Downloading https://files.pythonhosted.org/packages/d4/a4/d0a884c4300004a78cca907a6ff9a5e9fe4f090f5d95ab341c53d28cbc58/sentencepiece-0.1.91-cp36-cp36m-manylinux1_x86_64.whl (1.1MB)\n",
            "\u001b[K     |████████████████████████████████| 1.1MB 59.0MB/s \n",
            "\u001b[?25hRequirement already satisfied, skipping upgrade: torch in /usr/local/lib/python3.6/dist-packages (from torchtext) (1.6.0+cu101)\n",
            "Requirement already satisfied, skipping upgrade: numpy in /usr/local/lib/python3.6/dist-packages (from torchtext) (1.18.5)\n",
            "Requirement already satisfied, skipping upgrade: requests in /usr/local/lib/python3.6/dist-packages (from torchtext) (2.23.0)\n",
            "Requirement already satisfied, skipping upgrade: future in /usr/local/lib/python3.6/dist-packages (from torch->torchtext) (0.16.0)\n",
            "Requirement already satisfied, skipping upgrade: certifi>=2017.4.17 in /usr/local/lib/python3.6/dist-packages (from requests->torchtext) (2020.6.20)\n",
            "Requirement already satisfied, skipping upgrade: urllib3!=1.25.0,!=1.25.1,<1.26,>=1.21.1 in /usr/local/lib/python3.6/dist-packages (from requests->torchtext) (1.24.3)\n",
            "Requirement already satisfied, skipping upgrade: idna<3,>=2.5 in /usr/local/lib/python3.6/dist-packages (from requests->torchtext) (2.10)\n",
            "Requirement already satisfied, skipping upgrade: chardet<4,>=3.0.2 in /usr/local/lib/python3.6/dist-packages (from requests->torchtext) (3.0.4)\n",
            "Installing collected packages: sentencepiece, torchtext\n",
            "  Found existing installation: torchtext 0.3.1\n",
            "    Uninstalling torchtext-0.3.1:\n",
            "      Successfully uninstalled torchtext-0.3.1\n",
            "Successfully installed sentencepiece-0.1.91 torchtext-0.7.0\n"
          ],
          "name": "stdout"
        }
      ]
    },
    {
      "cell_type": "code",
      "metadata": {
        "id": "1DZhReTDw-xG",
        "colab_type": "code",
        "colab": {}
      },
      "source": [
        "%load_ext autoreload\n",
        "%autoreload 2"
      ],
      "execution_count": 2,
      "outputs": []
    },
    {
      "cell_type": "code",
      "metadata": {
        "id": "zeqM7S5Qw-xN",
        "colab_type": "code",
        "colab": {}
      },
      "source": [
        "# from https://github.com/dmlc/xgboost/issues/1715\n",
        "import os\n",
        "os.environ['KMP_DUPLICATE_LIB_OK']='True'"
      ],
      "execution_count": 3,
      "outputs": []
    },
    {
      "cell_type": "code",
      "metadata": {
        "colab_type": "code",
        "id": "ofUHhcP1iMgR",
        "colab": {}
      },
      "source": [
        "%matplotlib inline"
      ],
      "execution_count": 4,
      "outputs": []
    },
    {
      "cell_type": "markdown",
      "metadata": {
        "colab_type": "text",
        "id": "5qDXb--8iMgd"
      },
      "source": [
        "## ``nn.Transformer`` と ``TorchText`` を用いた Seq2Seq (系列-to-系列) モデル\n",
        "<!--\n",
        "## Sequence-to-Sequence Modeling with ``nn.Transformer`` and TorchText\n",
        "-->\n",
        "\n",
        "このチュートリアルでは，[nn.Transformer](https://pytorch.org/docs/master/nn.html?highlight=nn%20transformer#torch.nn.Transformer) モジュールを用いた sequence-to-sequnce (訳注:日本語では `seq2seq モデル` などと呼ばれます) モデルの訓練方法を示します。\n",
        "\n",
        "<!--This is a tutorial on how to train a sequence-to-sequence model that uses the [nn.Transformer](https://pytorch.org/docs/master/nn.html?highlight=nn%20transformer#torch.nn.Transformer) module.-->\n",
        "\n",
        "PyTorch リリース 1.2 には，[Attention is All You Need](https://arxiv.org/pdf/1706.03762.pdf) (訳注:初めてトランスフォーマーを提案した論文) に基づいた標準的なトランスフォーマーモジュールが含まれます。\n",
        "トランスフォーマーは並列化が容易で，seq2seq モデルを凌ぐ性能が示されています。\n",
        "``nn.Transfomer`` モジュールは，注意機構に基づいて，入出力情報間大域的依存性を解消する機構です\n",
        "(最近の別実装は [nn.MultiheadAttention](https://pytorch.org/docs/master/nn.html?highlight=multiheadattention#torch.nn.MultiheadAttention))。\n",
        "``nn.Transformer`` は単一要素で構成されており，本チュートリアル内の [nn.TransformerEncoder](https://pytorch.org/docs/master/nn.html?highlight=nn%20transformerencoder#torch.nn.TransformerEncoder) のごとく，修正，構成が容易です。\n",
        "<!--\n",
        "PyTorch 1.2 release includes a standard transformer module based on the paper [Attention is All You Need](https://arxiv.org/pdf/1706.03762.pdf). \n",
        "The transformer model has been proved to be superior in quality for many sequence-to-sequence problems while being more parallelizable. \n",
        "The ``nn.Transformer`` module relies entirely on an attention mechanism (another module recently implemented as [nn.MultiheadAttention](https://pytorch.org/docs/master/nn.html?highlight=multiheadattention#torch.nn.MultiheadAttention) to draw global dependencies between input and output. \n",
        "The ``nn.Transformer`` module is now highly modularized such that a single component (like [nn.TransformerEncoder](https://pytorch.org/docs/master/nn.html?highlight=nn%20transformerencoder#torch.nn.TransformerEncoder) in this tutorial) can be easily adapted/composed.\n",
        "-->\n",
        "\n",
        "<div align=\"center\">\n",
        "<!--![](https://github.com/pytorch/tutorials/blob/gh-pages/_downloads/_static/img/transformer_architecture.jpg?raw=1)-->\n",
        "\n",
        "<img src=\"https://pytorch.org/tutorials/_images/transformer_architecture.jpg\" style=\"width:33%\">\n",
        "</div?\n",
        "\n",
        "\n"
      ]
    },
    {
      "cell_type": "markdown",
      "metadata": {
        "colab_type": "text",
        "id": "u4KByC1xiMgd"
      },
      "source": [
        "<!--# Define the model-->\n",
        "\n",
        "# モデルの定義\n"
      ]
    },
    {
      "cell_type": "markdown",
      "metadata": {
        "colab_type": "text",
        "id": "M7NyvVbPiMge"
      },
      "source": [
        "<!--\n",
        "In this tutorial, we train ``nn.TransformerEncoder`` model on a language modeling task. \n",
        "The language modeling task is to assign a probability for the likelihood of a given word (or a sequence of words) to follow a sequence of words. \n",
        "A sequence of tokens are passed to the embedding layer first, followed by a positional encoding layer to account for the order of the word (see the next paragraph for more details). \n",
        "The  ``nn.TransformerEncoder`` consists of multiple layers of [nn.TransformerEncoderLayer](https://pytorch.org/docs/master/nn.html?highlight=transformerencoderlayer#torch.nn.TransformerEncoderLayer).\n",
        "Along with the input sequence, a square attention mask is required because the self-attention layers in ``nn.TransformerEncoder`` are only allowed to attend the earlier positions in the sequence. \n",
        "For the language modeling task, any tokens on the future positions should be masked. To have the actual words, the output of ``nn.TransformerEncoder`` model is sent to the final Linear layer, which is followed by a log-Softmax function.\n",
        "-->\n",
        "\n",
        "本チュートリアルでは 言語モデル課題で ``nn.TransformerEncoder`` モデルを学習します。\n",
        "言語モデル課題とは 任意の単語 (または単語系列） が与えられた場合に，後続する単語の尤度（確率）を割り当てること指します。\n",
        "文章を表す一連のトークン系列は，埋め込み層に入力され その後，単語の順番を符号化した位置符号化層の情報が付加されます(詳細は次パラグラフ参照)。\n",
        "``nn.TransformerEncoder`` は [nn.TransformerEncoderLayer](https://pytorch.org/docs/master/nn.html?highlight=transformerencoderlayer#torch.nn.TransformerEncoderLayer) を構成要素とする複数層からなるニューラルネットワークです。\n",
        "``nn.TransformerEncoder`` の自己注意層は 入力系列の初頭に近い位置にしか注意を払うことができないため、入力系列に対する マスク化注意機構が必要となります。\n",
        "言語モデル課題では 将来の位置トークンがマスクされるます。\n",
        "実際の単語を得るため  ``nn.TransformerEncoder`` モデルの出力は最終線形層に送られ 最終層として 対数ソフトマックス関数が設けられています。\n",
        "\n",
        "\n",
        "\n"
      ]
    },
    {
      "cell_type": "code",
      "metadata": {
        "colab_type": "code",
        "id": "bi9Xmde5iMgf",
        "colab": {}
      },
      "source": [
        "import math\n",
        "import torch\n",
        "import torch.nn as nn\n",
        "import torch.nn.functional as F\n",
        "\n",
        "class TransformerModel(nn.Module):\n",
        "\n",
        "    def __init__(self, ntoken, ninp, nhead, nhid, nlayers, dropout=0.5):\n",
        "        super(TransformerModel, self).__init__()\n",
        "        from torch.nn import TransformerEncoder, TransformerEncoderLayer\n",
        "        self.model_type = 'Transformer'\n",
        "        self.src_mask = None\n",
        "        self.pos_encoder = PositionalEncoding(ninp, dropout)\n",
        "        encoder_layers = TransformerEncoderLayer(ninp, nhead, nhid, dropout)\n",
        "        self.transformer_encoder = TransformerEncoder(encoder_layers, nlayers)\n",
        "        self.encoder = nn.Embedding(ntoken, ninp)\n",
        "        self.ninp = ninp\n",
        "        self.decoder = nn.Linear(ninp, ntoken)\n",
        "\n",
        "        self.init_weights()\n",
        "\n",
        "    def _generate_square_subsequent_mask(self, sz):\n",
        "        mask = (torch.triu(torch.ones(sz, sz)) == 1).transpose(0, 1)\n",
        "        mask = mask.float().masked_fill(mask == 0, float('-inf')).masked_fill(mask == 1, float(0.0))\n",
        "        return mask\n",
        "\n",
        "    def init_weights(self):\n",
        "        initrange = 0.1\n",
        "        self.encoder.weight.data.uniform_(-initrange, initrange)\n",
        "        self.decoder.bias.data.zero_()\n",
        "        self.decoder.weight.data.uniform_(-initrange, initrange)\n",
        "\n",
        "    def forward(self, src):\n",
        "        if self.src_mask is None or self.src_mask.size(0) != len(src):\n",
        "            device = src.device\n",
        "            mask = self._generate_square_subsequent_mask(len(src)).to(device)\n",
        "            self.src_mask = mask\n",
        "\n",
        "        src = self.encoder(src) * math.sqrt(self.ninp)\n",
        "        src = self.pos_encoder(src)\n",
        "        output = self.transformer_encoder(src, self.src_mask)\n",
        "        output = self.decoder(output)\n",
        "        return output"
      ],
      "execution_count": 5,
      "outputs": []
    },
    {
      "cell_type": "markdown",
      "metadata": {
        "colab_type": "text",
        "id": "AspBe0M_iMgi"
      },
      "source": [
        "<!--\n",
        "``PositionalEncoding`` module injects some information about the relative or absolute position of the tokens in the sequence. \n",
        "The positional encodings have the same dimension as the embeddings so that the two can be summed. \n",
        "Here, we use ``sine`` and ``cosine`` functions of different frequencies.\n",
        "-->\n",
        "\n",
        "位置符号化器 ``PositionalEncoding`` モジュールを用いることで，系列中のトークンの相対位置や絶対位置に関する情報を付加されます。\n",
        "位置符号化器は埋め込みと同一次元を持ち 両者 を合算してトランスフォーマーへの入力とします。\n",
        "ここでは 異なる周波数の ``sine``（正弦波） と ``cosine`` （余弦波） 関数を利用します。\n",
        "\n",
        "### (訳注) Transformer: Attention is all you need\n",
        "原著論文中の 位置符号化器は以下のように定義されている:\n",
        "まず，マルチヘッド自己注意 (MHSA) は，クエリ，キー，バリューベクトルを学習すべきベクトルとして次式で定義される:\n",
        "\n",
        "$$\n",
        "\\text{MultiHead}\\left(Q,K,V\\right)=\\text{Concat}\\left(\\mathop{head}_1,\\ldots,\\mathop{head}_h\\right)W^O\n",
        "$$\n",
        "\n",
        "ここで，各ヘッドは, $\\text{head}_i =\\text{Attention}\\left(QW_i^Q,KW_i^K,VW_i^V\\right)$ である。\n",
        "\n",
        "それぞれの次元は以下のとおりである:\n",
        "<!--The projections are parameter matrices-->\n",
        "\n",
        "- $W_i^Q\\in\\mathbb{R}^{d_{\\mathop{model}}\\times d_k}$,\n",
        "- $W_i^K \\in\\mathbb{R}^{d_{\\mathop{model}}\\times d_k}$,\n",
        "- $W_i^V\\in\\mathbb{R}^{d_{\\mathop{model}}\\times d_v}$, \n",
        "- $W^O\\in\\mathbb{R}^{hd_v\\times d_{\\mathop{model}}}$. $h=8$\n",
        "- $d_k=d_v=\\frac{d_{\\mathop{model}}}{h}=64$\n",
        "\n",
        "$$\\text{FFN}(x)=\\max\\left(0,xW_1+b_1\\right)W_2+b_2$$\n",
        "\n",
        "<!--\n",
        "$$\\text{PE}_{(\\mathop{pos},2i)} = \\sin\\left(\\frac{\\mathop{pos}}{10000^{\\frac{2i}{d_{\\mathop{model}}}}}\\right)$$\n",
        "\n",
        "$$\\text{PE}_{(\\mathop{pos},2i+1)} = \\cos\\left(\\frac{\\mathop{pos}}{10000^{\\frac{2i}{d_{\\mathop{model}}}}}\\right)$$\n",
        "-->\n",
        "\n",
        "### (続 訳注) 位置符号器 Position encoders\n",
        "トランスフォーマーの入力には，上述の単語表現に加えて，位置符号器からの信号も重ね合わされる。\n",
        "位置 $i$ の信号は次式で周波数領域へと変換される:\n",
        "\n",
        "$$\n",
        "\\begin{align}\n",
        "\\text{PE}_{(\\text{pos},2i)} &= \\sin\\left(\\frac{\\text{pos}}{10000^{\\frac{2i}{d_{\\text{model}}}}}\\right)\\\\\n",
        "\\text{PE}_{(\\text{pos},2i+1)} &= \\cos\\left(\\frac{\\text{pos}}{10000^{\\frac{2i}{d_{\\text{model}}}}}\\right)\n",
        "\\end{align}\n",
        "$$\n",
        "\n",
        "位置符号器による位置表現は，$i$ 番目の位置情報をワンホット表現するのではなく，周波数領域に変換することで周期情報を表現する試みと見なし得る。\n"
      ]
    },
    {
      "cell_type": "code",
      "metadata": {
        "colab_type": "code",
        "id": "MRmuzlFEiMgj",
        "colab": {}
      },
      "source": [
        "class PositionalEncoding(nn.Module):\n",
        "\n",
        "    def __init__(self, d_model, dropout=0.1, max_len=5000):\n",
        "        super(PositionalEncoding, self).__init__()\n",
        "        self.dropout = nn.Dropout(p=dropout)\n",
        "\n",
        "        pe = torch.zeros(max_len, d_model)\n",
        "        position = torch.arange(0, max_len, dtype=torch.float).unsqueeze(1)\n",
        "        div_term = torch.exp(torch.arange(0, d_model, 2).float() * (-math.log(10000.0) / d_model))\n",
        "        pe[:, 0::2] = torch.sin(position * div_term)\n",
        "        pe[:, 1::2] = torch.cos(position * div_term)\n",
        "        pe = pe.unsqueeze(0).transpose(0, 1)\n",
        "        self.register_buffer('pe', pe)\n",
        "\n",
        "    def forward(self, x):\n",
        "        x = x + self.pe[:x.size(0), :]\n",
        "        return self.dropout(x)"
      ],
      "execution_count": 6,
      "outputs": []
    },
    {
      "cell_type": "code",
      "metadata": {
        "id": "Pkve7WdMw-xj",
        "colab_type": "code",
        "colab": {}
      },
      "source": [
        "#help(nn.Dropout)"
      ],
      "execution_count": 7,
      "outputs": []
    },
    {
      "cell_type": "code",
      "metadata": {
        "id": "VdjFP-cAw-xo",
        "colab_type": "code",
        "colab": {
          "base_uri": "https://localhost:8080/",
          "height": 283
        },
        "outputId": "7c7f9caf-85ef-4594-bac8-ac7fa8bf9972"
      },
      "source": [
        "import numpy as np\n",
        "import matplotlib.pyplot as plt\n",
        "\n",
        "PE = PositionalEncoding(max_len=100, dropout=0., d_model=10)\n",
        "\n",
        "#PE(torch.rand(4))\n",
        "#torch.ones(4)\n",
        "X = PE(torch.Tensor((1,0,0,0,0,0,0,0,0,0))).detach().numpy()\n",
        "#plt.plot(range(len(X[0])), X[0])\n",
        "plt.plot(X[1][0])\n",
        "plt.plot(X[2][0])\n",
        "plt.plot(X[3][0])\n"
      ],
      "execution_count": 8,
      "outputs": [
        {
          "output_type": "execute_result",
          "data": {
            "text/plain": [
              "[<matplotlib.lines.Line2D at 0x7efd61bf47f0>]"
            ]
          },
          "metadata": {
            "tags": []
          },
          "execution_count": 8
        },
        {
          "output_type": "display_data",
          "data": {
            "image/png": "[encoded data removed]",
            "text/plain": [
              "<Figure size 432x288 with 1 Axes>"
            ]
          },
          "metadata": {
            "tags": [],
            "needs_background": "light"
          }
        }
      ]
    },
    {
      "cell_type": "markdown",
      "metadata": {
        "colab_type": "text",
        "id": "2-HqrY0XiMgv"
      },
      "source": [
        "<!--# Load and batch data-->\n",
        "\n",
        "# データのロードとバッチ化"
      ]
    },
    {
      "cell_type": "markdown",
      "metadata": {
        "colab_type": "text",
        "id": "GVgHnaiAiMgv"
      },
      "source": [
        "<!--\n",
        "The training process uses Wikitext-2 dataset from ``torchtext``. \n",
        "The vocab object is built based on the train dataset and is used to numericalize tokens into tensors. \n",
        "Starting from sequential data, the ``batchify()`` function arranges the dataset into columns, trimming off any tokens remaining after the data has been divided into batches of size ``batch_size``.\n",
        "For instance, with the alphabet as the sequence (total length of 26) and a batch size of 4, we would divide the alphabet into 4 sequences of length 6:\n",
        "-->\n",
        "\n",
        "訓練には ``torchtext`` の Wikitext-2 データセットを使用します。\n",
        "vocab オブジェクトは訓練データセットに基づいて構築され，トークンをテンソルへと数値化するために使用されます。\n",
        "系列データから ``batchify()`` 関数を使ってデータを列 column に配置し ``batch_size`` の大きさのバッチに分割した後に残ったトークンを切り取ります。\n",
        "例えば アルファベットをシーケンス (全長26) とし バッチサイズを 4 とすると アルファベットを長さ 6 の 4 つのシーケンスに分割することになります。\n",
        "\n",
        "\\begin{align}\\begin{bmatrix}\n",
        "  \\text{A} & \\text{B} & \\text{C} & \\ldots & \\text{X} & \\text{Y} & \\text{Z}\n",
        "  \\end{bmatrix}\n",
        "  \\Rightarrow\n",
        "  \\begin{bmatrix}\n",
        "  \\begin{bmatrix}\\text{A} \\\\ \\text{B} \\\\ \\text{C} \\\\ \\text{D} \\\\ \\text{E} \\\\ \\text{F}\\end{bmatrix} &\n",
        "  \\begin{bmatrix}\\text{G} \\\\ \\text{H} \\\\ \\text{I} \\\\ \\text{J} \\\\ \\text{K} \\\\ \\text{L}\\end{bmatrix} &\n",
        "  \\begin{bmatrix}\\text{M} \\\\ \\text{N} \\\\ \\text{O} \\\\ \\text{P} \\\\ \\text{Q} \\\\ \\text{R}\\end{bmatrix} &\n",
        "  \\begin{bmatrix}\\text{S} \\\\ \\text{T} \\\\ \\text{U} \\\\ \\text{V} \\\\ \\text{W} \\\\ \\text{X}\\end{bmatrix}\n",
        "  \\end{bmatrix}\\end{align}\n",
        "\n",
        "<!--These columns are treated as independent by the model, which means that the dependence of ``G`` and ``F`` can not be learned, but allows more efficient batch processing.-->\n",
        "\n",
        "これらの列はモデルによって独立したものとして扱われ  ``G`` と ``F`` の依存性を学習することはできませんが、より効率的なバッチ処理が可能になります。\n",
        "\n",
        "\n"
      ]
    },
    {
      "cell_type": "code",
      "metadata": {
        "colab_type": "code",
        "id": "T_QmZe3xiMgw",
        "colab": {
          "base_uri": "https://localhost:8080/",
          "height": 156
        },
        "outputId": "d05e5bd7-2f90-43fa-883f-d07478aeffe3"
      },
      "source": [
        "import torchtext\n",
        "from torchtext.data.utils import get_tokenizer\n",
        "TEXT = torchtext.data.Field(tokenize=get_tokenizer(\"basic_english\"),\n",
        "                            init_token='<sos>',\n",
        "                            eos_token='<eos>',\n",
        "                            lower=True)\n",
        "train_txt, val_txt, test_txt = torchtext.datasets.WikiText2.splits(TEXT)\n",
        "TEXT.build_vocab(train_txt)\n",
        "device = torch.device(\"cuda\" if torch.cuda.is_available() else \"cpu\")\n",
        "\n",
        "def batchify(data, bsz):\n",
        "    data = TEXT.numericalize([data.examples[0].text])\n",
        "    # Divide the dataset into bsz parts.\n",
        "    nbatch = data.size(0) // bsz\n",
        "    # Trim off any extra elements that wouldn't cleanly fit (remainders).\n",
        "    data = data.narrow(0, 0, nbatch * bsz)\n",
        "    # Evenly divide the data across the bsz batches.\n",
        "    data = data.view(bsz, -1).t().contiguous()\n",
        "    return data.to(device)\n",
        "\n",
        "batch_size = 20\n",
        "eval_batch_size = 10\n",
        "train_data = batchify(train_txt, batch_size)\n",
        "val_data = batchify(val_txt, eval_batch_size)\n",
        "test_data = batchify(test_txt, eval_batch_size)"
      ],
      "execution_count": 9,
      "outputs": [
        {
          "output_type": "stream",
          "text": [
            "/usr/local/lib/python3.6/dist-packages/torchtext/data/field.py:150: UserWarning: Field class will be retired in the 0.8.0 release and moved to torchtext.legacy. Please see 0.7.0 release notes for further information.\n",
            "  warnings.warn('{} class will be retired in the 0.8.0 release and moved to torchtext.legacy. Please see 0.7.0 release notes for further information.'.format(self.__class__.__name__), UserWarning)\n"
          ],
          "name": "stderr"
        },
        {
          "output_type": "stream",
          "text": [
            "downloading wikitext-2-v1.zip\n"
          ],
          "name": "stdout"
        },
        {
          "output_type": "stream",
          "text": [
            "wikitext-2-v1.zip: 100%|██████████| 4.48M/4.48M [00:00<00:00, 8.65MB/s]\n"
          ],
          "name": "stderr"
        },
        {
          "output_type": "stream",
          "text": [
            "extracting\n"
          ],
          "name": "stdout"
        },
        {
          "output_type": "stream",
          "text": [
            "/usr/local/lib/python3.6/dist-packages/torchtext/data/example.py:78: UserWarning: Example class will be retired in the 0.8.0 release and moved to torchtext.legacy. Please see 0.7.0 release notes for further information.\n",
            "  warnings.warn('Example class will be retired in the 0.8.0 release and moved to torchtext.legacy. Please see 0.7.0 release notes for further information.', UserWarning)\n"
          ],
          "name": "stderr"
        }
      ]
    },
    {
      "cell_type": "markdown",
      "metadata": {
        "colab_type": "text",
        "id": "5D9jWBueiMg6"
      },
      "source": [
        "### 入力系列とターゲット系列を生成するための関数\n",
        "<!--\n",
        "### Functions to generate input and target sequence\n",
        "-->"
      ]
    },
    {
      "cell_type": "markdown",
      "metadata": {
        "colab_type": "text",
        "id": "Pg48jGuOiMg7"
      },
      "source": [
        "<!--\n",
        "``get_batch()`` function generates the input and target sequence for the transformer model. \n",
        "It subdivides the source data into chunks of length ``bptt``. \n",
        "For the language modeling task, the model needs the following words as ``Target``. For example, with a ``bptt`` value of 2, we’d get the following two Variables for ``i`` = 0:\n",
        "-->\n",
        "\n",
        "関数 ``get_batch()`` はトランスフォーマモデルの入力系列と目標系列とを生成します。\n",
        "ソースデータを長さ ``bptt`` のチャンクに細分化します。\n",
        "言語モデル課題では，モデルは ``Target`` として以下の単語を必要とします。\n",
        "例えば、 ``bptt`` の値が 2 の場合、 ``i`` = 0 の場合，以下の 2 つの変数が得られます。\n",
        "\n",
        "<!--\n",
        "![](https://github.com/pytorch/tutorials/blob/gh-pages/_downloads/_static/img/transformer_input_target.png?raw=1)\n",
        "-->\n",
        "\n",
        "<img src=\"https://pytorch.org/tutorials/_images/transformer_input_target.png\">\n",
        "\n",
        "<!--\n",
        "It should be noted that the chunks are along dimension 0, consistent with the ``S`` dimension in the Transformer model. \n",
        "The batch dimension ``N`` is along dimension 1.\n",
        "-->\n",
        "\n",
        "チャンクは寸法 0 に沿っており、トランスフォーマーモデルの ``S`` 寸法と一致していることに注意する必要があります。\n",
        "バッチ次元 ``N`` は次元 1 に沿っています。\n",
        "\n",
        "\n"
      ]
    },
    {
      "cell_type": "code",
      "metadata": {
        "colab_type": "code",
        "id": "eb6IyrjUiMg8",
        "colab": {}
      },
      "source": [
        "bptt = 35\n",
        "def get_batch(source, i):\n",
        "    seq_len = min(bptt, len(source) - 1 - i)\n",
        "    data = source[i:i+seq_len]\n",
        "    target = source[i+1:i+1+seq_len].view(-1)\n",
        "    return data, target"
      ],
      "execution_count": 10,
      "outputs": []
    },
    {
      "cell_type": "markdown",
      "metadata": {
        "colab_type": "text",
        "id": "vplM85VziMha"
      },
      "source": [
        "<!--\n",
        "# Initiate an instance\n",
        "-->\n",
        "\n",
        "# インスタンスの初期化\n",
        "\n",
        "<!--\n",
        "The model is set up with the hyperparameter below. \n",
        "The vocab size is equal to the length of the vocab object.\n",
        "-->\n",
        "\n",
        "モデルは以下のハイパーパラメータで設定されています。\n",
        "語彙サイズはボキャブオブジェクトの長さに等しいです。"
      ]
    },
    {
      "cell_type": "code",
      "metadata": {
        "colab_type": "code",
        "id": "6e1GcwM1iMhg",
        "colab": {}
      },
      "source": [
        "ntokens = len(TEXT.vocab.stoi) # the size of vocabulary\n",
        "emsize = 200 # embedding dimension\n",
        "nhid = 200 # the dimension of the feedforward network model in nn.TransformerEncoder\n",
        "nlayers = 2 # the number of nn.TransformerEncoderLayer in nn.TransformerEncoder\n",
        "nhead = 2 # the number of heads in the multiheadattention models\n",
        "dropout = 0.2 # the dropout value\n",
        "model = TransformerModel(ntokens, emsize, nhead, nhid, nlayers, dropout).to(device)"
      ],
      "execution_count": 11,
      "outputs": []
    },
    {
      "cell_type": "markdown",
      "metadata": {
        "colab_type": "text",
        "id": "MEXxdi1GiMhn"
      },
      "source": [
        "<!--\n",
        "# Run the model\n",
        "-->\n",
        "\n",
        "# モデルの実行"
      ]
    },
    {
      "cell_type": "markdown",
      "metadata": {
        "colab_type": "text",
        "id": "d23vMIXPiMho"
      },
      "source": [
        "<!--\n",
        "[CrossEntropyLoss](https://pytorch.org/docs/master/nn.html?highlight=crossentropyloss#torch.nn.CrossEntropyLoss) is applied to track the loss and [SGD](https://pytorch.org/docs/master/optim.html?highlight=sgd#torch.optim.SGD) implements stochastic gradient descent method as the optimizer. \n",
        "The initial learning rate is set to 5.0. [StepLR](https://pytorch.org/docs/master/optim.html?highlight=steplr#torch.optim.lr_scheduler.StepLR) is applied to adjust the learn rate through epochs. \n",
        "During the training, we use [nn.utils.clip_grad_norm](https://pytorch.org/docs/master/nn.html?highlight=nn%20utils%20clip_grad_norm#torch.nn.utils.clip_grad_norm_) function to scale all the gradient together to prevent exploding.\n",
        "-->\n",
        "\n",
        "損失を追跡するために [CrossEntropyLoss](https://pytorch.org/docs/master/nn.html?highlight=crossentropyloss#torch.nn.CrossEntropyLoss) を適用し [SGD](https://pytorch.org/docs/master/optim.html?highlight=sgd#torch.optim.SGD) は最適化器として確率的勾配降下法を実装しています。\n",
        "初期学習率は 5.0 に設定されています。\n",
        "[StepLR](https://pytorch.org/docs/master/optim.html?highlight=steplr#torch.optim.lr_scheduler.StepLR) はエポック単位で学習率を調整するために適用されている。\n",
        "学習中は [nn.utils.clip_grad_norm](https://pytorch.org/docs/master/nn.html?highlight=nn%20utils%20clip_grad_norm#torch.nn.utils.clip_grad_norm_) 関数を用いて、爆発しないように全ての勾配をまとめてスケーリングしています。\n",
        "\n"
      ]
    },
    {
      "cell_type": "code",
      "metadata": {
        "colab_type": "code",
        "id": "HgENfvpJiMhp",
        "colab": {}
      },
      "source": [
        "criterion = nn.CrossEntropyLoss()\n",
        "lr = 5.0 # learning rate\n",
        "optimizer = torch.optim.SGD(model.parameters(), lr=lr)\n",
        "scheduler = torch.optim.lr_scheduler.StepLR(optimizer, 1.0, gamma=0.95)\n",
        "\n",
        "import time\n",
        "def train():\n",
        "    model.train() # Turn on the train mode\n",
        "    total_loss = 0.\n",
        "    start_time = time.time()\n",
        "    ntokens = len(TEXT.vocab.stoi)\n",
        "    for batch, i in enumerate(range(0, train_data.size(0) - 1, bptt)):\n",
        "        data, targets = get_batch(train_data, i)\n",
        "        optimizer.zero_grad()\n",
        "        output = model(data)\n",
        "        loss = criterion(output.view(-1, ntokens), targets)\n",
        "        loss.backward()\n",
        "        torch.nn.utils.clip_grad_norm_(model.parameters(), 0.5)\n",
        "        optimizer.step()\n",
        "\n",
        "        total_loss += loss.item()\n",
        "        log_interval = 200\n",
        "        if batch % log_interval == 0 and batch > 0:\n",
        "            cur_loss = total_loss / log_interval\n",
        "            elapsed = time.time() - start_time\n",
        "            print('| epoch {:3d} | {:5d}/{:5d} batches | '\n",
        "                  'lr {:02.2f} | ms/batch {:5.2f} | '\n",
        "                  'loss {:5.2f} | ppl {:8.2f}'.format(\n",
        "                    epoch, batch, len(train_data) // bptt, scheduler.get_lr()[0],\n",
        "                    elapsed * 1000 / log_interval,\n",
        "                    cur_loss, math.exp(cur_loss)))\n",
        "            total_loss = 0\n",
        "            start_time = time.time()\n",
        "\n",
        "def evaluate(eval_model, data_source):\n",
        "    eval_model.eval() # Turn on the evaluation mode\n",
        "    total_loss = 0.\n",
        "    ntokens = len(TEXT.vocab.stoi)\n",
        "    with torch.no_grad():\n",
        "        for i in range(0, data_source.size(0) - 1, bptt):\n",
        "            data, targets = get_batch(data_source, i)\n",
        "            output = eval_model(data)\n",
        "            output_flat = output.view(-1, ntokens)\n",
        "            total_loss += len(data) * criterion(output_flat, targets).item()\n",
        "    return total_loss / (len(data_source) - 1)"
      ],
      "execution_count": 12,
      "outputs": []
    },
    {
      "cell_type": "markdown",
      "metadata": {
        "colab_type": "text",
        "id": "JlQiPI8jiMhw"
      },
      "source": [
        "<!--\n",
        "Loop over epochs. Save the model if the validation loss is the best we've seen so far. \n",
        "Adjust the learning rate after each epoch.\n",
        "-->\n",
        "エポックをループします。\n",
        "検証の損失がこれまでのところ最高であればモデルを保存します。\n",
        "各エポックの後に学習率を調整します。\n",
        "\n"
      ]
    },
    {
      "cell_type": "code",
      "metadata": {
        "colab_type": "code",
        "id": "uS4Y7pktiMhx",
        "colab": {
          "base_uri": "https://localhost:8080/",
          "height": 918
        },
        "outputId": "f1ba20be-c0a5-4461-efd3-2e80e1e98b11"
      },
      "source": [
        "best_val_loss = float(\"inf\")\n",
        "epochs = 3 # The number of epochs\n",
        "best_model = None\n",
        "\n",
        "for epoch in range(1, epochs + 1):\n",
        "    epoch_start_time = time.time()\n",
        "    train()\n",
        "    val_loss = evaluate(model, val_data)\n",
        "    print('-' * 89)\n",
        "    print('| end of epoch {:3d} | time: {:5.2f}s | valid loss {:5.2f} | '\n",
        "          'valid ppl {:8.2f}'.format(epoch, (time.time() - epoch_start_time),\n",
        "                                     val_loss, math.exp(val_loss)))\n",
        "    print('-' * 89)\n",
        "\n",
        "    if val_loss < best_val_loss:\n",
        "        best_val_loss = val_loss\n",
        "        best_model = model\n",
        "\n",
        "    scheduler.step()"
      ],
      "execution_count": 13,
      "outputs": [
        {
          "output_type": "stream",
          "text": [
            "/usr/local/lib/python3.6/dist-packages/torch/optim/lr_scheduler.py:351: UserWarning: To get the last learning rate computed by the scheduler, please use `get_last_lr()`.\n",
            "  \"please use `get_last_lr()`.\", UserWarning)\n"
          ],
          "name": "stderr"
        },
        {
          "output_type": "stream",
          "text": [
            "| epoch   1 |   200/ 2981 batches | lr 5.00 | ms/batch 18.39 | loss  7.98 | ppl  2930.49\n",
            "| epoch   1 |   400/ 2981 batches | lr 5.00 | ms/batch 16.38 | loss  6.78 | ppl   882.26\n",
            "| epoch   1 |   600/ 2981 batches | lr 5.00 | ms/batch 16.43 | loss  6.36 | ppl   577.99\n",
            "| epoch   1 |   800/ 2981 batches | lr 5.00 | ms/batch 16.50 | loss  6.23 | ppl   506.77\n",
            "| epoch   1 |  1000/ 2981 batches | lr 5.00 | ms/batch 16.51 | loss  6.12 | ppl   453.77\n",
            "| epoch   1 |  1200/ 2981 batches | lr 5.00 | ms/batch 16.57 | loss  6.09 | ppl   440.96\n",
            "| epoch   1 |  1400/ 2981 batches | lr 5.00 | ms/batch 16.56 | loss  6.04 | ppl   418.54\n",
            "| epoch   1 |  1600/ 2981 batches | lr 5.00 | ms/batch 16.69 | loss  6.04 | ppl   420.40\n",
            "| epoch   1 |  1800/ 2981 batches | lr 5.00 | ms/batch 16.68 | loss  5.95 | ppl   385.45\n",
            "| epoch   1 |  2000/ 2981 batches | lr 5.00 | ms/batch 16.71 | loss  5.95 | ppl   385.00\n",
            "| epoch   1 |  2200/ 2981 batches | lr 5.00 | ms/batch 16.77 | loss  5.84 | ppl   344.93\n",
            "| epoch   1 |  2400/ 2981 batches | lr 5.00 | ms/batch 16.83 | loss  5.89 | ppl   360.86\n",
            "| epoch   1 |  2600/ 2981 batches | lr 5.00 | ms/batch 16.85 | loss  5.90 | ppl   365.97\n",
            "| epoch   1 |  2800/ 2981 batches | lr 5.00 | ms/batch 16.87 | loss  5.80 | ppl   328.75\n",
            "-----------------------------------------------------------------------------------------\n",
            "| end of epoch   1 | time: 52.53s | valid loss  5.72 | valid ppl   303.92\n",
            "-----------------------------------------------------------------------------------------\n",
            "| epoch   2 |   200/ 2981 batches | lr 4.51 | ms/batch 17.11 | loss  5.79 | ppl   326.93\n",
            "| epoch   2 |   400/ 2981 batches | lr 4.51 | ms/batch 17.00 | loss  5.76 | ppl   318.27\n",
            "| epoch   2 |   600/ 2981 batches | lr 4.51 | ms/batch 17.09 | loss  5.58 | ppl   266.30\n",
            "| epoch   2 |   800/ 2981 batches | lr 4.51 | ms/batch 17.12 | loss  5.63 | ppl   277.53\n",
            "| epoch   2 |  1000/ 2981 batches | lr 4.51 | ms/batch 17.13 | loss  5.58 | ppl   264.12\n",
            "| epoch   2 |  1200/ 2981 batches | lr 4.51 | ms/batch 17.20 | loss  5.60 | ppl   271.37\n",
            "| epoch   2 |  1400/ 2981 batches | lr 4.51 | ms/batch 17.28 | loss  5.61 | ppl   274.10\n",
            "| epoch   2 |  1600/ 2981 batches | lr 4.51 | ms/batch 17.30 | loss  5.65 | ppl   283.50\n",
            "| epoch   2 |  1800/ 2981 batches | lr 4.51 | ms/batch 17.41 | loss  5.57 | ppl   261.41\n",
            "| epoch   2 |  2000/ 2981 batches | lr 4.51 | ms/batch 17.43 | loss  5.61 | ppl   272.49\n",
            "| epoch   2 |  2200/ 2981 batches | lr 4.51 | ms/batch 17.44 | loss  5.50 | ppl   244.07\n",
            "| epoch   2 |  2400/ 2981 batches | lr 4.51 | ms/batch 17.55 | loss  5.57 | ppl   261.60\n",
            "| epoch   2 |  2600/ 2981 batches | lr 4.51 | ms/batch 17.67 | loss  5.58 | ppl   265.11\n",
            "| epoch   2 |  2800/ 2981 batches | lr 4.51 | ms/batch 17.66 | loss  5.50 | ppl   245.18\n",
            "-----------------------------------------------------------------------------------------\n",
            "| end of epoch   2 | time: 54.18s | valid loss  5.59 | valid ppl   266.66\n",
            "-----------------------------------------------------------------------------------------\n",
            "| epoch   3 |   200/ 2981 batches | lr 4.29 | ms/batch 17.67 | loss  5.54 | ppl   254.90\n",
            "| epoch   3 |   400/ 2981 batches | lr 4.29 | ms/batch 17.40 | loss  5.55 | ppl   256.32\n",
            "| epoch   3 |   600/ 2981 batches | lr 4.29 | ms/batch 17.41 | loss  5.36 | ppl   211.86\n",
            "| epoch   3 |   800/ 2981 batches | lr 4.29 | ms/batch 17.35 | loss  5.41 | ppl   223.17\n",
            "| epoch   3 |  1000/ 2981 batches | lr 4.29 | ms/batch 17.34 | loss  5.37 | ppl   215.28\n",
            "| epoch   3 |  1200/ 2981 batches | lr 4.29 | ms/batch 17.27 | loss  5.41 | ppl   223.75\n",
            "| epoch   3 |  1400/ 2981 batches | lr 4.29 | ms/batch 17.23 | loss  5.43 | ppl   228.14\n",
            "| epoch   3 |  1600/ 2981 batches | lr 4.29 | ms/batch 17.23 | loss  5.47 | ppl   236.73\n",
            "| epoch   3 |  1800/ 2981 batches | lr 4.29 | ms/batch 17.21 | loss  5.40 | ppl   222.20\n",
            "| epoch   3 |  2000/ 2981 batches | lr 4.29 | ms/batch 17.22 | loss  5.43 | ppl   228.46\n",
            "| epoch   3 |  2200/ 2981 batches | lr 4.29 | ms/batch 17.21 | loss  5.32 | ppl   205.26\n",
            "| epoch   3 |  2400/ 2981 batches | lr 4.29 | ms/batch 17.23 | loss  5.39 | ppl   220.26\n",
            "| epoch   3 |  2600/ 2981 batches | lr 4.29 | ms/batch 17.25 | loss  5.41 | ppl   223.05\n",
            "| epoch   3 |  2800/ 2981 batches | lr 4.29 | ms/batch 17.27 | loss  5.34 | ppl   209.39\n",
            "-----------------------------------------------------------------------------------------\n",
            "| end of epoch   3 | time: 54.08s | valid loss  5.50 | valid ppl   244.09\n",
            "-----------------------------------------------------------------------------------------\n"
          ],
          "name": "stdout"
        }
      ]
    },
    {
      "cell_type": "markdown",
      "metadata": {
        "colab_type": "text",
        "id": "nNQYOtZjiMh2"
      },
      "source": [
        "<!--\n",
        "# Evaluate the model with the test dataset\n",
        "-->\n",
        "\n",
        "# テストデータセットを用いたモデルの評価\n",
        "モデルをテストデータセットで評価します。\n",
        "\n",
        "<!--\n",
        "Apply the best model to check the result with the test dataset.\n",
        "-->\n",
        "\n"
      ]
    },
    {
      "cell_type": "code",
      "metadata": {
        "colab_type": "code",
        "id": "D_oL8nY7iMh4",
        "colab": {
          "base_uri": "https://localhost:8080/",
          "height": 68
        },
        "outputId": "4f3c2869-ee49-410b-c523-a6a20f8a1e93"
      },
      "source": [
        "test_loss = evaluate(best_model, test_data)\n",
        "print('=' * 89)\n",
        "print('| End of training | test loss {:5.2f} | test ppl {:8.2f}'.format(\n",
        "    test_loss, math.exp(test_loss)))\n",
        "print('=' * 89)"
      ],
      "execution_count": 14,
      "outputs": [
        {
          "output_type": "stream",
          "text": [
            "=========================================================================================\n",
            "| End of training | test loss  5.40 | test ppl   221.43\n",
            "=========================================================================================\n"
          ],
          "name": "stdout"
        }
      ]
    },
    {
      "cell_type": "code",
      "metadata": {
        "id": "lVvzLNIzy7kr",
        "colab_type": "code",
        "colab": {}
      },
      "source": [
        ""
      ],
      "execution_count": null,
      "outputs": []
    }
  ]
}